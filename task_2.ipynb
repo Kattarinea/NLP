{
 "cells": [
  {
   "cell_type": "code",
   "execution_count": 125,
   "outputs": [
    {
     "name": "stdout",
     "output_type": "stream",
     "text": [
      "Requirement already satisfied: scikit-learn in c:\\users\\катерина\\appdata\\local\\programs\\python\\python39\\lib\\site-packages (1.3.1)\n",
      "Requirement already satisfied: numpy<2.0,>=1.17.3 in c:\\users\\катерина\\appdata\\local\\programs\\python\\python39\\lib\\site-packages (from scikit-learn) (1.26.0)\n",
      "Requirement already satisfied: scipy>=1.5.0 in c:\\users\\катерина\\appdata\\local\\programs\\python\\python39\\lib\\site-packages (from scikit-learn) (1.11.3)\n",
      "Requirement already satisfied: joblib>=1.1.1 in c:\\users\\катерина\\appdata\\local\\programs\\python\\python39\\lib\\site-packages (from scikit-learn) (1.3.2)\n",
      "Requirement already satisfied: threadpoolctl>=2.0.0 in c:\\users\\катерина\\appdata\\local\\programs\\python\\python39\\lib\\site-packages (from scikit-learn) (3.2.0)\n",
      "Requirement already satisfied: spacy in c:\\users\\катерина\\appdata\\local\\programs\\python\\python39\\lib\\site-packages (3.7.0)\n",
      "Requirement already satisfied: spacy-legacy<3.1.0,>=3.0.11 in c:\\users\\катерина\\appdata\\local\\programs\\python\\python39\\lib\\site-packages (from spacy) (3.0.12)\n",
      "Requirement already satisfied: spacy-loggers<2.0.0,>=1.0.0 in c:\\users\\катерина\\appdata\\local\\programs\\python\\python39\\lib\\site-packages (from spacy) (1.0.5)\n",
      "Requirement already satisfied: murmurhash<1.1.0,>=0.28.0 in c:\\users\\катерина\\appdata\\local\\programs\\python\\python39\\lib\\site-packages (from spacy) (1.0.10)\n",
      "Requirement already satisfied: cymem<2.1.0,>=2.0.2 in c:\\users\\катерина\\appdata\\local\\programs\\python\\python39\\lib\\site-packages (from spacy) (2.0.8)\n",
      "Requirement already satisfied: preshed<3.1.0,>=3.0.2 in c:\\users\\катерина\\appdata\\local\\programs\\python\\python39\\lib\\site-packages (from spacy) (3.0.9)\n",
      "Requirement already satisfied: thinc<8.3.0,>=8.1.8 in c:\\users\\катерина\\appdata\\local\\programs\\python\\python39\\lib\\site-packages (from spacy) (8.2.1)\n",
      "Requirement already satisfied: wasabi<1.2.0,>=0.9.1 in c:\\users\\катерина\\appdata\\local\\programs\\python\\python39\\lib\\site-packages (from spacy) (1.1.2)\n",
      "Requirement already satisfied: srsly<3.0.0,>=2.4.3 in c:\\users\\катерина\\appdata\\local\\programs\\python\\python39\\lib\\site-packages (from spacy) (2.4.8)\n",
      "Requirement already satisfied: catalogue<2.1.0,>=2.0.6 in c:\\users\\катерина\\appdata\\local\\programs\\python\\python39\\lib\\site-packages (from spacy) (2.0.10)\n",
      "Requirement already satisfied: weasel<0.4.0,>=0.1.0 in c:\\users\\катерина\\appdata\\local\\programs\\python\\python39\\lib\\site-packages (from spacy) (0.3.1)\n",
      "Requirement already satisfied: typer<0.10.0,>=0.3.0 in c:\\users\\катерина\\appdata\\local\\programs\\python\\python39\\lib\\site-packages (from spacy) (0.7.0)\n",
      "Requirement already satisfied: pathy>=0.10.0 in c:\\users\\катерина\\appdata\\local\\programs\\python\\python39\\lib\\site-packages (from spacy) (0.10.2)\n",
      "Requirement already satisfied: smart-open<7.0.0,>=5.2.1 in c:\\users\\катерина\\appdata\\local\\programs\\python\\python39\\lib\\site-packages (from spacy) (6.4.0)\n",
      "Requirement already satisfied: tqdm<5.0.0,>=4.38.0 in c:\\users\\катерина\\appdata\\local\\programs\\python\\python39\\lib\\site-packages (from spacy) (4.66.1)\n",
      "Requirement already satisfied: requests<3.0.0,>=2.13.0 in c:\\users\\катерина\\appdata\\local\\programs\\python\\python39\\lib\\site-packages (from spacy) (2.31.0)\n",
      "Requirement already satisfied: pydantic!=1.8,!=1.8.1,<3.0.0,>=1.7.4 in c:\\users\\катерина\\appdata\\local\\programs\\python\\python39\\lib\\site-packages (from spacy) (2.4.2)\n",
      "Requirement already satisfied: jinja2 in c:\\users\\катерина\\appdata\\local\\programs\\python\\python39\\lib\\site-packages (from spacy) (3.1.2)\n",
      "Requirement already satisfied: setuptools in c:\\users\\катерина\\appdata\\local\\programs\\python\\python39\\lib\\site-packages (from spacy) (58.1.0)\n",
      "Requirement already satisfied: packaging>=20.0 in c:\\users\\катерина\\appdata\\local\\programs\\python\\python39\\lib\\site-packages (from spacy) (23.1)\n",
      "Requirement already satisfied: langcodes<4.0.0,>=3.2.0 in c:\\users\\катерина\\appdata\\local\\programs\\python\\python39\\lib\\site-packages (from spacy) (3.3.0)\n",
      "Requirement already satisfied: numpy>=1.19.0 in c:\\users\\катерина\\appdata\\local\\programs\\python\\python39\\lib\\site-packages (from spacy) (1.26.0)\n",
      "Requirement already satisfied: annotated-types>=0.4.0 in c:\\users\\катерина\\appdata\\local\\programs\\python\\python39\\lib\\site-packages (from pydantic!=1.8,!=1.8.1,<3.0.0,>=1.7.4->spacy) (0.5.0)\n",
      "Requirement already satisfied: pydantic-core==2.10.1 in c:\\users\\катерина\\appdata\\local\\programs\\python\\python39\\lib\\site-packages (from pydantic!=1.8,!=1.8.1,<3.0.0,>=1.7.4->spacy) (2.10.1)\n",
      "Requirement already satisfied: typing-extensions>=4.6.1 in c:\\users\\катерина\\appdata\\local\\programs\\python\\python39\\lib\\site-packages (from pydantic!=1.8,!=1.8.1,<3.0.0,>=1.7.4->spacy) (4.8.0)\n",
      "Requirement already satisfied: charset-normalizer<4,>=2 in c:\\users\\катерина\\appdata\\local\\programs\\python\\python39\\lib\\site-packages (from requests<3.0.0,>=2.13.0->spacy) (3.2.0)\n",
      "Requirement already satisfied: idna<4,>=2.5 in c:\\users\\катерина\\appdata\\local\\programs\\python\\python39\\lib\\site-packages (from requests<3.0.0,>=2.13.0->spacy) (3.4)\n",
      "Requirement already satisfied: urllib3<3,>=1.21.1 in c:\\users\\катерина\\appdata\\local\\programs\\python\\python39\\lib\\site-packages (from requests<3.0.0,>=2.13.0->spacy) (2.0.4)\n",
      "Requirement already satisfied: certifi>=2017.4.17 in c:\\users\\катерина\\appdata\\local\\programs\\python\\python39\\lib\\site-packages (from requests<3.0.0,>=2.13.0->spacy) (2023.7.22)\n",
      "Requirement already satisfied: blis<0.8.0,>=0.7.8 in c:\\users\\катерина\\appdata\\local\\programs\\python\\python39\\lib\\site-packages (from thinc<8.3.0,>=8.1.8->spacy) (0.7.11)\n",
      "Requirement already satisfied: confection<1.0.0,>=0.0.1 in c:\\users\\катерина\\appdata\\local\\programs\\python\\python39\\lib\\site-packages (from thinc<8.3.0,>=8.1.8->spacy) (0.1.3)\n",
      "Requirement already satisfied: colorama in c:\\users\\катерина\\appdata\\local\\programs\\python\\python39\\lib\\site-packages (from tqdm<5.0.0,>=4.38.0->spacy) (0.4.6)\n",
      "Requirement already satisfied: click<9.0.0,>=7.1.1 in c:\\users\\катерина\\appdata\\local\\programs\\python\\python39\\lib\\site-packages (from typer<0.10.0,>=0.3.0->spacy) (8.1.7)\n",
      "Requirement already satisfied: cloudpathlib<0.16.0,>=0.7.0 in c:\\users\\катерина\\appdata\\local\\programs\\python\\python39\\lib\\site-packages (from weasel<0.4.0,>=0.1.0->spacy) (0.15.1)\n",
      "Requirement already satisfied: MarkupSafe>=2.0 in c:\\users\\катерина\\appdata\\local\\programs\\python\\python39\\lib\\site-packages (from jinja2->spacy) (2.1.3)\n",
      "Collecting seaborn\n",
      "  Obtaining dependency information for seaborn from https://files.pythonhosted.org/packages/7b/e5/83fcd7e9db036c179e0352bfcd20f81d728197a16f883e7b90307a88e65e/seaborn-0.13.0-py3-none-any.whl.metadata\n",
      "  Downloading seaborn-0.13.0-py3-none-any.whl.metadata (5.3 kB)\n",
      "Requirement already satisfied: numpy!=1.24.0,>=1.20 in c:\\users\\катерина\\appdata\\local\\programs\\python\\python39\\lib\\site-packages (from seaborn) (1.26.0)\n",
      "Requirement already satisfied: pandas>=1.2 in c:\\users\\катерина\\appdata\\local\\programs\\python\\python39\\lib\\site-packages (from seaborn) (2.1.1)\n",
      "Collecting matplotlib!=3.6.1,>=3.3 (from seaborn)\n",
      "  Obtaining dependency information for matplotlib!=3.6.1,>=3.3 from https://files.pythonhosted.org/packages/01/50/0d8d8f044e2a0d8151e9ed59fe50924e9e697ba43a8b12d5ff9b45adb871/matplotlib-3.8.0-cp39-cp39-win_amd64.whl.metadata\n",
      "  Downloading matplotlib-3.8.0-cp39-cp39-win_amd64.whl.metadata (5.9 kB)\n",
      "Collecting contourpy>=1.0.1 (from matplotlib!=3.6.1,>=3.3->seaborn)\n",
      "  Obtaining dependency information for contourpy>=1.0.1 from https://files.pythonhosted.org/packages/87/2b/9b49451f7412cc1a79198e94a771a4e52d65c479aae610b1161c0290ef2c/contourpy-1.1.1-cp39-cp39-win_amd64.whl.metadata\n",
      "  Downloading contourpy-1.1.1-cp39-cp39-win_amd64.whl.metadata (5.9 kB)\n",
      "Collecting cycler>=0.10 (from matplotlib!=3.6.1,>=3.3->seaborn)\n",
      "  Obtaining dependency information for cycler>=0.10 from https://files.pythonhosted.org/packages/2b/b3/70c33027c4918c10ccf176014b38f8b91cb18ac018a78854543a4fc72609/cycler-0.12.0-py3-none-any.whl.metadata\n",
      "  Downloading cycler-0.12.0-py3-none-any.whl.metadata (3.8 kB)\n",
      "Collecting fonttools>=4.22.0 (from matplotlib!=3.6.1,>=3.3->seaborn)\n",
      "  Obtaining dependency information for fonttools>=4.22.0 from https://files.pythonhosted.org/packages/17/92/ae0f19b89e5d163057757d4a03d1a6949372204e9b0ad233fd13862d3c90/fonttools-4.43.0-cp39-cp39-win_amd64.whl.metadata\n",
      "  Downloading fonttools-4.43.0-cp39-cp39-win_amd64.whl.metadata (154 kB)\n",
      "     ---------------------------------------- 0.0/155.0 kB ? eta -:--:--\n",
      "     ------------------ -------------------- 71.7/155.0 kB 1.3 MB/s eta 0:00:01\n",
      "     -------------------------------------- 155.0/155.0 kB 2.3 MB/s eta 0:00:00\n",
      "Collecting kiwisolver>=1.0.1 (from matplotlib!=3.6.1,>=3.3->seaborn)\n",
      "  Obtaining dependency information for kiwisolver>=1.0.1 from https://files.pythonhosted.org/packages/ca/c1/1f986c8119c0c57c2bd71d1941da23332c38ee2c90117e46dff4358b70f7/kiwisolver-1.4.5-cp39-cp39-win_amd64.whl.metadata\n",
      "  Downloading kiwisolver-1.4.5-cp39-cp39-win_amd64.whl.metadata (6.5 kB)\n",
      "Requirement already satisfied: packaging>=20.0 in c:\\users\\катерина\\appdata\\local\\programs\\python\\python39\\lib\\site-packages (from matplotlib!=3.6.1,>=3.3->seaborn) (23.1)\n",
      "Collecting pillow>=6.2.0 (from matplotlib!=3.6.1,>=3.3->seaborn)\n",
      "  Obtaining dependency information for pillow>=6.2.0 from https://files.pythonhosted.org/packages/a8/fd/ce5fab4a15f4e38c5f6b86377f2c2ef6c92ec9a48e7296048251057a58ec/Pillow-10.0.1-cp39-cp39-win_amd64.whl.metadata\n",
      "  Downloading Pillow-10.0.1-cp39-cp39-win_amd64.whl.metadata (9.6 kB)\n",
      "Collecting pyparsing>=2.3.1 (from matplotlib!=3.6.1,>=3.3->seaborn)\n",
      "  Obtaining dependency information for pyparsing>=2.3.1 from https://files.pythonhosted.org/packages/39/92/8486ede85fcc088f1b3dba4ce92dd29d126fd96b0008ea213167940a2475/pyparsing-3.1.1-py3-none-any.whl.metadata\n",
      "  Downloading pyparsing-3.1.1-py3-none-any.whl.metadata (5.1 kB)\n",
      "Requirement already satisfied: python-dateutil>=2.7 in c:\\users\\катерина\\appdata\\local\\programs\\python\\python39\\lib\\site-packages (from matplotlib!=3.6.1,>=3.3->seaborn) (2.8.2)\n",
      "Collecting importlib-resources>=3.2.0 (from matplotlib!=3.6.1,>=3.3->seaborn)\n",
      "  Obtaining dependency information for importlib-resources>=3.2.0 from https://files.pythonhosted.org/packages/65/6e/09d8816b5cb7a4006ef8ad1717a2703ad9f331dae9717d9f22488a2d6469/importlib_resources-6.1.0-py3-none-any.whl.metadata\n",
      "  Downloading importlib_resources-6.1.0-py3-none-any.whl.metadata (4.1 kB)\n",
      "Requirement already satisfied: pytz>=2020.1 in c:\\users\\катерина\\appdata\\local\\programs\\python\\python39\\lib\\site-packages (from pandas>=1.2->seaborn) (2023.3.post1)\n",
      "Requirement already satisfied: tzdata>=2022.1 in c:\\users\\катерина\\appdata\\local\\programs\\python\\python39\\lib\\site-packages (from pandas>=1.2->seaborn) (2023.3)\n",
      "Requirement already satisfied: zipp>=3.1.0 in c:\\users\\катерина\\appdata\\local\\programs\\python\\python39\\lib\\site-packages (from importlib-resources>=3.2.0->matplotlib!=3.6.1,>=3.3->seaborn) (3.16.2)\n",
      "Requirement already satisfied: six>=1.5 in c:\\users\\катерина\\appdata\\local\\programs\\python\\python39\\lib\\site-packages (from python-dateutil>=2.7->matplotlib!=3.6.1,>=3.3->seaborn) (1.16.0)\n",
      "Downloading seaborn-0.13.0-py3-none-any.whl (294 kB)\n",
      "   ---------------------------------------- 0.0/294.6 kB ? eta -:--:--\n",
      "   -------------------- ------------------- 153.6/294.6 kB 4.5 MB/s eta 0:00:01\n",
      "   ---------------------------------------- 294.6/294.6 kB 3.6 MB/s eta 0:00:00\n",
      "Downloading matplotlib-3.8.0-cp39-cp39-win_amd64.whl (7.6 MB)\n",
      "   ---------------------------------------- 0.0/7.6 MB ? eta -:--:--\n",
      "   -- ------------------------------------- 0.5/7.6 MB 9.4 MB/s eta 0:00:01\n",
      "   ----- ---------------------------------- 1.0/7.6 MB 10.7 MB/s eta 0:00:01\n",
      "   -------- ------------------------------- 1.5/7.6 MB 10.9 MB/s eta 0:00:01\n",
      "   ---------- ----------------------------- 2.1/7.6 MB 11.0 MB/s eta 0:00:01\n",
      "   ------------- -------------------------- 2.6/7.6 MB 11.1 MB/s eta 0:00:01\n",
      "   ---------------- ----------------------- 3.1/7.6 MB 11.0 MB/s eta 0:00:01\n",
      "   ------------------- -------------------- 3.7/7.6 MB 11.1 MB/s eta 0:00:01\n",
      "   --------------------- ------------------ 4.2/7.6 MB 11.1 MB/s eta 0:00:01\n",
      "   ------------------------ --------------- 4.7/7.6 MB 11.6 MB/s eta 0:00:01\n",
      "   --------------------------- ------------ 5.3/7.6 MB 11.6 MB/s eta 0:00:01\n",
      "   ------------------------------ --------- 5.8/7.6 MB 11.6 MB/s eta 0:00:01\n",
      "   --------------------------------- ------ 6.3/7.6 MB 11.6 MB/s eta 0:00:01\n",
      "   ------------------------------------ --- 6.9/7.6 MB 11.6 MB/s eta 0:00:01\n",
      "   -------------------------------------- - 7.4/7.6 MB 11.6 MB/s eta 0:00:01\n",
      "   ---------------------------------------- 7.6/7.6 MB 11.4 MB/s eta 0:00:00\n",
      "Downloading contourpy-1.1.1-cp39-cp39-win_amd64.whl (435 kB)\n",
      "   ---------------------------------------- 0.0/436.0 kB ? eta -:--:--\n",
      "   ---------------------------------------- 436.0/436.0 kB 9.1 MB/s eta 0:00:00\n",
      "Downloading cycler-0.12.0-py3-none-any.whl (8.2 kB)\n",
      "Downloading fonttools-4.43.0-cp39-cp39-win_amd64.whl (2.1 MB)\n",
      "   ---------------------------------------- 0.0/2.1 MB ? eta -:--:--\n",
      "   --------- ------------------------------ 0.5/2.1 MB 10.9 MB/s eta 0:00:01\n",
      "   ------------------- -------------------- 1.1/2.1 MB 11.2 MB/s eta 0:00:01\n",
      "   ------------------------------ --------- 1.6/2.1 MB 12.8 MB/s eta 0:00:01\n",
      "   ---------------------------------------  2.1/2.1 MB 12.3 MB/s eta 0:00:01\n",
      "   ---------------------------------------- 2.1/2.1 MB 11.4 MB/s eta 0:00:00\n",
      "Downloading importlib_resources-6.1.0-py3-none-any.whl (33 kB)\n",
      "Downloading kiwisolver-1.4.5-cp39-cp39-win_amd64.whl (56 kB)\n",
      "   ---------------------------------------- 0.0/56.2 kB ? eta -:--:--\n",
      "   ---------------------------------------- 56.2/56.2 kB ? eta 0:00:00\n",
      "Downloading Pillow-10.0.1-cp39-cp39-win_amd64.whl (2.5 MB)\n",
      "   ---------------------------------------- 0.0/2.5 MB ? eta -:--:--\n",
      "   -------- ------------------------------- 0.6/2.5 MB 11.5 MB/s eta 0:00:01\n",
      "   ----------------- ---------------------- 1.1/2.5 MB 11.5 MB/s eta 0:00:01\n",
      "   --------------------------- ------------ 1.7/2.5 MB 12.3 MB/s eta 0:00:01\n",
      "   ------------------------------------ --- 2.3/2.5 MB 11.1 MB/s eta 0:00:01\n",
      "   ---------------------------------------- 2.5/2.5 MB 10.7 MB/s eta 0:00:00\n",
      "Downloading pyparsing-3.1.1-py3-none-any.whl (103 kB)\n",
      "   ---------------------------------------- 0.0/103.1 kB ? eta -:--:--\n",
      "   ---------------------------------------- 103.1/103.1 kB 5.8 MB/s eta 0:00:00\n",
      "Installing collected packages: pyparsing, pillow, kiwisolver, importlib-resources, fonttools, cycler, contourpy, matplotlib, seaborn\n",
      "Successfully installed contourpy-1.1.1 cycler-0.12.0 fonttools-4.43.0 importlib-resources-6.1.0 kiwisolver-1.4.5 matplotlib-3.8.0 pillow-10.0.1 pyparsing-3.1.1 seaborn-0.13.0\n",
      "Collecting en-core-web-sm==3.7.0\n",
      "  Downloading https://github.com/explosion/spacy-models/releases/download/en_core_web_sm-3.7.0/en_core_web_sm-3.7.0-py3-none-any.whl (12.8 MB)\n",
      "     ---------------------------------------- 0.0/12.8 MB ? eta -:--:--\n",
      "     ---------------------------------------- 0.1/12.8 MB 1.3 MB/s eta 0:00:10\n",
      "      --------------------------------------- 0.2/12.8 MB 2.5 MB/s eta 0:00:05\n",
      "     - -------------------------------------- 0.4/12.8 MB 2.9 MB/s eta 0:00:05\n",
      "     -- ------------------------------------- 0.9/12.8 MB 4.7 MB/s eta 0:00:03\n",
      "     ---- ----------------------------------- 1.4/12.8 MB 6.1 MB/s eta 0:00:02\n",
      "     ------ --------------------------------- 2.0/12.8 MB 7.0 MB/s eta 0:00:02\n",
      "     ------- -------------------------------- 2.5/12.8 MB 7.6 MB/s eta 0:00:02\n",
      "     --------- ------------------------------ 3.1/12.8 MB 8.1 MB/s eta 0:00:02\n",
      "     ----------- ---------------------------- 3.7/12.8 MB 9.1 MB/s eta 0:00:01\n",
      "     ------------- -------------------------- 4.3/12.8 MB 9.1 MB/s eta 0:00:01\n",
      "     --------------- ------------------------ 4.8/12.8 MB 9.3 MB/s eta 0:00:01\n",
      "     ---------------- ----------------------- 5.4/12.8 MB 9.5 MB/s eta 0:00:01\n",
      "     ------------------ --------------------- 5.9/12.8 MB 9.7 MB/s eta 0:00:01\n",
      "     -------------------- ------------------- 6.4/12.8 MB 9.8 MB/s eta 0:00:01\n",
      "     --------------------- ------------------ 7.0/12.8 MB 9.9 MB/s eta 0:00:01\n",
      "     ----------------------- ---------------- 7.5/12.8 MB 10.0 MB/s eta 0:00:01\n",
      "     ------------------------- -------------- 8.1/12.8 MB 10.1 MB/s eta 0:00:01\n",
      "     -------------------------- ------------- 8.6/12.8 MB 10.2 MB/s eta 0:00:01\n",
      "     ---------------------------- ----------- 9.1/12.8 MB 10.3 MB/s eta 0:00:01\n",
      "     ------------------------------ --------- 9.7/12.8 MB 10.5 MB/s eta 0:00:01\n",
      "     ------------------------------- ------- 10.3/12.8 MB 10.7 MB/s eta 0:00:01\n",
      "     -------------------------------- ------ 10.8/12.8 MB 11.7 MB/s eta 0:00:01\n",
      "     ---------------------------------- ---- 11.3/12.8 MB 11.9 MB/s eta 0:00:01\n",
      "     ------------------------------------ -- 11.9/12.8 MB 11.9 MB/s eta 0:00:01\n",
      "     ------------------------------------- - 12.4/12.8 MB 11.9 MB/s eta 0:00:01\n",
      "     --------------------------------------  12.8/12.8 MB 11.9 MB/s eta 0:00:01\n",
      "     --------------------------------------- 12.8/12.8 MB 11.5 MB/s eta 0:00:00\n",
      "Requirement already satisfied: spacy<3.8.0,>=3.7.0 in c:\\users\\катерина\\appdata\\local\\programs\\python\\python39\\lib\\site-packages (from en-core-web-sm==3.7.0) (3.7.0)\n",
      "Requirement already satisfied: spacy-legacy<3.1.0,>=3.0.11 in c:\\users\\катерина\\appdata\\local\\programs\\python\\python39\\lib\\site-packages (from spacy<3.8.0,>=3.7.0->en-core-web-sm==3.7.0) (3.0.12)\n",
      "Requirement already satisfied: spacy-loggers<2.0.0,>=1.0.0 in c:\\users\\катерина\\appdata\\local\\programs\\python\\python39\\lib\\site-packages (from spacy<3.8.0,>=3.7.0->en-core-web-sm==3.7.0) (1.0.5)\n",
      "Requirement already satisfied: murmurhash<1.1.0,>=0.28.0 in c:\\users\\катерина\\appdata\\local\\programs\\python\\python39\\lib\\site-packages (from spacy<3.8.0,>=3.7.0->en-core-web-sm==3.7.0) (1.0.10)\n",
      "Requirement already satisfied: cymem<2.1.0,>=2.0.2 in c:\\users\\катерина\\appdata\\local\\programs\\python\\python39\\lib\\site-packages (from spacy<3.8.0,>=3.7.0->en-core-web-sm==3.7.0) (2.0.8)\n",
      "Requirement already satisfied: preshed<3.1.0,>=3.0.2 in c:\\users\\катерина\\appdata\\local\\programs\\python\\python39\\lib\\site-packages (from spacy<3.8.0,>=3.7.0->en-core-web-sm==3.7.0) (3.0.9)\n",
      "Requirement already satisfied: thinc<8.3.0,>=8.1.8 in c:\\users\\катерина\\appdata\\local\\programs\\python\\python39\\lib\\site-packages (from spacy<3.8.0,>=3.7.0->en-core-web-sm==3.7.0) (8.2.1)\n",
      "Requirement already satisfied: wasabi<1.2.0,>=0.9.1 in c:\\users\\катерина\\appdata\\local\\programs\\python\\python39\\lib\\site-packages (from spacy<3.8.0,>=3.7.0->en-core-web-sm==3.7.0) (1.1.2)\n",
      "Requirement already satisfied: srsly<3.0.0,>=2.4.3 in c:\\users\\катерина\\appdata\\local\\programs\\python\\python39\\lib\\site-packages (from spacy<3.8.0,>=3.7.0->en-core-web-sm==3.7.0) (2.4.8)\n",
      "Requirement already satisfied: catalogue<2.1.0,>=2.0.6 in c:\\users\\катерина\\appdata\\local\\programs\\python\\python39\\lib\\site-packages (from spacy<3.8.0,>=3.7.0->en-core-web-sm==3.7.0) (2.0.10)\n",
      "Requirement already satisfied: weasel<0.4.0,>=0.1.0 in c:\\users\\катерина\\appdata\\local\\programs\\python\\python39\\lib\\site-packages (from spacy<3.8.0,>=3.7.0->en-core-web-sm==3.7.0) (0.3.1)\n",
      "Requirement already satisfied: typer<0.10.0,>=0.3.0 in c:\\users\\катерина\\appdata\\local\\programs\\python\\python39\\lib\\site-packages (from spacy<3.8.0,>=3.7.0->en-core-web-sm==3.7.0) (0.7.0)\n",
      "Requirement already satisfied: pathy>=0.10.0 in c:\\users\\катерина\\appdata\\local\\programs\\python\\python39\\lib\\site-packages (from spacy<3.8.0,>=3.7.0->en-core-web-sm==3.7.0) (0.10.2)\n",
      "Requirement already satisfied: smart-open<7.0.0,>=5.2.1 in c:\\users\\катерина\\appdata\\local\\programs\\python\\python39\\lib\\site-packages (from spacy<3.8.0,>=3.7.0->en-core-web-sm==3.7.0) (6.4.0)\n",
      "Requirement already satisfied: tqdm<5.0.0,>=4.38.0 in c:\\users\\катерина\\appdata\\local\\programs\\python\\python39\\lib\\site-packages (from spacy<3.8.0,>=3.7.0->en-core-web-sm==3.7.0) (4.66.1)\n",
      "Requirement already satisfied: requests<3.0.0,>=2.13.0 in c:\\users\\катерина\\appdata\\local\\programs\\python\\python39\\lib\\site-packages (from spacy<3.8.0,>=3.7.0->en-core-web-sm==3.7.0) (2.31.0)\n",
      "Requirement already satisfied: pydantic!=1.8,!=1.8.1,<3.0.0,>=1.7.4 in c:\\users\\катерина\\appdata\\local\\programs\\python\\python39\\lib\\site-packages (from spacy<3.8.0,>=3.7.0->en-core-web-sm==3.7.0) (2.4.2)\n",
      "Requirement already satisfied: jinja2 in c:\\users\\катерина\\appdata\\local\\programs\\python\\python39\\lib\\site-packages (from spacy<3.8.0,>=3.7.0->en-core-web-sm==3.7.0) (3.1.2)\n",
      "Requirement already satisfied: setuptools in c:\\users\\катерина\\appdata\\local\\programs\\python\\python39\\lib\\site-packages (from spacy<3.8.0,>=3.7.0->en-core-web-sm==3.7.0) (58.1.0)\n",
      "Requirement already satisfied: packaging>=20.0 in c:\\users\\катерина\\appdata\\local\\programs\\python\\python39\\lib\\site-packages (from spacy<3.8.0,>=3.7.0->en-core-web-sm==3.7.0) (23.1)\n",
      "Requirement already satisfied: langcodes<4.0.0,>=3.2.0 in c:\\users\\катерина\\appdata\\local\\programs\\python\\python39\\lib\\site-packages (from spacy<3.8.0,>=3.7.0->en-core-web-sm==3.7.0) (3.3.0)\n",
      "Requirement already satisfied: numpy>=1.19.0 in c:\\users\\катерина\\appdata\\local\\programs\\python\\python39\\lib\\site-packages (from spacy<3.8.0,>=3.7.0->en-core-web-sm==3.7.0) (1.26.0)\n",
      "Requirement already satisfied: annotated-types>=0.4.0 in c:\\users\\катерина\\appdata\\local\\programs\\python\\python39\\lib\\site-packages (from pydantic!=1.8,!=1.8.1,<3.0.0,>=1.7.4->spacy<3.8.0,>=3.7.0->en-core-web-sm==3.7.0) (0.5.0)\n",
      "Requirement already satisfied: pydantic-core==2.10.1 in c:\\users\\катерина\\appdata\\local\\programs\\python\\python39\\lib\\site-packages (from pydantic!=1.8,!=1.8.1,<3.0.0,>=1.7.4->spacy<3.8.0,>=3.7.0->en-core-web-sm==3.7.0) (2.10.1)\n",
      "Requirement already satisfied: typing-extensions>=4.6.1 in c:\\users\\катерина\\appdata\\local\\programs\\python\\python39\\lib\\site-packages (from pydantic!=1.8,!=1.8.1,<3.0.0,>=1.7.4->spacy<3.8.0,>=3.7.0->en-core-web-sm==3.7.0) (4.8.0)\n",
      "Requirement already satisfied: charset-normalizer<4,>=2 in c:\\users\\катерина\\appdata\\local\\programs\\python\\python39\\lib\\site-packages (from requests<3.0.0,>=2.13.0->spacy<3.8.0,>=3.7.0->en-core-web-sm==3.7.0) (3.2.0)\n",
      "Requirement already satisfied: idna<4,>=2.5 in c:\\users\\катерина\\appdata\\local\\programs\\python\\python39\\lib\\site-packages (from requests<3.0.0,>=2.13.0->spacy<3.8.0,>=3.7.0->en-core-web-sm==3.7.0) (3.4)\n",
      "Requirement already satisfied: urllib3<3,>=1.21.1 in c:\\users\\катерина\\appdata\\local\\programs\\python\\python39\\lib\\site-packages (from requests<3.0.0,>=2.13.0->spacy<3.8.0,>=3.7.0->en-core-web-sm==3.7.0) (2.0.4)\n",
      "Requirement already satisfied: certifi>=2017.4.17 in c:\\users\\катерина\\appdata\\local\\programs\\python\\python39\\lib\\site-packages (from requests<3.0.0,>=2.13.0->spacy<3.8.0,>=3.7.0->en-core-web-sm==3.7.0) (2023.7.22)\n",
      "Requirement already satisfied: blis<0.8.0,>=0.7.8 in c:\\users\\катерина\\appdata\\local\\programs\\python\\python39\\lib\\site-packages (from thinc<8.3.0,>=8.1.8->spacy<3.8.0,>=3.7.0->en-core-web-sm==3.7.0) (0.7.11)\n",
      "Requirement already satisfied: confection<1.0.0,>=0.0.1 in c:\\users\\катерина\\appdata\\local\\programs\\python\\python39\\lib\\site-packages (from thinc<8.3.0,>=8.1.8->spacy<3.8.0,>=3.7.0->en-core-web-sm==3.7.0) (0.1.3)\n",
      "Requirement already satisfied: colorama in c:\\users\\катерина\\appdata\\local\\programs\\python\\python39\\lib\\site-packages (from tqdm<5.0.0,>=4.38.0->spacy<3.8.0,>=3.7.0->en-core-web-sm==3.7.0) (0.4.6)\n",
      "Requirement already satisfied: click<9.0.0,>=7.1.1 in c:\\users\\катерина\\appdata\\local\\programs\\python\\python39\\lib\\site-packages (from typer<0.10.0,>=0.3.0->spacy<3.8.0,>=3.7.0->en-core-web-sm==3.7.0) (8.1.7)\n",
      "Requirement already satisfied: cloudpathlib<0.16.0,>=0.7.0 in c:\\users\\катерина\\appdata\\local\\programs\\python\\python39\\lib\\site-packages (from weasel<0.4.0,>=0.1.0->spacy<3.8.0,>=3.7.0->en-core-web-sm==3.7.0) (0.15.1)\n",
      "Requirement already satisfied: MarkupSafe>=2.0 in c:\\users\\катерина\\appdata\\local\\programs\\python\\python39\\lib\\site-packages (from jinja2->spacy<3.8.0,>=3.7.0->en-core-web-sm==3.7.0) (2.1.3)\n",
      "\u001B[38;5;2m[+] Download and installation successful\u001B[0m\n",
      "You can now load the package via spacy.load('en_core_web_sm')\n"
     ]
    }
   ],
   "source": [
    "!pip install scikit-learn\n",
    "!pip install spacy\n",
    "!pip install seaborn\n",
    "!python -m spacy download en_core_web_sm\n",
    "!pip install cloudpickle"
   ],
   "metadata": {
    "collapsed": false,
    "ExecuteTime": {
     "end_time": "2023-10-04T13:40:24.677233500Z",
     "start_time": "2023-10-04T13:40:09.792403200Z"
    }
   },
   "id": "f74c57dca6ffdfea"
  },
  {
   "cell_type": "code",
   "execution_count": 1,
   "outputs": [],
   "source": [
    "import pandas as pd\n",
    "import spacy\n",
    "import cloudpickle\n",
    "import seaborn as sns\n",
    "import numpy as np\n",
    "import matplotlib.pyplot as plt\n",
    "from sklearn.pipeline import Pipeline\n",
    "from sklearn.model_selection import train_test_split\n",
    "from sklearn.feature_extraction.text import CountVectorizer, TfidfVectorizer\n",
    "from sklearn.linear_model import LogisticRegression\n",
    "from sklearn.tree import DecisionTreeClassifier\n",
    "from sklearn.naive_bayes import MultinomialNB\n",
    "from sklearn.metrics import classification_report\n",
    "from sklearn.model_selection import GridSearchCV\n",
    "from sklearn.experimental import enable_halving_search_cv\n",
    "from sklearn.model_selection import HalvingGridSearchCV"
   ],
   "metadata": {
    "collapsed": false,
    "ExecuteTime": {
     "end_time": "2023-10-05T07:36:53.189847200Z",
     "start_time": "2023-10-05T07:36:51.421209200Z"
    }
   },
   "id": "initial_id"
  },
  {
   "cell_type": "code",
   "execution_count": 3,
   "outputs": [
    {
     "data": {
      "text/plain": "                                               email  label\n0   date wed NUMBER aug NUMBER NUMBER NUMBER NUMB...      0\n1  martin a posted tassos papadopoulos the greek ...      0\n2  man threatens explosion in moscow thursday aug...      0\n3  klez the virus that won t die already the most...      0\n4   in adding cream to spaghetti carbonara which ...      0",
      "text/html": "<div>\n<style scoped>\n    .dataframe tbody tr th:only-of-type {\n        vertical-align: middle;\n    }\n\n    .dataframe tbody tr th {\n        vertical-align: top;\n    }\n\n    .dataframe thead th {\n        text-align: right;\n    }\n</style>\n<table border=\"1\" class=\"dataframe\">\n  <thead>\n    <tr style=\"text-align: right;\">\n      <th></th>\n      <th>email</th>\n      <th>label</th>\n    </tr>\n  </thead>\n  <tbody>\n    <tr>\n      <th>0</th>\n      <td>date wed NUMBER aug NUMBER NUMBER NUMBER NUMB...</td>\n      <td>0</td>\n    </tr>\n    <tr>\n      <th>1</th>\n      <td>martin a posted tassos papadopoulos the greek ...</td>\n      <td>0</td>\n    </tr>\n    <tr>\n      <th>2</th>\n      <td>man threatens explosion in moscow thursday aug...</td>\n      <td>0</td>\n    </tr>\n    <tr>\n      <th>3</th>\n      <td>klez the virus that won t die already the most...</td>\n      <td>0</td>\n    </tr>\n    <tr>\n      <th>4</th>\n      <td>in adding cream to spaghetti carbonara which ...</td>\n      <td>0</td>\n    </tr>\n  </tbody>\n</table>\n</div>"
     },
     "execution_count": 3,
     "metadata": {},
     "output_type": "execute_result"
    }
   ],
   "source": [
    "data = pd.read_csv('spam_or_not_spam.csv')\n",
    "data.head()"
   ],
   "metadata": {
    "collapsed": false,
    "ExecuteTime": {
     "end_time": "2023-10-05T07:41:10.217953600Z",
     "start_time": "2023-10-05T07:41:10.178823100Z"
    }
   },
   "id": "a062b8f7628abffe"
  },
  {
   "cell_type": "markdown",
   "source": [
    "# Обработка датасета\n",
    "Как видно из содержимого датасета, метки уже имеют удобный, бинарный вид (0 и 1), поэтому тут менять ничего не нужно.\n",
    "В нашем датасете соотношение \"spam\" и \"not spam\" составляет 5 к 1, что не так плохо.\n",
    "Необходимо проверить, есть ли в датасете пустые значения. Если да, то такие записи необходимо удалить. У нас есть только одна такая запись под индексом 2966."
   ],
   "metadata": {
    "collapsed": false
   },
   "id": "5a36aeb4521ab6ea"
  },
  {
   "cell_type": "code",
   "execution_count": 4,
   "outputs": [
    {
     "data": {
      "text/plain": "label\n0    2500\n1     500\nName: count, dtype: int64"
     },
     "execution_count": 4,
     "metadata": {},
     "output_type": "execute_result"
    }
   ],
   "source": [
    "data['label'].value_counts()"
   ],
   "metadata": {
    "collapsed": false,
    "ExecuteTime": {
     "end_time": "2023-10-05T07:41:14.624004500Z",
     "start_time": "2023-10-05T07:41:14.614973100Z"
    }
   },
   "id": "cb190419e82b1040"
  },
  {
   "cell_type": "code",
   "execution_count": 7,
   "outputs": [
    {
     "data": {
      "text/plain": "Empty DataFrame\nColumns: [email, label]\nIndex: []",
      "text/html": "<div>\n<style scoped>\n    .dataframe tbody tr th:only-of-type {\n        vertical-align: middle;\n    }\n\n    .dataframe tbody tr th {\n        vertical-align: top;\n    }\n\n    .dataframe thead th {\n        text-align: right;\n    }\n</style>\n<table border=\"1\" class=\"dataframe\">\n  <thead>\n    <tr style=\"text-align: right;\">\n      <th></th>\n      <th>email</th>\n      <th>label</th>\n    </tr>\n  </thead>\n  <tbody>\n  </tbody>\n</table>\n</div>"
     },
     "execution_count": 7,
     "metadata": {},
     "output_type": "execute_result"
    }
   ],
   "source": [
    "pd.isnull(data['email']).values.sum()\n",
    "n = pd.isnull(data['email'])\n",
    "data[n]"
   ],
   "metadata": {
    "collapsed": false,
    "ExecuteTime": {
     "end_time": "2023-10-05T07:41:22.293682900Z",
     "start_time": "2023-10-05T07:41:22.271645Z"
    }
   },
   "id": "64551c253f4479ec"
  },
  {
   "cell_type": "code",
   "execution_count": 6,
   "outputs": [],
   "source": [
    "data = data.dropna()"
   ],
   "metadata": {
    "collapsed": false,
    "ExecuteTime": {
     "end_time": "2023-10-05T07:41:20.888266900Z",
     "start_time": "2023-10-05T07:41:20.878645400Z"
    }
   },
   "id": "5f5d68c86a071a6a"
  },
  {
   "cell_type": "markdown",
   "source": [
    "Для обработки текста использовался SpaCy. Были убраны все стоп-слова из списка, цифры, знаки препинания, лишние пробелы. Текст был приведен к нижнему регистру и лемматизирован. Решено было не убирать токены, похожие на email, так как они могут присутствовать в spam сообщениях."
   ],
   "metadata": {
    "collapsed": false
   },
   "id": "4473761761d3fc6f"
  },
  {
   "cell_type": "code",
   "execution_count": 8,
   "outputs": [],
   "source": [
    "nlp = spacy.load('en_core_web_sm')\n",
    "stopwords = nlp.Defaults.stop_words\n",
    "data['cleaned_text'] = data['email'].apply(\n",
    "    lambda x: ' '.join(\n",
    "        token.lemma_.lower() for token in nlp(x) if\n",
    "        not token.is_stop\n",
    "        and not token.is_space\n",
    "        and not token.like_num\n",
    "        and not token.is_punct\n",
    "        and not token.is_digit\n",
    "    ))"
   ],
   "metadata": {
    "collapsed": false,
    "ExecuteTime": {
     "end_time": "2023-10-05T07:42:13.212576900Z",
     "start_time": "2023-10-05T07:41:26.604926300Z"
    }
   },
   "id": "a5c09a6539b85213"
  },
  {
   "cell_type": "code",
   "execution_count": 9,
   "outputs": [
    {
     "data": {
      "text/plain": "838     tuesday number october number number number mr...\n2037    url url date number number numbertnumber numbe...\n2672    hello zzzz url see nbc cbs cnn oprah health di...\n944     robert elz kre munnari oz au date sit number a...\n1141    begin pgp sign message hash shanumber content ...\n2079    url url date number number numbertnumber numbe...\n1513    update cvsroot spamassassin spamassassin t dir...\nName: cleaned_text, dtype: object"
     },
     "execution_count": 9,
     "metadata": {},
     "output_type": "execute_result"
    }
   ],
   "source": [
    "data['cleaned_text'].sample(7)"
   ],
   "metadata": {
    "collapsed": false,
    "ExecuteTime": {
     "end_time": "2023-10-05T07:42:49.075101700Z",
     "start_time": "2023-10-05T07:42:49.070083800Z"
    }
   },
   "id": "96545f351e48efa6"
  },
  {
   "cell_type": "code",
   "execution_count": 10,
   "outputs": [],
   "source": [
    "cv = 5\n",
    "metric = 'recall'\n",
    "random_state = 42"
   ],
   "metadata": {
    "collapsed": false,
    "ExecuteTime": {
     "end_time": "2023-10-05T07:42:53.476607900Z",
     "start_time": "2023-10-05T07:42:53.468699900Z"
    }
   },
   "id": "365778822aff3ce1"
  },
  {
   "cell_type": "code",
   "execution_count": 11,
   "outputs": [],
   "source": [
    "x_train, x_test, y_train, y_test = train_test_split(data['cleaned_text'], data['label'], random_state=random_state)"
   ],
   "metadata": {
    "collapsed": false,
    "ExecuteTime": {
     "end_time": "2023-10-05T07:43:00.724941800Z",
     "start_time": "2023-10-05T07:43:00.696220300Z"
    }
   },
   "id": "c71c3c584ec6e026"
  },
  {
   "cell_type": "markdown",
   "source": [
    "# CountVectorizer\n",
    "В данном разделе получим вектора при помощи CountVectorizer; обучим модели: дерево решений, логистическая регрессия и наивный Байес с использованием кросс-валидации и подбором гиперпараметров. \n",
    "Для оценки качества использовалась метрика recall, т.к. для данной задачи нам важно понимать, как много мы находим спама. Для подбора гиперпараметров использовался GridSearchCV и HalvingGridSearchCV."
   ],
   "metadata": {
    "collapsed": false
   },
   "id": "f21b3aa8386aaafa"
  },
  {
   "cell_type": "markdown",
   "source": [
    "### LogisticRegression:"
   ],
   "metadata": {
    "collapsed": false
   },
   "id": "45f5428d739c3f1a"
  },
  {
   "cell_type": "code",
   "execution_count": 12,
   "outputs": [],
   "source": [
    "pipe_log_reg = Pipeline(\n",
    "    steps=[\n",
    "        ('counter', CountVectorizer()),\n",
    "        ('clf', LogisticRegression())\n",
    "    ]\n",
    ")"
   ],
   "metadata": {
    "collapsed": false,
    "ExecuteTime": {
     "end_time": "2023-10-05T07:43:04.077652900Z",
     "start_time": "2023-10-05T07:43:04.067892Z"
    }
   },
   "id": "ede11209ead8aff6"
  },
  {
   "cell_type": "code",
   "execution_count": 19,
   "outputs": [],
   "source": [
    "param_grid_log_reg = {\n",
    "    'counter__max_df': np.linspace(0.3, 0.7, 10),\n",
    "    'counter__min_df': [0.0, 0.001, 0.003, 0.005],\n",
    "    'counter__ngram_range': [(1, 1), (1, 2), (1, 3)],\n",
    "    'clf__C': np.linspace(0.1, 1, 10),\n",
    "}"
   ],
   "metadata": {
    "collapsed": false,
    "ExecuteTime": {
     "end_time": "2023-10-05T07:52:07.350244200Z",
     "start_time": "2023-10-05T07:52:07.337198100Z"
    }
   },
   "id": "77f4ff4a404c1c6a"
  },
  {
   "cell_type": "code",
   "execution_count": 20,
   "outputs": [
    {
     "name": "stdout",
     "output_type": "stream",
     "text": [
      "Fitting 5 folds for each of 1200 candidates, totalling 6000 fits\n"
     ]
    }
   ],
   "source": [
    "grid_search_log_reg = GridSearchCV(\n",
    "    pipe_log_reg,\n",
    "    param_grid=param_grid_log_reg,\n",
    "    n_jobs=20,\n",
    "    verbose=1,\n",
    "    cv=cv,\n",
    "    scoring=metric,\n",
    ").fit(x_train, y_train)"
   ],
   "metadata": {
    "collapsed": false,
    "ExecuteTime": {
     "end_time": "2023-10-05T08:00:02.250270700Z",
     "start_time": "2023-10-05T07:52:09.641526500Z"
    }
   },
   "id": "91e3aca3bb865b21"
  },
  {
   "cell_type": "code",
   "execution_count": 21,
   "outputs": [
    {
     "data": {
      "text/plain": "0.9414385964912281"
     },
     "execution_count": 21,
     "metadata": {},
     "output_type": "execute_result"
    }
   ],
   "source": [
    "grid_search_log_reg.best_score_"
   ],
   "metadata": {
    "collapsed": false,
    "ExecuteTime": {
     "end_time": "2023-10-05T08:02:01.442549500Z",
     "start_time": "2023-10-05T08:02:01.429504700Z"
    }
   },
   "id": "35fa9b96e71ffeb0"
  },
  {
   "cell_type": "code",
   "execution_count": 51,
   "outputs": [
    {
     "name": "stdout",
     "output_type": "stream",
     "text": [
      "              precision    recall  f1-score   support\n",
      "\n",
      "           0       0.99      1.00      0.99       627\n",
      "           1       0.99      0.95      0.97       123\n",
      "\n",
      "    accuracy                           0.99       750\n",
      "   macro avg       0.99      0.97      0.98       750\n",
      "weighted avg       0.99      0.99      0.99       750\n"
     ]
    }
   ],
   "source": [
    "pred_log_reg = grid_search_log_reg.best_estimator_.predict(x_test)\n",
    "print(classification_report(y_test, pred_log_reg))\n",
    "score_log_reg = grid_search_log_reg.score(x_test, y_test)"
   ],
   "metadata": {
    "collapsed": false,
    "ExecuteTime": {
     "end_time": "2023-10-05T09:10:49.008029700Z",
     "start_time": "2023-10-05T09:10:48.879924600Z"
    }
   },
   "id": "9f9572dc0f013a2c"
  },
  {
   "cell_type": "code",
   "execution_count": 23,
   "outputs": [
    {
     "name": "stdout",
     "output_type": "stream",
     "text": [
      "n_iterations: 5\n",
      "n_required_iterations: 7\n",
      "n_possible_iterations: 5\n",
      "min_resources_: 20\n",
      "max_resources_: 2249\n",
      "aggressive_elimination: False\n",
      "factor: 3\n",
      "----------\n",
      "iter: 0\n",
      "n_candidates: 1200\n",
      "n_resources: 20\n",
      "Fitting 5 folds for each of 1200 candidates, totalling 6000 fits\n",
      "----------\n",
      "iter: 1\n",
      "n_candidates: 400\n",
      "n_resources: 60\n",
      "Fitting 5 folds for each of 400 candidates, totalling 2000 fits\n",
      "----------\n",
      "iter: 2\n",
      "n_candidates: 134\n",
      "n_resources: 180\n",
      "Fitting 5 folds for each of 134 candidates, totalling 670 fits\n",
      "----------\n",
      "iter: 3\n",
      "n_candidates: 45\n",
      "n_resources: 540\n",
      "Fitting 5 folds for each of 45 candidates, totalling 225 fits\n",
      "----------\n",
      "iter: 4\n",
      "n_candidates: 15\n",
      "n_resources: 1620\n",
      "Fitting 5 folds for each of 15 candidates, totalling 75 fits\n",
      "CPU times: total: 6.31 s\n",
      "Wall time: 12.8 s\n"
     ]
    },
    {
     "data": {
      "text/plain": "HalvingGridSearchCV(estimator=Pipeline(steps=[('counter', CountVectorizer()),\n                                              ('clf', LogisticRegression())]),\n                    n_jobs=20,\n                    param_grid={'clf__C': array([0.1, 0.2, 0.3, 0.4, 0.5, 0.6, 0.7, 0.8, 0.9, 1. ]),\n                                'counter__max_df': array([0.3       , 0.34444444, 0.38888889, 0.43333333, 0.47777778,\n       0.52222222, 0.56666667, 0.61111111, 0.65555556, 0.7       ]),\n                                'counter__min_df': [0.0, 0.001, 0.003, 0.005],\n                                'counter__ngram_range': [(1, 1), (1, 2),\n                                                         (1, 3)]},\n                    random_state=42, scoring='recall', verbose=1)",
      "text/html": "<style>#sk-container-id-1 {color: black;}#sk-container-id-1 pre{padding: 0;}#sk-container-id-1 div.sk-toggleable {background-color: white;}#sk-container-id-1 label.sk-toggleable__label {cursor: pointer;display: block;width: 100%;margin-bottom: 0;padding: 0.3em;box-sizing: border-box;text-align: center;}#sk-container-id-1 label.sk-toggleable__label-arrow:before {content: \"▸\";float: left;margin-right: 0.25em;color: #696969;}#sk-container-id-1 label.sk-toggleable__label-arrow:hover:before {color: black;}#sk-container-id-1 div.sk-estimator:hover label.sk-toggleable__label-arrow:before {color: black;}#sk-container-id-1 div.sk-toggleable__content {max-height: 0;max-width: 0;overflow: hidden;text-align: left;background-color: #f0f8ff;}#sk-container-id-1 div.sk-toggleable__content pre {margin: 0.2em;color: black;border-radius: 0.25em;background-color: #f0f8ff;}#sk-container-id-1 input.sk-toggleable__control:checked~div.sk-toggleable__content {max-height: 200px;max-width: 100%;overflow: auto;}#sk-container-id-1 input.sk-toggleable__control:checked~label.sk-toggleable__label-arrow:before {content: \"▾\";}#sk-container-id-1 div.sk-estimator input.sk-toggleable__control:checked~label.sk-toggleable__label {background-color: #d4ebff;}#sk-container-id-1 div.sk-label input.sk-toggleable__control:checked~label.sk-toggleable__label {background-color: #d4ebff;}#sk-container-id-1 input.sk-hidden--visually {border: 0;clip: rect(1px 1px 1px 1px);clip: rect(1px, 1px, 1px, 1px);height: 1px;margin: -1px;overflow: hidden;padding: 0;position: absolute;width: 1px;}#sk-container-id-1 div.sk-estimator {font-family: monospace;background-color: #f0f8ff;border: 1px dotted black;border-radius: 0.25em;box-sizing: border-box;margin-bottom: 0.5em;}#sk-container-id-1 div.sk-estimator:hover {background-color: #d4ebff;}#sk-container-id-1 div.sk-parallel-item::after {content: \"\";width: 100%;border-bottom: 1px solid gray;flex-grow: 1;}#sk-container-id-1 div.sk-label:hover label.sk-toggleable__label {background-color: #d4ebff;}#sk-container-id-1 div.sk-serial::before {content: \"\";position: absolute;border-left: 1px solid gray;box-sizing: border-box;top: 0;bottom: 0;left: 50%;z-index: 0;}#sk-container-id-1 div.sk-serial {display: flex;flex-direction: column;align-items: center;background-color: white;padding-right: 0.2em;padding-left: 0.2em;position: relative;}#sk-container-id-1 div.sk-item {position: relative;z-index: 1;}#sk-container-id-1 div.sk-parallel {display: flex;align-items: stretch;justify-content: center;background-color: white;position: relative;}#sk-container-id-1 div.sk-item::before, #sk-container-id-1 div.sk-parallel-item::before {content: \"\";position: absolute;border-left: 1px solid gray;box-sizing: border-box;top: 0;bottom: 0;left: 50%;z-index: -1;}#sk-container-id-1 div.sk-parallel-item {display: flex;flex-direction: column;z-index: 1;position: relative;background-color: white;}#sk-container-id-1 div.sk-parallel-item:first-child::after {align-self: flex-end;width: 50%;}#sk-container-id-1 div.sk-parallel-item:last-child::after {align-self: flex-start;width: 50%;}#sk-container-id-1 div.sk-parallel-item:only-child::after {width: 0;}#sk-container-id-1 div.sk-dashed-wrapped {border: 1px dashed gray;margin: 0 0.4em 0.5em 0.4em;box-sizing: border-box;padding-bottom: 0.4em;background-color: white;}#sk-container-id-1 div.sk-label label {font-family: monospace;font-weight: bold;display: inline-block;line-height: 1.2em;}#sk-container-id-1 div.sk-label-container {text-align: center;}#sk-container-id-1 div.sk-container {/* jupyter's `normalize.less` sets `[hidden] { display: none; }` but bootstrap.min.css set `[hidden] { display: none !important; }` so we also need the `!important` here to be able to override the default hidden behavior on the sphinx rendered scikit-learn.org. See: https://github.com/scikit-learn/scikit-learn/issues/21755 */display: inline-block !important;position: relative;}#sk-container-id-1 div.sk-text-repr-fallback {display: none;}</style><div id=\"sk-container-id-1\" class=\"sk-top-container\"><div class=\"sk-text-repr-fallback\"><pre>HalvingGridSearchCV(estimator=Pipeline(steps=[(&#x27;counter&#x27;, CountVectorizer()),\n                                              (&#x27;clf&#x27;, LogisticRegression())]),\n                    n_jobs=20,\n                    param_grid={&#x27;clf__C&#x27;: array([0.1, 0.2, 0.3, 0.4, 0.5, 0.6, 0.7, 0.8, 0.9, 1. ]),\n                                &#x27;counter__max_df&#x27;: array([0.3       , 0.34444444, 0.38888889, 0.43333333, 0.47777778,\n       0.52222222, 0.56666667, 0.61111111, 0.65555556, 0.7       ]),\n                                &#x27;counter__min_df&#x27;: [0.0, 0.001, 0.003, 0.005],\n                                &#x27;counter__ngram_range&#x27;: [(1, 1), (1, 2),\n                                                         (1, 3)]},\n                    random_state=42, scoring=&#x27;recall&#x27;, verbose=1)</pre><b>In a Jupyter environment, please rerun this cell to show the HTML representation or trust the notebook. <br />On GitHub, the HTML representation is unable to render, please try loading this page with nbviewer.org.</b></div><div class=\"sk-container\" hidden><div class=\"sk-item sk-dashed-wrapped\"><div class=\"sk-label-container\"><div class=\"sk-label sk-toggleable\"><input class=\"sk-toggleable__control sk-hidden--visually\" id=\"sk-estimator-id-1\" type=\"checkbox\" ><label for=\"sk-estimator-id-1\" class=\"sk-toggleable__label sk-toggleable__label-arrow\">HalvingGridSearchCV</label><div class=\"sk-toggleable__content\"><pre>HalvingGridSearchCV(estimator=Pipeline(steps=[(&#x27;counter&#x27;, CountVectorizer()),\n                                              (&#x27;clf&#x27;, LogisticRegression())]),\n                    n_jobs=20,\n                    param_grid={&#x27;clf__C&#x27;: array([0.1, 0.2, 0.3, 0.4, 0.5, 0.6, 0.7, 0.8, 0.9, 1. ]),\n                                &#x27;counter__max_df&#x27;: array([0.3       , 0.34444444, 0.38888889, 0.43333333, 0.47777778,\n       0.52222222, 0.56666667, 0.61111111, 0.65555556, 0.7       ]),\n                                &#x27;counter__min_df&#x27;: [0.0, 0.001, 0.003, 0.005],\n                                &#x27;counter__ngram_range&#x27;: [(1, 1), (1, 2),\n                                                         (1, 3)]},\n                    random_state=42, scoring=&#x27;recall&#x27;, verbose=1)</pre></div></div></div><div class=\"sk-parallel\"><div class=\"sk-parallel-item\"><div class=\"sk-item\"><div class=\"sk-label-container\"><div class=\"sk-label sk-toggleable\"><input class=\"sk-toggleable__control sk-hidden--visually\" id=\"sk-estimator-id-2\" type=\"checkbox\" ><label for=\"sk-estimator-id-2\" class=\"sk-toggleable__label sk-toggleable__label-arrow\">estimator: Pipeline</label><div class=\"sk-toggleable__content\"><pre>Pipeline(steps=[(&#x27;counter&#x27;, CountVectorizer()), (&#x27;clf&#x27;, LogisticRegression())])</pre></div></div></div><div class=\"sk-serial\"><div class=\"sk-item\"><div class=\"sk-serial\"><div class=\"sk-item\"><div class=\"sk-estimator sk-toggleable\"><input class=\"sk-toggleable__control sk-hidden--visually\" id=\"sk-estimator-id-3\" type=\"checkbox\" ><label for=\"sk-estimator-id-3\" class=\"sk-toggleable__label sk-toggleable__label-arrow\">CountVectorizer</label><div class=\"sk-toggleable__content\"><pre>CountVectorizer()</pre></div></div></div><div class=\"sk-item\"><div class=\"sk-estimator sk-toggleable\"><input class=\"sk-toggleable__control sk-hidden--visually\" id=\"sk-estimator-id-4\" type=\"checkbox\" ><label for=\"sk-estimator-id-4\" class=\"sk-toggleable__label sk-toggleable__label-arrow\">LogisticRegression</label><div class=\"sk-toggleable__content\"><pre>LogisticRegression()</pre></div></div></div></div></div></div></div></div></div></div></div></div>"
     },
     "execution_count": 23,
     "metadata": {},
     "output_type": "execute_result"
    }
   ],
   "source": [
    "%%time\n",
    "\n",
    "grid_search_log_reg_h = HalvingGridSearchCV(\n",
    "    pipe_log_reg,\n",
    "    param_grid=param_grid_log_reg,\n",
    "    n_jobs=20,\n",
    "    verbose=1,\n",
    "    cv=cv,\n",
    "    scoring=metric,\n",
    "    random_state=random_state,\n",
    ")\n",
    "grid_search_log_reg_h.fit(x_train, y_train)"
   ],
   "metadata": {
    "collapsed": false,
    "ExecuteTime": {
     "end_time": "2023-10-05T08:02:21.047683Z",
     "start_time": "2023-10-05T08:02:08.181709700Z"
    }
   },
   "id": "5f09cd52cc809877"
  },
  {
   "cell_type": "code",
   "execution_count": 24,
   "outputs": [
    {
     "data": {
      "text/plain": "0.8678656628559036"
     },
     "execution_count": 24,
     "metadata": {},
     "output_type": "execute_result"
    }
   ],
   "source": [
    "grid_search_log_reg_h.best_score_"
   ],
   "metadata": {
    "collapsed": false,
    "ExecuteTime": {
     "end_time": "2023-10-05T08:02:25.850550800Z",
     "start_time": "2023-10-05T08:02:25.809869900Z"
    }
   },
   "id": "750bec8ce37330a5"
  },
  {
   "cell_type": "code",
   "execution_count": 50,
   "outputs": [
    {
     "name": "stdout",
     "output_type": "stream",
     "text": [
      "              precision    recall  f1-score   support\n",
      "\n",
      "           0       0.98      0.99      0.99       627\n",
      "           1       0.96      0.92      0.94       123\n",
      "\n",
      "    accuracy                           0.98       750\n",
      "   macro avg       0.97      0.96      0.96       750\n",
      "weighted avg       0.98      0.98      0.98       750\n"
     ]
    }
   ],
   "source": [
    "pred_log_reg_h = grid_search_log_reg_h.best_estimator_.predict(x_test)\n",
    "print(classification_report(y_test, pred_log_reg_h))\n",
    "score_log_reg_h = grid_search_log_reg_h.score(x_test, y_test)"
   ],
   "metadata": {
    "collapsed": false,
    "ExecuteTime": {
     "end_time": "2023-10-05T09:09:55.520822900Z",
     "start_time": "2023-10-05T09:09:55.470931100Z"
    }
   },
   "id": "a29d3091e8b4eb69"
  },
  {
   "cell_type": "markdown",
   "source": [
    "### DecisionTreeClassifier:"
   ],
   "metadata": {
    "collapsed": false
   },
   "id": "5ce26b98f2a7ceed"
  },
  {
   "cell_type": "code",
   "execution_count": 26,
   "outputs": [],
   "source": [
    "pipe_tree = Pipeline(\n",
    "    steps=[\n",
    "        ('counter', CountVectorizer()),\n",
    "        ('clf', DecisionTreeClassifier())\n",
    "    ]\n",
    ")"
   ],
   "metadata": {
    "collapsed": false,
    "ExecuteTime": {
     "end_time": "2023-10-05T08:02:32.966601100Z",
     "start_time": "2023-10-05T08:02:32.956574300Z"
    }
   },
   "id": "6f445bb4556ed4a"
  },
  {
   "cell_type": "code",
   "execution_count": 29,
   "outputs": [],
   "source": [
    "param_grid_tree = {\n",
    "    'counter__max_df': np.linspace(0.3, 0.7, 10),\n",
    "    'counter__min_df': [0.0, 0.001, 0.003, 0.005],\n",
    "    'counter__ngram_range': [(1, 1), (1, 2), (1, 3)],\n",
    "    'clf__max_depth': [4, 6, 8],\n",
    "    'clf__min_samples_split': [2, 6, 10, 14, 18],\n",
    "    'clf__min_samples_leaf': [2, 6, 10, 14, 18],\n",
    "}"
   ],
   "metadata": {
    "collapsed": false,
    "ExecuteTime": {
     "end_time": "2023-10-05T08:32:49.793123800Z",
     "start_time": "2023-10-05T08:32:49.785096Z"
    }
   },
   "id": "5dc3f22d1441bfcc"
  },
  {
   "cell_type": "code",
   "execution_count": 32,
   "outputs": [
    {
     "name": "stdout",
     "output_type": "stream",
     "text": [
      "Fitting 5 folds for each of 9000 candidates, totalling 45000 fits\n",
      "CPU times: total: 2min 48s\n",
      "Wall time: 28min 21s\n"
     ]
    },
    {
     "data": {
      "text/plain": "GridSearchCV(cv=5,\n             estimator=Pipeline(steps=[('counter', CountVectorizer()),\n                                       ('clf', DecisionTreeClassifier())]),\n             n_jobs=20,\n             param_grid={'clf__max_depth': [4, 6, 8],\n                         'clf__min_samples_leaf': [2, 6, 10, 14, 18],\n                         'clf__min_samples_split': [2, 6, 10, 14, 18],\n                         'counter__max_df': array([0.3       , 0.34444444, 0.38888889, 0.43333333, 0.47777778,\n       0.52222222, 0.56666667, 0.61111111, 0.65555556, 0.7       ]),\n                         'counter__min_df': [0.0, 0.001, 0.003, 0.005],\n                         'counter__ngram_range': [(1, 1), (1, 2), (1, 3)]},\n             scoring='recall', verbose=1)",
      "text/html": "<style>#sk-container-id-2 {color: black;}#sk-container-id-2 pre{padding: 0;}#sk-container-id-2 div.sk-toggleable {background-color: white;}#sk-container-id-2 label.sk-toggleable__label {cursor: pointer;display: block;width: 100%;margin-bottom: 0;padding: 0.3em;box-sizing: border-box;text-align: center;}#sk-container-id-2 label.sk-toggleable__label-arrow:before {content: \"▸\";float: left;margin-right: 0.25em;color: #696969;}#sk-container-id-2 label.sk-toggleable__label-arrow:hover:before {color: black;}#sk-container-id-2 div.sk-estimator:hover label.sk-toggleable__label-arrow:before {color: black;}#sk-container-id-2 div.sk-toggleable__content {max-height: 0;max-width: 0;overflow: hidden;text-align: left;background-color: #f0f8ff;}#sk-container-id-2 div.sk-toggleable__content pre {margin: 0.2em;color: black;border-radius: 0.25em;background-color: #f0f8ff;}#sk-container-id-2 input.sk-toggleable__control:checked~div.sk-toggleable__content {max-height: 200px;max-width: 100%;overflow: auto;}#sk-container-id-2 input.sk-toggleable__control:checked~label.sk-toggleable__label-arrow:before {content: \"▾\";}#sk-container-id-2 div.sk-estimator input.sk-toggleable__control:checked~label.sk-toggleable__label {background-color: #d4ebff;}#sk-container-id-2 div.sk-label input.sk-toggleable__control:checked~label.sk-toggleable__label {background-color: #d4ebff;}#sk-container-id-2 input.sk-hidden--visually {border: 0;clip: rect(1px 1px 1px 1px);clip: rect(1px, 1px, 1px, 1px);height: 1px;margin: -1px;overflow: hidden;padding: 0;position: absolute;width: 1px;}#sk-container-id-2 div.sk-estimator {font-family: monospace;background-color: #f0f8ff;border: 1px dotted black;border-radius: 0.25em;box-sizing: border-box;margin-bottom: 0.5em;}#sk-container-id-2 div.sk-estimator:hover {background-color: #d4ebff;}#sk-container-id-2 div.sk-parallel-item::after {content: \"\";width: 100%;border-bottom: 1px solid gray;flex-grow: 1;}#sk-container-id-2 div.sk-label:hover label.sk-toggleable__label {background-color: #d4ebff;}#sk-container-id-2 div.sk-serial::before {content: \"\";position: absolute;border-left: 1px solid gray;box-sizing: border-box;top: 0;bottom: 0;left: 50%;z-index: 0;}#sk-container-id-2 div.sk-serial {display: flex;flex-direction: column;align-items: center;background-color: white;padding-right: 0.2em;padding-left: 0.2em;position: relative;}#sk-container-id-2 div.sk-item {position: relative;z-index: 1;}#sk-container-id-2 div.sk-parallel {display: flex;align-items: stretch;justify-content: center;background-color: white;position: relative;}#sk-container-id-2 div.sk-item::before, #sk-container-id-2 div.sk-parallel-item::before {content: \"\";position: absolute;border-left: 1px solid gray;box-sizing: border-box;top: 0;bottom: 0;left: 50%;z-index: -1;}#sk-container-id-2 div.sk-parallel-item {display: flex;flex-direction: column;z-index: 1;position: relative;background-color: white;}#sk-container-id-2 div.sk-parallel-item:first-child::after {align-self: flex-end;width: 50%;}#sk-container-id-2 div.sk-parallel-item:last-child::after {align-self: flex-start;width: 50%;}#sk-container-id-2 div.sk-parallel-item:only-child::after {width: 0;}#sk-container-id-2 div.sk-dashed-wrapped {border: 1px dashed gray;margin: 0 0.4em 0.5em 0.4em;box-sizing: border-box;padding-bottom: 0.4em;background-color: white;}#sk-container-id-2 div.sk-label label {font-family: monospace;font-weight: bold;display: inline-block;line-height: 1.2em;}#sk-container-id-2 div.sk-label-container {text-align: center;}#sk-container-id-2 div.sk-container {/* jupyter's `normalize.less` sets `[hidden] { display: none; }` but bootstrap.min.css set `[hidden] { display: none !important; }` so we also need the `!important` here to be able to override the default hidden behavior on the sphinx rendered scikit-learn.org. See: https://github.com/scikit-learn/scikit-learn/issues/21755 */display: inline-block !important;position: relative;}#sk-container-id-2 div.sk-text-repr-fallback {display: none;}</style><div id=\"sk-container-id-2\" class=\"sk-top-container\"><div class=\"sk-text-repr-fallback\"><pre>GridSearchCV(cv=5,\n             estimator=Pipeline(steps=[(&#x27;counter&#x27;, CountVectorizer()),\n                                       (&#x27;clf&#x27;, DecisionTreeClassifier())]),\n             n_jobs=20,\n             param_grid={&#x27;clf__max_depth&#x27;: [4, 6, 8],\n                         &#x27;clf__min_samples_leaf&#x27;: [2, 6, 10, 14, 18],\n                         &#x27;clf__min_samples_split&#x27;: [2, 6, 10, 14, 18],\n                         &#x27;counter__max_df&#x27;: array([0.3       , 0.34444444, 0.38888889, 0.43333333, 0.47777778,\n       0.52222222, 0.56666667, 0.61111111, 0.65555556, 0.7       ]),\n                         &#x27;counter__min_df&#x27;: [0.0, 0.001, 0.003, 0.005],\n                         &#x27;counter__ngram_range&#x27;: [(1, 1), (1, 2), (1, 3)]},\n             scoring=&#x27;recall&#x27;, verbose=1)</pre><b>In a Jupyter environment, please rerun this cell to show the HTML representation or trust the notebook. <br />On GitHub, the HTML representation is unable to render, please try loading this page with nbviewer.org.</b></div><div class=\"sk-container\" hidden><div class=\"sk-item sk-dashed-wrapped\"><div class=\"sk-label-container\"><div class=\"sk-label sk-toggleable\"><input class=\"sk-toggleable__control sk-hidden--visually\" id=\"sk-estimator-id-5\" type=\"checkbox\" ><label for=\"sk-estimator-id-5\" class=\"sk-toggleable__label sk-toggleable__label-arrow\">GridSearchCV</label><div class=\"sk-toggleable__content\"><pre>GridSearchCV(cv=5,\n             estimator=Pipeline(steps=[(&#x27;counter&#x27;, CountVectorizer()),\n                                       (&#x27;clf&#x27;, DecisionTreeClassifier())]),\n             n_jobs=20,\n             param_grid={&#x27;clf__max_depth&#x27;: [4, 6, 8],\n                         &#x27;clf__min_samples_leaf&#x27;: [2, 6, 10, 14, 18],\n                         &#x27;clf__min_samples_split&#x27;: [2, 6, 10, 14, 18],\n                         &#x27;counter__max_df&#x27;: array([0.3       , 0.34444444, 0.38888889, 0.43333333, 0.47777778,\n       0.52222222, 0.56666667, 0.61111111, 0.65555556, 0.7       ]),\n                         &#x27;counter__min_df&#x27;: [0.0, 0.001, 0.003, 0.005],\n                         &#x27;counter__ngram_range&#x27;: [(1, 1), (1, 2), (1, 3)]},\n             scoring=&#x27;recall&#x27;, verbose=1)</pre></div></div></div><div class=\"sk-parallel\"><div class=\"sk-parallel-item\"><div class=\"sk-item\"><div class=\"sk-label-container\"><div class=\"sk-label sk-toggleable\"><input class=\"sk-toggleable__control sk-hidden--visually\" id=\"sk-estimator-id-6\" type=\"checkbox\" ><label for=\"sk-estimator-id-6\" class=\"sk-toggleable__label sk-toggleable__label-arrow\">estimator: Pipeline</label><div class=\"sk-toggleable__content\"><pre>Pipeline(steps=[(&#x27;counter&#x27;, CountVectorizer()),\n                (&#x27;clf&#x27;, DecisionTreeClassifier())])</pre></div></div></div><div class=\"sk-serial\"><div class=\"sk-item\"><div class=\"sk-serial\"><div class=\"sk-item\"><div class=\"sk-estimator sk-toggleable\"><input class=\"sk-toggleable__control sk-hidden--visually\" id=\"sk-estimator-id-7\" type=\"checkbox\" ><label for=\"sk-estimator-id-7\" class=\"sk-toggleable__label sk-toggleable__label-arrow\">CountVectorizer</label><div class=\"sk-toggleable__content\"><pre>CountVectorizer()</pre></div></div></div><div class=\"sk-item\"><div class=\"sk-estimator sk-toggleable\"><input class=\"sk-toggleable__control sk-hidden--visually\" id=\"sk-estimator-id-8\" type=\"checkbox\" ><label for=\"sk-estimator-id-8\" class=\"sk-toggleable__label sk-toggleable__label-arrow\">DecisionTreeClassifier</label><div class=\"sk-toggleable__content\"><pre>DecisionTreeClassifier()</pre></div></div></div></div></div></div></div></div></div></div></div></div>"
     },
     "execution_count": 32,
     "metadata": {},
     "output_type": "execute_result"
    }
   ],
   "source": [
    "grid_search_tree = GridSearchCV(\n",
    "    pipe_tree,\n",
    "    param_grid=param_grid_tree,\n",
    "    n_jobs=20,\n",
    "    verbose=1,\n",
    "    cv=cv,\n",
    "    scoring=metric,\n",
    ").fit(x_train, y_train)"
   ],
   "metadata": {
    "collapsed": false,
    "ExecuteTime": {
     "end_time": "2023-10-05T09:02:32.610956200Z",
     "start_time": "2023-10-05T08:34:11.088829100Z"
    }
   },
   "id": "929e15ed6f43f045"
  },
  {
   "cell_type": "code",
   "execution_count": 33,
   "outputs": [
    {
     "data": {
      "text/plain": "0.8430877192982458"
     },
     "execution_count": 33,
     "metadata": {},
     "output_type": "execute_result"
    }
   ],
   "source": [
    "grid_search_tree.best_score_"
   ],
   "metadata": {
    "collapsed": false,
    "ExecuteTime": {
     "end_time": "2023-10-05T09:02:39.102019900Z",
     "start_time": "2023-10-05T09:02:39.093702300Z"
    }
   },
   "id": "7990c70f34022f9c"
  },
  {
   "cell_type": "code",
   "execution_count": 52,
   "outputs": [
    {
     "name": "stdout",
     "output_type": "stream",
     "text": [
      "              precision    recall  f1-score   support\n",
      "\n",
      "           0       0.97      0.98      0.97       627\n",
      "           1       0.87      0.82      0.85       123\n",
      "\n",
      "    accuracy                           0.95       750\n",
      "   macro avg       0.92      0.90      0.91       750\n",
      "weighted avg       0.95      0.95      0.95       750\n"
     ]
    }
   ],
   "source": [
    "pred_tree = grid_search_tree.best_estimator_.predict(x_test)\n",
    "print(classification_report(y_test, pred_tree))\n",
    "score_tree = grid_search_tree.score(x_test, y_test)\n",
    "modelTree = grid_search_tree"
   ],
   "metadata": {
    "collapsed": false,
    "ExecuteTime": {
     "end_time": "2023-10-05T09:11:11.997902400Z",
     "start_time": "2023-10-05T09:11:11.958774Z"
    }
   },
   "id": "9f921fe0fada13d0"
  },
  {
   "cell_type": "markdown",
   "source": [
    "Т.к. гиперпараметров довольно много, обучение происходит довольно долго, поэтому было решено сохранить лучшую модель в файл, чтобы не запускать каждый раз обучение и иметь возможность сразу построить графики."
   ],
   "metadata": {
    "collapsed": false
   },
   "id": "280e8cc0836283ba"
  },
  {
   "cell_type": "code",
   "execution_count": 35,
   "outputs": [
    {
     "name": "stdout",
     "output_type": "stream",
     "text": [
      "Collecting cloudpickle\n",
      "  Downloading cloudpickle-2.2.1-py3-none-any.whl (25 kB)\n",
      "Installing collected packages: cloudpickle\n",
      "Successfully installed cloudpickle-2.2.1\n"
     ]
    }
   ],
   "source": [
    "with open('modelTree.pkl', 'wb') as f:\n",
    "    cloudpickle.dump(modelTree, f)"
   ],
   "metadata": {
    "collapsed": false,
    "ExecuteTime": {
     "end_time": "2023-10-05T09:02:48.028672800Z",
     "start_time": "2023-10-05T09:02:46.614604600Z"
    }
   },
   "id": "d4dab7f8e8a312f"
  },
  {
   "cell_type": "code",
   "execution_count": 159,
   "outputs": [],
   "source": [
    "with open('modelTree.pkl', 'rb') as f:\n",
    "    modelTree = cloudpickle.load(f)\n",
    "score_tree = modelTree.score(x_test, y_test)"
   ],
   "metadata": {
    "collapsed": false,
    "ExecuteTime": {
     "end_time": "2023-10-05T10:14:48.814091900Z",
     "start_time": "2023-10-05T10:14:48.775889400Z"
    }
   },
   "id": "79a3f6649f05a5c"
  },
  {
   "cell_type": "code",
   "execution_count": 36,
   "outputs": [
    {
     "name": "stdout",
     "output_type": "stream",
     "text": [
      "n_iterations: 5\n",
      "n_required_iterations: 9\n",
      "n_possible_iterations: 5\n",
      "min_resources_: 20\n",
      "max_resources_: 2249\n",
      "aggressive_elimination: False\n",
      "factor: 3\n",
      "----------\n",
      "iter: 0\n",
      "n_candidates: 9000\n",
      "n_resources: 20\n",
      "Fitting 5 folds for each of 9000 candidates, totalling 45000 fits\n",
      "----------\n",
      "iter: 1\n",
      "n_candidates: 3000\n",
      "n_resources: 60\n",
      "Fitting 5 folds for each of 3000 candidates, totalling 15000 fits\n",
      "----------\n",
      "iter: 2\n",
      "n_candidates: 1000\n",
      "n_resources: 180\n",
      "Fitting 5 folds for each of 1000 candidates, totalling 5000 fits\n",
      "----------\n",
      "iter: 3\n",
      "n_candidates: 334\n",
      "n_resources: 540\n",
      "Fitting 5 folds for each of 334 candidates, totalling 1670 fits\n",
      "----------\n",
      "iter: 4\n",
      "n_candidates: 112\n",
      "n_resources: 1620\n",
      "Fitting 5 folds for each of 112 candidates, totalling 560 fits\n",
      "CPU times: total: 33.3 s\n",
      "Wall time: 1min 52s\n"
     ]
    },
    {
     "data": {
      "text/plain": "HalvingGridSearchCV(estimator=Pipeline(steps=[('counter', CountVectorizer()),\n                                              ('clf',\n                                               DecisionTreeClassifier())]),\n                    n_jobs=20,\n                    param_grid={'clf__max_depth': [4, 6, 8],\n                                'clf__min_samples_leaf': [2, 6, 10, 14, 18],\n                                'clf__min_samples_split': [2, 6, 10, 14, 18],\n                                'counter__max_df': array([0.3       , 0.34444444, 0.38888889, 0.43333333, 0.47777778,\n       0.52222222, 0.56666667, 0.61111111, 0.65555556, 0.7       ]),\n                                'counter__min_df': [0.0, 0.001, 0.003, 0.005],\n                                'counter__ngram_range': [(1, 1), (1, 2),\n                                                         (1, 3)]},\n                    random_state=42, scoring='recall', verbose=1)",
      "text/html": "<style>#sk-container-id-3 {color: black;}#sk-container-id-3 pre{padding: 0;}#sk-container-id-3 div.sk-toggleable {background-color: white;}#sk-container-id-3 label.sk-toggleable__label {cursor: pointer;display: block;width: 100%;margin-bottom: 0;padding: 0.3em;box-sizing: border-box;text-align: center;}#sk-container-id-3 label.sk-toggleable__label-arrow:before {content: \"▸\";float: left;margin-right: 0.25em;color: #696969;}#sk-container-id-3 label.sk-toggleable__label-arrow:hover:before {color: black;}#sk-container-id-3 div.sk-estimator:hover label.sk-toggleable__label-arrow:before {color: black;}#sk-container-id-3 div.sk-toggleable__content {max-height: 0;max-width: 0;overflow: hidden;text-align: left;background-color: #f0f8ff;}#sk-container-id-3 div.sk-toggleable__content pre {margin: 0.2em;color: black;border-radius: 0.25em;background-color: #f0f8ff;}#sk-container-id-3 input.sk-toggleable__control:checked~div.sk-toggleable__content {max-height: 200px;max-width: 100%;overflow: auto;}#sk-container-id-3 input.sk-toggleable__control:checked~label.sk-toggleable__label-arrow:before {content: \"▾\";}#sk-container-id-3 div.sk-estimator input.sk-toggleable__control:checked~label.sk-toggleable__label {background-color: #d4ebff;}#sk-container-id-3 div.sk-label input.sk-toggleable__control:checked~label.sk-toggleable__label {background-color: #d4ebff;}#sk-container-id-3 input.sk-hidden--visually {border: 0;clip: rect(1px 1px 1px 1px);clip: rect(1px, 1px, 1px, 1px);height: 1px;margin: -1px;overflow: hidden;padding: 0;position: absolute;width: 1px;}#sk-container-id-3 div.sk-estimator {font-family: monospace;background-color: #f0f8ff;border: 1px dotted black;border-radius: 0.25em;box-sizing: border-box;margin-bottom: 0.5em;}#sk-container-id-3 div.sk-estimator:hover {background-color: #d4ebff;}#sk-container-id-3 div.sk-parallel-item::after {content: \"\";width: 100%;border-bottom: 1px solid gray;flex-grow: 1;}#sk-container-id-3 div.sk-label:hover label.sk-toggleable__label {background-color: #d4ebff;}#sk-container-id-3 div.sk-serial::before {content: \"\";position: absolute;border-left: 1px solid gray;box-sizing: border-box;top: 0;bottom: 0;left: 50%;z-index: 0;}#sk-container-id-3 div.sk-serial {display: flex;flex-direction: column;align-items: center;background-color: white;padding-right: 0.2em;padding-left: 0.2em;position: relative;}#sk-container-id-3 div.sk-item {position: relative;z-index: 1;}#sk-container-id-3 div.sk-parallel {display: flex;align-items: stretch;justify-content: center;background-color: white;position: relative;}#sk-container-id-3 div.sk-item::before, #sk-container-id-3 div.sk-parallel-item::before {content: \"\";position: absolute;border-left: 1px solid gray;box-sizing: border-box;top: 0;bottom: 0;left: 50%;z-index: -1;}#sk-container-id-3 div.sk-parallel-item {display: flex;flex-direction: column;z-index: 1;position: relative;background-color: white;}#sk-container-id-3 div.sk-parallel-item:first-child::after {align-self: flex-end;width: 50%;}#sk-container-id-3 div.sk-parallel-item:last-child::after {align-self: flex-start;width: 50%;}#sk-container-id-3 div.sk-parallel-item:only-child::after {width: 0;}#sk-container-id-3 div.sk-dashed-wrapped {border: 1px dashed gray;margin: 0 0.4em 0.5em 0.4em;box-sizing: border-box;padding-bottom: 0.4em;background-color: white;}#sk-container-id-3 div.sk-label label {font-family: monospace;font-weight: bold;display: inline-block;line-height: 1.2em;}#sk-container-id-3 div.sk-label-container {text-align: center;}#sk-container-id-3 div.sk-container {/* jupyter's `normalize.less` sets `[hidden] { display: none; }` but bootstrap.min.css set `[hidden] { display: none !important; }` so we also need the `!important` here to be able to override the default hidden behavior on the sphinx rendered scikit-learn.org. See: https://github.com/scikit-learn/scikit-learn/issues/21755 */display: inline-block !important;position: relative;}#sk-container-id-3 div.sk-text-repr-fallback {display: none;}</style><div id=\"sk-container-id-3\" class=\"sk-top-container\"><div class=\"sk-text-repr-fallback\"><pre>HalvingGridSearchCV(estimator=Pipeline(steps=[(&#x27;counter&#x27;, CountVectorizer()),\n                                              (&#x27;clf&#x27;,\n                                               DecisionTreeClassifier())]),\n                    n_jobs=20,\n                    param_grid={&#x27;clf__max_depth&#x27;: [4, 6, 8],\n                                &#x27;clf__min_samples_leaf&#x27;: [2, 6, 10, 14, 18],\n                                &#x27;clf__min_samples_split&#x27;: [2, 6, 10, 14, 18],\n                                &#x27;counter__max_df&#x27;: array([0.3       , 0.34444444, 0.38888889, 0.43333333, 0.47777778,\n       0.52222222, 0.56666667, 0.61111111, 0.65555556, 0.7       ]),\n                                &#x27;counter__min_df&#x27;: [0.0, 0.001, 0.003, 0.005],\n                                &#x27;counter__ngram_range&#x27;: [(1, 1), (1, 2),\n                                                         (1, 3)]},\n                    random_state=42, scoring=&#x27;recall&#x27;, verbose=1)</pre><b>In a Jupyter environment, please rerun this cell to show the HTML representation or trust the notebook. <br />On GitHub, the HTML representation is unable to render, please try loading this page with nbviewer.org.</b></div><div class=\"sk-container\" hidden><div class=\"sk-item sk-dashed-wrapped\"><div class=\"sk-label-container\"><div class=\"sk-label sk-toggleable\"><input class=\"sk-toggleable__control sk-hidden--visually\" id=\"sk-estimator-id-9\" type=\"checkbox\" ><label for=\"sk-estimator-id-9\" class=\"sk-toggleable__label sk-toggleable__label-arrow\">HalvingGridSearchCV</label><div class=\"sk-toggleable__content\"><pre>HalvingGridSearchCV(estimator=Pipeline(steps=[(&#x27;counter&#x27;, CountVectorizer()),\n                                              (&#x27;clf&#x27;,\n                                               DecisionTreeClassifier())]),\n                    n_jobs=20,\n                    param_grid={&#x27;clf__max_depth&#x27;: [4, 6, 8],\n                                &#x27;clf__min_samples_leaf&#x27;: [2, 6, 10, 14, 18],\n                                &#x27;clf__min_samples_split&#x27;: [2, 6, 10, 14, 18],\n                                &#x27;counter__max_df&#x27;: array([0.3       , 0.34444444, 0.38888889, 0.43333333, 0.47777778,\n       0.52222222, 0.56666667, 0.61111111, 0.65555556, 0.7       ]),\n                                &#x27;counter__min_df&#x27;: [0.0, 0.001, 0.003, 0.005],\n                                &#x27;counter__ngram_range&#x27;: [(1, 1), (1, 2),\n                                                         (1, 3)]},\n                    random_state=42, scoring=&#x27;recall&#x27;, verbose=1)</pre></div></div></div><div class=\"sk-parallel\"><div class=\"sk-parallel-item\"><div class=\"sk-item\"><div class=\"sk-label-container\"><div class=\"sk-label sk-toggleable\"><input class=\"sk-toggleable__control sk-hidden--visually\" id=\"sk-estimator-id-10\" type=\"checkbox\" ><label for=\"sk-estimator-id-10\" class=\"sk-toggleable__label sk-toggleable__label-arrow\">estimator: Pipeline</label><div class=\"sk-toggleable__content\"><pre>Pipeline(steps=[(&#x27;counter&#x27;, CountVectorizer()),\n                (&#x27;clf&#x27;, DecisionTreeClassifier())])</pre></div></div></div><div class=\"sk-serial\"><div class=\"sk-item\"><div class=\"sk-serial\"><div class=\"sk-item\"><div class=\"sk-estimator sk-toggleable\"><input class=\"sk-toggleable__control sk-hidden--visually\" id=\"sk-estimator-id-11\" type=\"checkbox\" ><label for=\"sk-estimator-id-11\" class=\"sk-toggleable__label sk-toggleable__label-arrow\">CountVectorizer</label><div class=\"sk-toggleable__content\"><pre>CountVectorizer()</pre></div></div></div><div class=\"sk-item\"><div class=\"sk-estimator sk-toggleable\"><input class=\"sk-toggleable__control sk-hidden--visually\" id=\"sk-estimator-id-12\" type=\"checkbox\" ><label for=\"sk-estimator-id-12\" class=\"sk-toggleable__label sk-toggleable__label-arrow\">DecisionTreeClassifier</label><div class=\"sk-toggleable__content\"><pre>DecisionTreeClassifier()</pre></div></div></div></div></div></div></div></div></div></div></div></div>"
     },
     "execution_count": 36,
     "metadata": {},
     "output_type": "execute_result"
    }
   ],
   "source": [
    "%%time\n",
    "\n",
    "grid_search_tree_h = HalvingGridSearchCV(\n",
    "    pipe_tree,\n",
    "    param_grid=param_grid_tree,\n",
    "    n_jobs=20,\n",
    "    verbose=1,\n",
    "    cv=cv,\n",
    "    scoring=metric,\n",
    "    random_state=random_state,\n",
    ")\n",
    "grid_search_tree_h.fit(x_train, y_train)"
   ],
   "metadata": {
    "collapsed": false,
    "ExecuteTime": {
     "end_time": "2023-10-05T09:04:50.534754600Z",
     "start_time": "2023-10-05T09:02:57.896894100Z"
    }
   },
   "id": "a593e4c778b7729c"
  },
  {
   "cell_type": "code",
   "execution_count": 37,
   "outputs": [
    {
     "data": {
      "text/plain": "0.7746135018743997"
     },
     "execution_count": 37,
     "metadata": {},
     "output_type": "execute_result"
    }
   ],
   "source": [
    "grid_search_tree_h.best_score_"
   ],
   "metadata": {
    "collapsed": false,
    "ExecuteTime": {
     "end_time": "2023-10-05T09:04:54.962937Z",
     "start_time": "2023-10-05T09:04:54.947480600Z"
    }
   },
   "id": "ad7fb58fdcc6e0f5"
  },
  {
   "cell_type": "code",
   "execution_count": 54,
   "outputs": [
    {
     "name": "stdout",
     "output_type": "stream",
     "text": [
      "              precision    recall  f1-score   support\n",
      "\n",
      "           0       0.96      0.98      0.97       627\n",
      "           1       0.88      0.81      0.85       123\n",
      "\n",
      "    accuracy                           0.95       750\n",
      "   macro avg       0.92      0.90      0.91       750\n",
      "weighted avg       0.95      0.95      0.95       750\n"
     ]
    }
   ],
   "source": [
    "pred_tree_h = grid_search_tree_h.best_estimator_.predict(x_test)\n",
    "print(classification_report(y_test, pred_tree_h))\n",
    "score_tree_h = grid_search_tree_h.score(x_test, y_test)"
   ],
   "metadata": {
    "collapsed": false,
    "ExecuteTime": {
     "end_time": "2023-10-05T09:12:16.559197900Z",
     "start_time": "2023-10-05T09:12:16.485749900Z"
    }
   },
   "id": "2242911037800c01"
  },
  {
   "cell_type": "markdown",
   "source": [
    "### MultinomialNB:"
   ],
   "metadata": {
    "collapsed": false
   },
   "id": "ae2eda8327be5859"
  },
  {
   "cell_type": "code",
   "execution_count": 39,
   "outputs": [],
   "source": [
    "pipe_nb = Pipeline(\n",
    "    steps=[\n",
    "        ('counter', CountVectorizer()),\n",
    "        ('clf', MultinomialNB())\n",
    "    ]\n",
    ")"
   ],
   "metadata": {
    "collapsed": false,
    "ExecuteTime": {
     "end_time": "2023-10-05T09:05:00.414017400Z",
     "start_time": "2023-10-05T09:05:00.408487600Z"
    }
   },
   "id": "b266251c998e1b41"
  },
  {
   "cell_type": "code",
   "execution_count": 40,
   "outputs": [],
   "source": [
    "param_grid_nb = {\n",
    "    'counter__max_df': np.linspace(0.3, 0.7, 10),\n",
    "    'counter__min_df': [0.0, 0.001, 0.003, 0.005],\n",
    "    'counter__ngram_range': [(1, 1), (1, 2), (1, 3)],\n",
    "    'clf__alpha': [0.001, 0.1, 1],\n",
    "}"
   ],
   "metadata": {
    "collapsed": false,
    "ExecuteTime": {
     "end_time": "2023-10-05T09:05:02.272202700Z",
     "start_time": "2023-10-05T09:05:02.267873800Z"
    }
   },
   "id": "2b6194df69a67ad7"
  },
  {
   "cell_type": "code",
   "execution_count": 41,
   "outputs": [
    {
     "name": "stdout",
     "output_type": "stream",
     "text": [
      "Fitting 5 folds for each of 360 candidates, totalling 1800 fits\n"
     ]
    }
   ],
   "source": [
    "grid_search_nb = GridSearchCV(\n",
    "    pipe_nb,\n",
    "    param_grid=param_grid_nb,\n",
    "    n_jobs=20,\n",
    "    verbose=1,\n",
    "    cv=cv,\n",
    "    scoring=metric,\n",
    ").fit(x_train, y_train)"
   ],
   "metadata": {
    "collapsed": false,
    "ExecuteTime": {
     "end_time": "2023-10-05T09:05:53.255299100Z",
     "start_time": "2023-10-05T09:05:05.080201800Z"
    }
   },
   "id": "634942cb4f88743c"
  },
  {
   "cell_type": "code",
   "execution_count": 42,
   "outputs": [
    {
     "data": {
      "text/plain": "0.9494385964912281"
     },
     "execution_count": 42,
     "metadata": {},
     "output_type": "execute_result"
    }
   ],
   "source": [
    "grid_search_nb.best_score_"
   ],
   "metadata": {
    "collapsed": false,
    "ExecuteTime": {
     "end_time": "2023-10-05T09:06:23.151716100Z",
     "start_time": "2023-10-05T09:06:23.141502200Z"
    }
   },
   "id": "e463ccdcf7d8e3dd"
  },
  {
   "cell_type": "code",
   "execution_count": 55,
   "outputs": [
    {
     "name": "stdout",
     "output_type": "stream",
     "text": [
      "              precision    recall  f1-score   support\n",
      "\n",
      "           0       0.99      1.00      1.00       627\n",
      "           1       0.99      0.97      0.98       123\n",
      "\n",
      "    accuracy                           0.99       750\n",
      "   macro avg       0.99      0.98      0.99       750\n",
      "weighted avg       0.99      0.99      0.99       750\n"
     ]
    }
   ],
   "source": [
    "pred_nb = grid_search_nb.best_estimator_.predict(x_test)\n",
    "print(classification_report(y_test, pred_nb))\n",
    "score_nb = grid_search_nb.score(x_test, y_test)"
   ],
   "metadata": {
    "collapsed": false,
    "ExecuteTime": {
     "end_time": "2023-10-05T09:12:37.305516400Z",
     "start_time": "2023-10-05T09:12:37.094764600Z"
    }
   },
   "id": "9e564074ac489e62"
  },
  {
   "cell_type": "code",
   "execution_count": 46,
   "outputs": [
    {
     "name": "stdout",
     "output_type": "stream",
     "text": [
      "n_iterations: 5\n",
      "n_required_iterations: 6\n",
      "n_possible_iterations: 5\n",
      "min_resources_: 20\n",
      "max_resources_: 2249\n",
      "aggressive_elimination: False\n",
      "factor: 3\n",
      "----------\n",
      "iter: 0\n",
      "n_candidates: 360\n",
      "n_resources: 20\n",
      "Fitting 5 folds for each of 360 candidates, totalling 1800 fits\n",
      "----------\n",
      "iter: 1\n",
      "n_candidates: 120\n",
      "n_resources: 60\n",
      "Fitting 5 folds for each of 120 candidates, totalling 600 fits\n",
      "----------\n",
      "iter: 2\n",
      "n_candidates: 40\n",
      "n_resources: 180\n",
      "Fitting 5 folds for each of 40 candidates, totalling 200 fits\n",
      "----------\n",
      "iter: 3\n",
      "n_candidates: 14\n",
      "n_resources: 540\n",
      "Fitting 5 folds for each of 14 candidates, totalling 70 fits\n",
      "----------\n",
      "iter: 4\n",
      "n_candidates: 5\n",
      "n_resources: 1620\n",
      "Fitting 5 folds for each of 5 candidates, totalling 25 fits\n",
      "CPU times: total: 3.81 s\n",
      "Wall time: 6.91 s\n"
     ]
    },
    {
     "data": {
      "text/plain": "HalvingGridSearchCV(estimator=Pipeline(steps=[('counter', CountVectorizer()),\n                                              ('clf', MultinomialNB())]),\n                    n_jobs=20,\n                    param_grid={'clf__alpha': [0.001, 0.1, 1],\n                                'counter__max_df': array([0.3       , 0.34444444, 0.38888889, 0.43333333, 0.47777778,\n       0.52222222, 0.56666667, 0.61111111, 0.65555556, 0.7       ]),\n                                'counter__min_df': [0.0, 0.001, 0.003, 0.005],\n                                'counter__ngram_range': [(1, 1), (1, 2),\n                                                         (1, 3)]},\n                    random_state=42, scoring='recall', verbose=1)",
      "text/html": "<style>#sk-container-id-4 {color: black;}#sk-container-id-4 pre{padding: 0;}#sk-container-id-4 div.sk-toggleable {background-color: white;}#sk-container-id-4 label.sk-toggleable__label {cursor: pointer;display: block;width: 100%;margin-bottom: 0;padding: 0.3em;box-sizing: border-box;text-align: center;}#sk-container-id-4 label.sk-toggleable__label-arrow:before {content: \"▸\";float: left;margin-right: 0.25em;color: #696969;}#sk-container-id-4 label.sk-toggleable__label-arrow:hover:before {color: black;}#sk-container-id-4 div.sk-estimator:hover label.sk-toggleable__label-arrow:before {color: black;}#sk-container-id-4 div.sk-toggleable__content {max-height: 0;max-width: 0;overflow: hidden;text-align: left;background-color: #f0f8ff;}#sk-container-id-4 div.sk-toggleable__content pre {margin: 0.2em;color: black;border-radius: 0.25em;background-color: #f0f8ff;}#sk-container-id-4 input.sk-toggleable__control:checked~div.sk-toggleable__content {max-height: 200px;max-width: 100%;overflow: auto;}#sk-container-id-4 input.sk-toggleable__control:checked~label.sk-toggleable__label-arrow:before {content: \"▾\";}#sk-container-id-4 div.sk-estimator input.sk-toggleable__control:checked~label.sk-toggleable__label {background-color: #d4ebff;}#sk-container-id-4 div.sk-label input.sk-toggleable__control:checked~label.sk-toggleable__label {background-color: #d4ebff;}#sk-container-id-4 input.sk-hidden--visually {border: 0;clip: rect(1px 1px 1px 1px);clip: rect(1px, 1px, 1px, 1px);height: 1px;margin: -1px;overflow: hidden;padding: 0;position: absolute;width: 1px;}#sk-container-id-4 div.sk-estimator {font-family: monospace;background-color: #f0f8ff;border: 1px dotted black;border-radius: 0.25em;box-sizing: border-box;margin-bottom: 0.5em;}#sk-container-id-4 div.sk-estimator:hover {background-color: #d4ebff;}#sk-container-id-4 div.sk-parallel-item::after {content: \"\";width: 100%;border-bottom: 1px solid gray;flex-grow: 1;}#sk-container-id-4 div.sk-label:hover label.sk-toggleable__label {background-color: #d4ebff;}#sk-container-id-4 div.sk-serial::before {content: \"\";position: absolute;border-left: 1px solid gray;box-sizing: border-box;top: 0;bottom: 0;left: 50%;z-index: 0;}#sk-container-id-4 div.sk-serial {display: flex;flex-direction: column;align-items: center;background-color: white;padding-right: 0.2em;padding-left: 0.2em;position: relative;}#sk-container-id-4 div.sk-item {position: relative;z-index: 1;}#sk-container-id-4 div.sk-parallel {display: flex;align-items: stretch;justify-content: center;background-color: white;position: relative;}#sk-container-id-4 div.sk-item::before, #sk-container-id-4 div.sk-parallel-item::before {content: \"\";position: absolute;border-left: 1px solid gray;box-sizing: border-box;top: 0;bottom: 0;left: 50%;z-index: -1;}#sk-container-id-4 div.sk-parallel-item {display: flex;flex-direction: column;z-index: 1;position: relative;background-color: white;}#sk-container-id-4 div.sk-parallel-item:first-child::after {align-self: flex-end;width: 50%;}#sk-container-id-4 div.sk-parallel-item:last-child::after {align-self: flex-start;width: 50%;}#sk-container-id-4 div.sk-parallel-item:only-child::after {width: 0;}#sk-container-id-4 div.sk-dashed-wrapped {border: 1px dashed gray;margin: 0 0.4em 0.5em 0.4em;box-sizing: border-box;padding-bottom: 0.4em;background-color: white;}#sk-container-id-4 div.sk-label label {font-family: monospace;font-weight: bold;display: inline-block;line-height: 1.2em;}#sk-container-id-4 div.sk-label-container {text-align: center;}#sk-container-id-4 div.sk-container {/* jupyter's `normalize.less` sets `[hidden] { display: none; }` but bootstrap.min.css set `[hidden] { display: none !important; }` so we also need the `!important` here to be able to override the default hidden behavior on the sphinx rendered scikit-learn.org. See: https://github.com/scikit-learn/scikit-learn/issues/21755 */display: inline-block !important;position: relative;}#sk-container-id-4 div.sk-text-repr-fallback {display: none;}</style><div id=\"sk-container-id-4\" class=\"sk-top-container\"><div class=\"sk-text-repr-fallback\"><pre>HalvingGridSearchCV(estimator=Pipeline(steps=[(&#x27;counter&#x27;, CountVectorizer()),\n                                              (&#x27;clf&#x27;, MultinomialNB())]),\n                    n_jobs=20,\n                    param_grid={&#x27;clf__alpha&#x27;: [0.001, 0.1, 1],\n                                &#x27;counter__max_df&#x27;: array([0.3       , 0.34444444, 0.38888889, 0.43333333, 0.47777778,\n       0.52222222, 0.56666667, 0.61111111, 0.65555556, 0.7       ]),\n                                &#x27;counter__min_df&#x27;: [0.0, 0.001, 0.003, 0.005],\n                                &#x27;counter__ngram_range&#x27;: [(1, 1), (1, 2),\n                                                         (1, 3)]},\n                    random_state=42, scoring=&#x27;recall&#x27;, verbose=1)</pre><b>In a Jupyter environment, please rerun this cell to show the HTML representation or trust the notebook. <br />On GitHub, the HTML representation is unable to render, please try loading this page with nbviewer.org.</b></div><div class=\"sk-container\" hidden><div class=\"sk-item sk-dashed-wrapped\"><div class=\"sk-label-container\"><div class=\"sk-label sk-toggleable\"><input class=\"sk-toggleable__control sk-hidden--visually\" id=\"sk-estimator-id-13\" type=\"checkbox\" ><label for=\"sk-estimator-id-13\" class=\"sk-toggleable__label sk-toggleable__label-arrow\">HalvingGridSearchCV</label><div class=\"sk-toggleable__content\"><pre>HalvingGridSearchCV(estimator=Pipeline(steps=[(&#x27;counter&#x27;, CountVectorizer()),\n                                              (&#x27;clf&#x27;, MultinomialNB())]),\n                    n_jobs=20,\n                    param_grid={&#x27;clf__alpha&#x27;: [0.001, 0.1, 1],\n                                &#x27;counter__max_df&#x27;: array([0.3       , 0.34444444, 0.38888889, 0.43333333, 0.47777778,\n       0.52222222, 0.56666667, 0.61111111, 0.65555556, 0.7       ]),\n                                &#x27;counter__min_df&#x27;: [0.0, 0.001, 0.003, 0.005],\n                                &#x27;counter__ngram_range&#x27;: [(1, 1), (1, 2),\n                                                         (1, 3)]},\n                    random_state=42, scoring=&#x27;recall&#x27;, verbose=1)</pre></div></div></div><div class=\"sk-parallel\"><div class=\"sk-parallel-item\"><div class=\"sk-item\"><div class=\"sk-label-container\"><div class=\"sk-label sk-toggleable\"><input class=\"sk-toggleable__control sk-hidden--visually\" id=\"sk-estimator-id-14\" type=\"checkbox\" ><label for=\"sk-estimator-id-14\" class=\"sk-toggleable__label sk-toggleable__label-arrow\">estimator: Pipeline</label><div class=\"sk-toggleable__content\"><pre>Pipeline(steps=[(&#x27;counter&#x27;, CountVectorizer()), (&#x27;clf&#x27;, MultinomialNB())])</pre></div></div></div><div class=\"sk-serial\"><div class=\"sk-item\"><div class=\"sk-serial\"><div class=\"sk-item\"><div class=\"sk-estimator sk-toggleable\"><input class=\"sk-toggleable__control sk-hidden--visually\" id=\"sk-estimator-id-15\" type=\"checkbox\" ><label for=\"sk-estimator-id-15\" class=\"sk-toggleable__label sk-toggleable__label-arrow\">CountVectorizer</label><div class=\"sk-toggleable__content\"><pre>CountVectorizer()</pre></div></div></div><div class=\"sk-item\"><div class=\"sk-estimator sk-toggleable\"><input class=\"sk-toggleable__control sk-hidden--visually\" id=\"sk-estimator-id-16\" type=\"checkbox\" ><label for=\"sk-estimator-id-16\" class=\"sk-toggleable__label sk-toggleable__label-arrow\">MultinomialNB</label><div class=\"sk-toggleable__content\"><pre>MultinomialNB()</pre></div></div></div></div></div></div></div></div></div></div></div></div>"
     },
     "execution_count": 46,
     "metadata": {},
     "output_type": "execute_result"
    }
   ],
   "source": [
    "%%time\n",
    "grid_search_nb_h = HalvingGridSearchCV(\n",
    "    pipe_nb,\n",
    "    param_grid=param_grid_nb,\n",
    "    n_jobs=20,\n",
    "    verbose=1,\n",
    "    cv=cv,\n",
    "    scoring=metric,\n",
    "    random_state=random_state\n",
    ")\n",
    "grid_search_nb_h.fit(x_train, y_train)"
   ],
   "metadata": {
    "collapsed": false,
    "ExecuteTime": {
     "end_time": "2023-10-05T09:07:07.410346300Z",
     "start_time": "2023-10-05T09:07:00.495674600Z"
    }
   },
   "id": "57f48a59d582b0b2"
  },
  {
   "cell_type": "code",
   "execution_count": 47,
   "outputs": [
    {
     "data": {
      "text/plain": "0.928435108591257"
     },
     "execution_count": 47,
     "metadata": {},
     "output_type": "execute_result"
    }
   ],
   "source": [
    "grid_search_nb_h.best_score_"
   ],
   "metadata": {
    "collapsed": false,
    "ExecuteTime": {
     "end_time": "2023-10-05T09:07:10.737582300Z",
     "start_time": "2023-10-05T09:07:10.727547200Z"
    }
   },
   "id": "1a4412e174471353"
  },
  {
   "cell_type": "code",
   "execution_count": 56,
   "outputs": [
    {
     "name": "stdout",
     "output_type": "stream",
     "text": [
      "              precision    recall  f1-score   support\n",
      "\n",
      "           0       0.99      1.00      1.00       627\n",
      "           1       0.99      0.96      0.98       123\n",
      "\n",
      "    accuracy                           0.99       750\n",
      "   macro avg       0.99      0.98      0.99       750\n",
      "weighted avg       0.99      0.99      0.99       750\n"
     ]
    }
   ],
   "source": [
    "pred_nb_h = grid_search_nb_h.predict(x_test)\n",
    "print(classification_report(y_test, pred_nb_h))\n",
    "score_nb_h = grid_search_nb_h.score(x_test, y_test)"
   ],
   "metadata": {
    "collapsed": false,
    "ExecuteTime": {
     "end_time": "2023-10-05T09:14:08.507491100Z",
     "start_time": "2023-10-05T09:14:08.300057400Z"
    }
   },
   "id": "c5695827e797583b"
  },
  {
   "cell_type": "markdown",
   "source": [
    "## Подведение итогов по CountVectorizer\n",
    "В ходе работы производился подбор гиперпараметров с использованием GridSearchCV и HalvingGridSearchCV. HalvingGridSearchCV справляется с работой сильно быстрее, чем это делаем полный перебор, поэтому было интересно сравнить, хуже ли он подбирает параметры. Для этого на графике ниже представлены значения score по всем моделям с использованием GridSearchCV и HalvingGridSearchCV. Как видно, экспериментальный HalvingGridSearchCV справляется не сильно хуже. Разница составляет не больше 0.02. Лучший score был достигнут на Naive Bayes."
   ],
   "metadata": {
    "collapsed": false
   },
   "id": "b87a655d7f2a43f5"
  },
  {
   "cell_type": "code",
   "execution_count": 160,
   "outputs": [
    {
     "data": {
      "text/plain": "<Figure size 640x480 with 1 Axes>",
      "image/png": "[encoded data removed]"
     },
     "metadata": {},
     "output_type": "display_data"
    }
   ],
   "source": [
    "models = ['LogReg', 'Tree', 'NB']\n",
    "data_pred = [score_log_reg, score_tree, score_nb]\n",
    "data_pred_h = [score_log_reg_h, score_tree_h, score_nb_h]\n",
    "\n",
    "df = pd.DataFrame({'model': models, 'GridSearchCV': data_pred, 'HalvingGridSearchCV': data_pred_h})\n",
    "fig, ax = plt.subplots()\n",
    "bar_width = 0.35\n",
    "\n",
    "GridSearchCV_diagram = ax.bar(df['model'], df['GridSearchCV'], bar_width, label='GridSearchCV', color='grey')\n",
    "HalvingGridSearchCV_diagram = ax.bar(df['model'], df['HalvingGridSearchCV'], bar_width, label='HalvingGridSearchCV',\n",
    "                                     color='green', alpha=0.8)\n",
    "max_val = max(data_pred)\n",
    "\n",
    "ax.set_xlabel('Models')\n",
    "ax.set_ylabel('Scores')\n",
    "ax.set_title('Scores by model and search method for CountVectorizer')\n",
    "ax.legend()\n",
    "for i, rect in enumerate(GridSearchCV_diagram):\n",
    "    height = rect.get_height()\n",
    "\n",
    "    ax.annotate('{}'.format(round(height, 2)),\n",
    "                xy=(rect.get_x() + rect.get_width() / 2, height),\n",
    "                xytext=(0, 3),\n",
    "                textcoords=\"offset points\",\n",
    "                ha='center')\n",
    "plt.show()"
   ],
   "metadata": {
    "collapsed": false,
    "ExecuteTime": {
     "end_time": "2023-10-05T10:14:57.820621400Z",
     "start_time": "2023-10-05T10:14:57.751701900Z"
    }
   },
   "id": "4972adea45725d67"
  },
  {
   "cell_type": "markdown",
   "source": [
    "# TfidfVectorizer\n",
    "В данном разделе получим вектора при помощи TfidfVectorizer и аналогично обучим модели."
   ],
   "metadata": {
    "collapsed": false
   },
   "id": "47ca59f117f9e419"
  },
  {
   "cell_type": "markdown",
   "source": [
    "### LogisticRegression:"
   ],
   "metadata": {
    "collapsed": false
   },
   "id": "ff2c7887c7a8fce4"
  },
  {
   "cell_type": "code",
   "execution_count": 161,
   "outputs": [
    {
     "name": "stdout",
     "output_type": "stream",
     "text": [
      "Fitting 5 folds for each of 1200 candidates, totalling 6000 fits\n"
     ]
    }
   ],
   "source": [
    "pipe_log_reg_tfidf = Pipeline(\n",
    "    steps=[\n",
    "        ('tfidf', TfidfVectorizer()),\n",
    "        ('clf', LogisticRegression())\n",
    "    ]\n",
    ")\n",
    "param_grid_log_reg_tfidf = {\n",
    "    'tfidf__max_df': np.linspace(0.3, 0.7, 10),\n",
    "    'tfidf__min_df': [0.0, 0.001, 0.003, 0.005],\n",
    "    'tfidf__ngram_range': [(1, 1), (1, 2), (1, 3)],\n",
    "    'clf__C': np.linspace(0.1, 1, 10),\n",
    "}\n",
    "grid_search_log_reg_tfidf = GridSearchCV(\n",
    "    pipe_log_reg_tfidf,\n",
    "    param_grid=param_grid_log_reg_tfidf,\n",
    "    n_jobs=20,\n",
    "    verbose=1,\n",
    "    cv=cv,\n",
    "    scoring=metric,\n",
    ").fit(x_train, y_train)\n"
   ],
   "metadata": {
    "collapsed": false,
    "ExecuteTime": {
     "end_time": "2023-10-05T10:19:44.344903800Z",
     "start_time": "2023-10-05T10:15:02.847330600Z"
    }
   },
   "id": "a11507be1f0ab93b"
  },
  {
   "cell_type": "code",
   "execution_count": 162,
   "outputs": [
    {
     "data": {
      "text/plain": "0.8163508771929824"
     },
     "execution_count": 162,
     "metadata": {},
     "output_type": "execute_result"
    }
   ],
   "source": [
    "grid_search_log_reg_tfidf.best_score_"
   ],
   "metadata": {
    "collapsed": false,
    "ExecuteTime": {
     "end_time": "2023-10-05T10:21:02.678974700Z",
     "start_time": "2023-10-05T10:21:02.663921800Z"
    }
   },
   "id": "8cf0ae43ad687ab0"
  },
  {
   "cell_type": "code",
   "execution_count": 163,
   "outputs": [
    {
     "name": "stdout",
     "output_type": "stream",
     "text": [
      "              precision    recall  f1-score   support\n",
      "\n",
      "           0       0.97      1.00      0.99       627\n",
      "           1       1.00      0.85      0.92       123\n",
      "\n",
      "    accuracy                           0.98       750\n",
      "   macro avg       0.99      0.93      0.95       750\n",
      "weighted avg       0.98      0.98      0.98       750\n"
     ]
    }
   ],
   "source": [
    "pred_log_reg_tfidf = grid_search_log_reg_tfidf.predict(x_test)\n",
    "print(classification_report(y_test, pred_log_reg_tfidf))\n",
    "score_log_reg_tfidf = grid_search_log_reg_tfidf.score(x_test, y_test)"
   ],
   "metadata": {
    "collapsed": false,
    "ExecuteTime": {
     "end_time": "2023-10-05T10:21:05.163961900Z",
     "start_time": "2023-10-05T10:21:04.989992500Z"
    }
   },
   "id": "5bd1b9da09b6c4e7"
  },
  {
   "cell_type": "code",
   "execution_count": 164,
   "outputs": [
    {
     "name": "stdout",
     "output_type": "stream",
     "text": [
      "n_iterations: 5\n",
      "n_required_iterations: 7\n",
      "n_possible_iterations: 5\n",
      "min_resources_: 20\n",
      "max_resources_: 2249\n",
      "aggressive_elimination: False\n",
      "factor: 3\n",
      "----------\n",
      "iter: 0\n",
      "n_candidates: 1200\n",
      "n_resources: 20\n",
      "Fitting 5 folds for each of 1200 candidates, totalling 6000 fits\n",
      "----------\n",
      "iter: 1\n",
      "n_candidates: 400\n",
      "n_resources: 60\n",
      "Fitting 5 folds for each of 400 candidates, totalling 2000 fits\n",
      "----------\n",
      "iter: 2\n",
      "n_candidates: 134\n",
      "n_resources: 180\n",
      "Fitting 5 folds for each of 134 candidates, totalling 670 fits\n",
      "----------\n",
      "iter: 3\n",
      "n_candidates: 45\n",
      "n_resources: 540\n",
      "Fitting 5 folds for each of 45 candidates, totalling 225 fits\n",
      "----------\n",
      "iter: 4\n",
      "n_candidates: 15\n",
      "n_resources: 1620\n",
      "Fitting 5 folds for each of 15 candidates, totalling 75 fits\n",
      "CPU times: total: 7 s\n",
      "Wall time: 18.2 s\n"
     ]
    },
    {
     "data": {
      "text/plain": "HalvingGridSearchCV(estimator=Pipeline(steps=[('tfidf', TfidfVectorizer()),\n                                              ('clf', LogisticRegression())]),\n                    n_jobs=20,\n                    param_grid={'clf__C': array([0.1, 0.2, 0.3, 0.4, 0.5, 0.6, 0.7, 0.8, 0.9, 1. ]),\n                                'tfidf__max_df': array([0.3       , 0.34444444, 0.38888889, 0.43333333, 0.47777778,\n       0.52222222, 0.56666667, 0.61111111, 0.65555556, 0.7       ]),\n                                'tfidf__min_df': [0.0, 0.001, 0.003, 0.005],\n                                'tfidf__ngram_range': [(1, 1), (1, 2), (1, 3)]},\n                    random_state=42, scoring='recall', verbose=1)",
      "text/html": "<style>#sk-container-id-5 {color: black;}#sk-container-id-5 pre{padding: 0;}#sk-container-id-5 div.sk-toggleable {background-color: white;}#sk-container-id-5 label.sk-toggleable__label {cursor: pointer;display: block;width: 100%;margin-bottom: 0;padding: 0.3em;box-sizing: border-box;text-align: center;}#sk-container-id-5 label.sk-toggleable__label-arrow:before {content: \"▸\";float: left;margin-right: 0.25em;color: #696969;}#sk-container-id-5 label.sk-toggleable__label-arrow:hover:before {color: black;}#sk-container-id-5 div.sk-estimator:hover label.sk-toggleable__label-arrow:before {color: black;}#sk-container-id-5 div.sk-toggleable__content {max-height: 0;max-width: 0;overflow: hidden;text-align: left;background-color: #f0f8ff;}#sk-container-id-5 div.sk-toggleable__content pre {margin: 0.2em;color: black;border-radius: 0.25em;background-color: #f0f8ff;}#sk-container-id-5 input.sk-toggleable__control:checked~div.sk-toggleable__content {max-height: 200px;max-width: 100%;overflow: auto;}#sk-container-id-5 input.sk-toggleable__control:checked~label.sk-toggleable__label-arrow:before {content: \"▾\";}#sk-container-id-5 div.sk-estimator input.sk-toggleable__control:checked~label.sk-toggleable__label {background-color: #d4ebff;}#sk-container-id-5 div.sk-label input.sk-toggleable__control:checked~label.sk-toggleable__label {background-color: #d4ebff;}#sk-container-id-5 input.sk-hidden--visually {border: 0;clip: rect(1px 1px 1px 1px);clip: rect(1px, 1px, 1px, 1px);height: 1px;margin: -1px;overflow: hidden;padding: 0;position: absolute;width: 1px;}#sk-container-id-5 div.sk-estimator {font-family: monospace;background-color: #f0f8ff;border: 1px dotted black;border-radius: 0.25em;box-sizing: border-box;margin-bottom: 0.5em;}#sk-container-id-5 div.sk-estimator:hover {background-color: #d4ebff;}#sk-container-id-5 div.sk-parallel-item::after {content: \"\";width: 100%;border-bottom: 1px solid gray;flex-grow: 1;}#sk-container-id-5 div.sk-label:hover label.sk-toggleable__label {background-color: #d4ebff;}#sk-container-id-5 div.sk-serial::before {content: \"\";position: absolute;border-left: 1px solid gray;box-sizing: border-box;top: 0;bottom: 0;left: 50%;z-index: 0;}#sk-container-id-5 div.sk-serial {display: flex;flex-direction: column;align-items: center;background-color: white;padding-right: 0.2em;padding-left: 0.2em;position: relative;}#sk-container-id-5 div.sk-item {position: relative;z-index: 1;}#sk-container-id-5 div.sk-parallel {display: flex;align-items: stretch;justify-content: center;background-color: white;position: relative;}#sk-container-id-5 div.sk-item::before, #sk-container-id-5 div.sk-parallel-item::before {content: \"\";position: absolute;border-left: 1px solid gray;box-sizing: border-box;top: 0;bottom: 0;left: 50%;z-index: -1;}#sk-container-id-5 div.sk-parallel-item {display: flex;flex-direction: column;z-index: 1;position: relative;background-color: white;}#sk-container-id-5 div.sk-parallel-item:first-child::after {align-self: flex-end;width: 50%;}#sk-container-id-5 div.sk-parallel-item:last-child::after {align-self: flex-start;width: 50%;}#sk-container-id-5 div.sk-parallel-item:only-child::after {width: 0;}#sk-container-id-5 div.sk-dashed-wrapped {border: 1px dashed gray;margin: 0 0.4em 0.5em 0.4em;box-sizing: border-box;padding-bottom: 0.4em;background-color: white;}#sk-container-id-5 div.sk-label label {font-family: monospace;font-weight: bold;display: inline-block;line-height: 1.2em;}#sk-container-id-5 div.sk-label-container {text-align: center;}#sk-container-id-5 div.sk-container {/* jupyter's `normalize.less` sets `[hidden] { display: none; }` but bootstrap.min.css set `[hidden] { display: none !important; }` so we also need the `!important` here to be able to override the default hidden behavior on the sphinx rendered scikit-learn.org. See: https://github.com/scikit-learn/scikit-learn/issues/21755 */display: inline-block !important;position: relative;}#sk-container-id-5 div.sk-text-repr-fallback {display: none;}</style><div id=\"sk-container-id-5\" class=\"sk-top-container\"><div class=\"sk-text-repr-fallback\"><pre>HalvingGridSearchCV(estimator=Pipeline(steps=[(&#x27;tfidf&#x27;, TfidfVectorizer()),\n                                              (&#x27;clf&#x27;, LogisticRegression())]),\n                    n_jobs=20,\n                    param_grid={&#x27;clf__C&#x27;: array([0.1, 0.2, 0.3, 0.4, 0.5, 0.6, 0.7, 0.8, 0.9, 1. ]),\n                                &#x27;tfidf__max_df&#x27;: array([0.3       , 0.34444444, 0.38888889, 0.43333333, 0.47777778,\n       0.52222222, 0.56666667, 0.61111111, 0.65555556, 0.7       ]),\n                                &#x27;tfidf__min_df&#x27;: [0.0, 0.001, 0.003, 0.005],\n                                &#x27;tfidf__ngram_range&#x27;: [(1, 1), (1, 2), (1, 3)]},\n                    random_state=42, scoring=&#x27;recall&#x27;, verbose=1)</pre><b>In a Jupyter environment, please rerun this cell to show the HTML representation or trust the notebook. <br />On GitHub, the HTML representation is unable to render, please try loading this page with nbviewer.org.</b></div><div class=\"sk-container\" hidden><div class=\"sk-item sk-dashed-wrapped\"><div class=\"sk-label-container\"><div class=\"sk-label sk-toggleable\"><input class=\"sk-toggleable__control sk-hidden--visually\" id=\"sk-estimator-id-17\" type=\"checkbox\" ><label for=\"sk-estimator-id-17\" class=\"sk-toggleable__label sk-toggleable__label-arrow\">HalvingGridSearchCV</label><div class=\"sk-toggleable__content\"><pre>HalvingGridSearchCV(estimator=Pipeline(steps=[(&#x27;tfidf&#x27;, TfidfVectorizer()),\n                                              (&#x27;clf&#x27;, LogisticRegression())]),\n                    n_jobs=20,\n                    param_grid={&#x27;clf__C&#x27;: array([0.1, 0.2, 0.3, 0.4, 0.5, 0.6, 0.7, 0.8, 0.9, 1. ]),\n                                &#x27;tfidf__max_df&#x27;: array([0.3       , 0.34444444, 0.38888889, 0.43333333, 0.47777778,\n       0.52222222, 0.56666667, 0.61111111, 0.65555556, 0.7       ]),\n                                &#x27;tfidf__min_df&#x27;: [0.0, 0.001, 0.003, 0.005],\n                                &#x27;tfidf__ngram_range&#x27;: [(1, 1), (1, 2), (1, 3)]},\n                    random_state=42, scoring=&#x27;recall&#x27;, verbose=1)</pre></div></div></div><div class=\"sk-parallel\"><div class=\"sk-parallel-item\"><div class=\"sk-item\"><div class=\"sk-label-container\"><div class=\"sk-label sk-toggleable\"><input class=\"sk-toggleable__control sk-hidden--visually\" id=\"sk-estimator-id-18\" type=\"checkbox\" ><label for=\"sk-estimator-id-18\" class=\"sk-toggleable__label sk-toggleable__label-arrow\">estimator: Pipeline</label><div class=\"sk-toggleable__content\"><pre>Pipeline(steps=[(&#x27;tfidf&#x27;, TfidfVectorizer()), (&#x27;clf&#x27;, LogisticRegression())])</pre></div></div></div><div class=\"sk-serial\"><div class=\"sk-item\"><div class=\"sk-serial\"><div class=\"sk-item\"><div class=\"sk-estimator sk-toggleable\"><input class=\"sk-toggleable__control sk-hidden--visually\" id=\"sk-estimator-id-19\" type=\"checkbox\" ><label for=\"sk-estimator-id-19\" class=\"sk-toggleable__label sk-toggleable__label-arrow\">TfidfVectorizer</label><div class=\"sk-toggleable__content\"><pre>TfidfVectorizer()</pre></div></div></div><div class=\"sk-item\"><div class=\"sk-estimator sk-toggleable\"><input class=\"sk-toggleable__control sk-hidden--visually\" id=\"sk-estimator-id-20\" type=\"checkbox\" ><label for=\"sk-estimator-id-20\" class=\"sk-toggleable__label sk-toggleable__label-arrow\">LogisticRegression</label><div class=\"sk-toggleable__content\"><pre>LogisticRegression()</pre></div></div></div></div></div></div></div></div></div></div></div></div>"
     },
     "execution_count": 164,
     "metadata": {},
     "output_type": "execute_result"
    }
   ],
   "source": [
    "%%time\n",
    "grid_search_log_reg_tfidf_h = HalvingGridSearchCV(\n",
    "    pipe_log_reg_tfidf,\n",
    "    param_grid=param_grid_log_reg_tfidf,\n",
    "    n_jobs=20,\n",
    "    verbose=1,\n",
    "    cv=cv,\n",
    "    scoring=metric,\n",
    "    random_state=random_state\n",
    ")\n",
    "grid_search_log_reg_tfidf_h.fit(x_train, y_train)"
   ],
   "metadata": {
    "collapsed": false,
    "ExecuteTime": {
     "end_time": "2023-10-05T10:21:44.112146300Z",
     "start_time": "2023-10-05T10:21:25.929185700Z"
    }
   },
   "id": "15d54005449daad4"
  },
  {
   "cell_type": "code",
   "execution_count": 165,
   "outputs": [
    {
     "data": {
      "text/plain": "0.7476709421569538"
     },
     "execution_count": 165,
     "metadata": {},
     "output_type": "execute_result"
    }
   ],
   "source": [
    "grid_search_log_reg_tfidf_h.best_score_"
   ],
   "metadata": {
    "collapsed": false,
    "ExecuteTime": {
     "end_time": "2023-10-05T10:22:26.574017900Z",
     "start_time": "2023-10-05T10:22:26.565992300Z"
    }
   },
   "id": "9c2a62c373418b01"
  },
  {
   "cell_type": "code",
   "execution_count": 166,
   "outputs": [
    {
     "name": "stdout",
     "output_type": "stream",
     "text": [
      "              precision    recall  f1-score   support\n",
      "\n",
      "           0       0.97      1.00      0.99       627\n",
      "           1       1.00      0.85      0.92       123\n",
      "\n",
      "    accuracy                           0.98       750\n",
      "   macro avg       0.99      0.93      0.95       750\n",
      "weighted avg       0.98      0.98      0.98       750\n"
     ]
    }
   ],
   "source": [
    "pred_log_reg_tfidf_h = grid_search_log_reg_tfidf_h.predict(x_test)\n",
    "print(classification_report(y_test, pred_log_reg_tfidf_h))\n",
    "score_log_reg_tfidf_h = grid_search_log_reg_tfidf_h.score(x_test, y_test)"
   ],
   "metadata": {
    "collapsed": false,
    "ExecuteTime": {
     "end_time": "2023-10-05T10:22:28.759346400Z",
     "start_time": "2023-10-05T10:22:28.582593700Z"
    }
   },
   "id": "6ed83c5076785ec9"
  },
  {
   "cell_type": "markdown",
   "source": [
    "### DecisionTreeClassifier:"
   ],
   "metadata": {
    "collapsed": false
   },
   "id": "35e201c858303546"
  },
  {
   "cell_type": "code",
   "execution_count": 167,
   "outputs": [],
   "source": [
    "pipe_tree_tfidf = Pipeline(\n",
    "    steps=[\n",
    "        ('tfidf', TfidfVectorizer()),\n",
    "        ('clf', DecisionTreeClassifier())\n",
    "    ]\n",
    ")\n",
    "param_grid_tree_tfidf = {\n",
    "    'tfidf__max_df': np.linspace(0.3, 0.7, 10),\n",
    "    'tfidf__min_df': [0.0, 0.001, 0.003, 0.005],\n",
    "    'tfidf__ngram_range': [(1, 1), (1, 2), (1, 3)],\n",
    "    'clf__max_depth': [4, 6, 8],\n",
    "    'clf__min_samples_split': [2, 6, 10, 14, 18],\n",
    "    'clf__min_samples_leaf': [2, 6, 10, 14, 18],\n",
    "}"
   ],
   "metadata": {
    "collapsed": false,
    "ExecuteTime": {
     "end_time": "2023-10-05T10:22:33.580211200Z",
     "start_time": "2023-10-05T10:22:33.570637400Z"
    }
   },
   "id": "a27146634672cd61"
  },
  {
   "cell_type": "code",
   "execution_count": 194,
   "outputs": [
    {
     "name": "stdout",
     "output_type": "stream",
     "text": [
      "Fitting 5 folds for each of 9000 candidates, totalling 45000 fits\n"
     ]
    }
   ],
   "source": [
    "grid_search_tree_tfidf = GridSearchCV(\n",
    "    pipe_tree_tfidf,\n",
    "    param_grid=param_grid_tree_tfidf,\n",
    "    n_jobs=20,\n",
    "    verbose=1,\n",
    "    cv=cv,\n",
    "    scoring=metric,\n",
    ").fit(x_train, y_train)"
   ],
   "metadata": {
    "collapsed": false,
    "ExecuteTime": {
     "end_time": "2023-10-05T11:52:14.263109600Z",
     "start_time": "2023-10-05T11:21:29.005049500Z"
    }
   },
   "id": "c76fdef5e68c4879"
  },
  {
   "cell_type": "code",
   "execution_count": 195,
   "outputs": [
    {
     "data": {
      "text/plain": "0.8510526315789473"
     },
     "execution_count": 195,
     "metadata": {},
     "output_type": "execute_result"
    }
   ],
   "source": [
    "grid_search_tree_tfidf.best_score_"
   ],
   "metadata": {
    "collapsed": false,
    "ExecuteTime": {
     "end_time": "2023-10-05T11:57:11.201391700Z",
     "start_time": "2023-10-05T11:57:11.190353200Z"
    }
   },
   "id": "1cc4ab03932dad8"
  },
  {
   "cell_type": "code",
   "execution_count": 196,
   "outputs": [
    {
     "name": "stdout",
     "output_type": "stream",
     "text": [
      "              precision    recall  f1-score   support\n",
      "\n",
      "           0       0.97      0.98      0.97       627\n",
      "           1       0.89      0.82      0.86       123\n",
      "\n",
      "    accuracy                           0.95       750\n",
      "   macro avg       0.93      0.90      0.91       750\n",
      "weighted avg       0.95      0.95      0.95       750\n"
     ]
    }
   ],
   "source": [
    "pred_tree_tfidf = grid_search_tree_tfidf.best_estimator_.predict(x_test)\n",
    "print(classification_report(y_test, pred_tree_tfidf))\n",
    "modelTree_tfidf = grid_search_tree_tfidf\n",
    "score_tree_tfidf = grid_search_tree_tfidf.score(x_test, y_test)"
   ],
   "metadata": {
    "collapsed": false,
    "ExecuteTime": {
     "end_time": "2023-10-05T11:57:13.309302100Z",
     "start_time": "2023-10-05T11:57:13.181939400Z"
    }
   },
   "id": "2aa09232e5687a4f"
  },
  {
   "cell_type": "code",
   "execution_count": 199,
   "outputs": [],
   "source": [
    "with open('modelTree_tfidf.pkl', 'wb') as f:\n",
    "    cloudpickle.dump(modelTree_tfidf, f)"
   ],
   "metadata": {
    "collapsed": false,
    "ExecuteTime": {
     "end_time": "2023-10-05T11:58:46.509109700Z",
     "start_time": "2023-10-05T11:58:46.461947400Z"
    }
   },
   "id": "955c617cfe8e5554"
  },
  {
   "cell_type": "code",
   "execution_count": 188,
   "outputs": [],
   "source": [
    "with open('modelTree_tfidf.pkl', 'rb') as f:\n",
    "    modelTree_tfidf = cloudpickle.load(f)\n",
    "score_tree_tfidf = modelTree_tfidf.score(x_test, y_test)"
   ],
   "metadata": {
    "collapsed": false,
    "ExecuteTime": {
     "end_time": "2023-10-05T11:16:05.375487200Z",
     "start_time": "2023-10-05T11:16:05.327596600Z"
    }
   },
   "id": "301a60157a570798"
  },
  {
   "cell_type": "code",
   "execution_count": 200,
   "outputs": [
    {
     "name": "stdout",
     "output_type": "stream",
     "text": [
      "n_iterations: 5\n",
      "n_required_iterations: 9\n",
      "n_possible_iterations: 5\n",
      "min_resources_: 20\n",
      "max_resources_: 2249\n",
      "aggressive_elimination: False\n",
      "factor: 3\n",
      "----------\n",
      "iter: 0\n",
      "n_candidates: 9000\n",
      "n_resources: 20\n",
      "Fitting 5 folds for each of 9000 candidates, totalling 45000 fits\n",
      "----------\n",
      "iter: 1\n",
      "n_candidates: 3000\n",
      "n_resources: 60\n",
      "Fitting 5 folds for each of 3000 candidates, totalling 15000 fits\n",
      "----------\n",
      "iter: 2\n",
      "n_candidates: 1000\n",
      "n_resources: 180\n",
      "Fitting 5 folds for each of 1000 candidates, totalling 5000 fits\n",
      "----------\n",
      "iter: 3\n",
      "n_candidates: 334\n",
      "n_resources: 540\n",
      "Fitting 5 folds for each of 334 candidates, totalling 1670 fits\n",
      "----------\n",
      "iter: 4\n",
      "n_candidates: 112\n",
      "n_resources: 1620\n",
      "Fitting 5 folds for each of 112 candidates, totalling 560 fits\n",
      "CPU times: total: 54.6 s\n",
      "Wall time: 2min 33s\n"
     ]
    },
    {
     "data": {
      "text/plain": "HalvingGridSearchCV(estimator=Pipeline(steps=[('tfidf', TfidfVectorizer()),\n                                              ('clf',\n                                               DecisionTreeClassifier())]),\n                    n_jobs=20,\n                    param_grid={'clf__max_depth': [4, 6, 8],\n                                'clf__min_samples_leaf': [2, 6, 10, 14, 18],\n                                'clf__min_samples_split': [2, 6, 10, 14, 18],\n                                'tfidf__max_df': array([0.3       , 0.34444444, 0.38888889, 0.43333333, 0.47777778,\n       0.52222222, 0.56666667, 0.61111111, 0.65555556, 0.7       ]),\n                                'tfidf__min_df': [0.0, 0.001, 0.003, 0.005],\n                                'tfidf__ngram_range': [(1, 1), (1, 2), (1, 3)]},\n                    random_state=42, scoring='recall', verbose=1)",
      "text/html": "<style>#sk-container-id-9 {color: black;}#sk-container-id-9 pre{padding: 0;}#sk-container-id-9 div.sk-toggleable {background-color: white;}#sk-container-id-9 label.sk-toggleable__label {cursor: pointer;display: block;width: 100%;margin-bottom: 0;padding: 0.3em;box-sizing: border-box;text-align: center;}#sk-container-id-9 label.sk-toggleable__label-arrow:before {content: \"▸\";float: left;margin-right: 0.25em;color: #696969;}#sk-container-id-9 label.sk-toggleable__label-arrow:hover:before {color: black;}#sk-container-id-9 div.sk-estimator:hover label.sk-toggleable__label-arrow:before {color: black;}#sk-container-id-9 div.sk-toggleable__content {max-height: 0;max-width: 0;overflow: hidden;text-align: left;background-color: #f0f8ff;}#sk-container-id-9 div.sk-toggleable__content pre {margin: 0.2em;color: black;border-radius: 0.25em;background-color: #f0f8ff;}#sk-container-id-9 input.sk-toggleable__control:checked~div.sk-toggleable__content {max-height: 200px;max-width: 100%;overflow: auto;}#sk-container-id-9 input.sk-toggleable__control:checked~label.sk-toggleable__label-arrow:before {content: \"▾\";}#sk-container-id-9 div.sk-estimator input.sk-toggleable__control:checked~label.sk-toggleable__label {background-color: #d4ebff;}#sk-container-id-9 div.sk-label input.sk-toggleable__control:checked~label.sk-toggleable__label {background-color: #d4ebff;}#sk-container-id-9 input.sk-hidden--visually {border: 0;clip: rect(1px 1px 1px 1px);clip: rect(1px, 1px, 1px, 1px);height: 1px;margin: -1px;overflow: hidden;padding: 0;position: absolute;width: 1px;}#sk-container-id-9 div.sk-estimator {font-family: monospace;background-color: #f0f8ff;border: 1px dotted black;border-radius: 0.25em;box-sizing: border-box;margin-bottom: 0.5em;}#sk-container-id-9 div.sk-estimator:hover {background-color: #d4ebff;}#sk-container-id-9 div.sk-parallel-item::after {content: \"\";width: 100%;border-bottom: 1px solid gray;flex-grow: 1;}#sk-container-id-9 div.sk-label:hover label.sk-toggleable__label {background-color: #d4ebff;}#sk-container-id-9 div.sk-serial::before {content: \"\";position: absolute;border-left: 1px solid gray;box-sizing: border-box;top: 0;bottom: 0;left: 50%;z-index: 0;}#sk-container-id-9 div.sk-serial {display: flex;flex-direction: column;align-items: center;background-color: white;padding-right: 0.2em;padding-left: 0.2em;position: relative;}#sk-container-id-9 div.sk-item {position: relative;z-index: 1;}#sk-container-id-9 div.sk-parallel {display: flex;align-items: stretch;justify-content: center;background-color: white;position: relative;}#sk-container-id-9 div.sk-item::before, #sk-container-id-9 div.sk-parallel-item::before {content: \"\";position: absolute;border-left: 1px solid gray;box-sizing: border-box;top: 0;bottom: 0;left: 50%;z-index: -1;}#sk-container-id-9 div.sk-parallel-item {display: flex;flex-direction: column;z-index: 1;position: relative;background-color: white;}#sk-container-id-9 div.sk-parallel-item:first-child::after {align-self: flex-end;width: 50%;}#sk-container-id-9 div.sk-parallel-item:last-child::after {align-self: flex-start;width: 50%;}#sk-container-id-9 div.sk-parallel-item:only-child::after {width: 0;}#sk-container-id-9 div.sk-dashed-wrapped {border: 1px dashed gray;margin: 0 0.4em 0.5em 0.4em;box-sizing: border-box;padding-bottom: 0.4em;background-color: white;}#sk-container-id-9 div.sk-label label {font-family: monospace;font-weight: bold;display: inline-block;line-height: 1.2em;}#sk-container-id-9 div.sk-label-container {text-align: center;}#sk-container-id-9 div.sk-container {/* jupyter's `normalize.less` sets `[hidden] { display: none; }` but bootstrap.min.css set `[hidden] { display: none !important; }` so we also need the `!important` here to be able to override the default hidden behavior on the sphinx rendered scikit-learn.org. See: https://github.com/scikit-learn/scikit-learn/issues/21755 */display: inline-block !important;position: relative;}#sk-container-id-9 div.sk-text-repr-fallback {display: none;}</style><div id=\"sk-container-id-9\" class=\"sk-top-container\"><div class=\"sk-text-repr-fallback\"><pre>HalvingGridSearchCV(estimator=Pipeline(steps=[(&#x27;tfidf&#x27;, TfidfVectorizer()),\n                                              (&#x27;clf&#x27;,\n                                               DecisionTreeClassifier())]),\n                    n_jobs=20,\n                    param_grid={&#x27;clf__max_depth&#x27;: [4, 6, 8],\n                                &#x27;clf__min_samples_leaf&#x27;: [2, 6, 10, 14, 18],\n                                &#x27;clf__min_samples_split&#x27;: [2, 6, 10, 14, 18],\n                                &#x27;tfidf__max_df&#x27;: array([0.3       , 0.34444444, 0.38888889, 0.43333333, 0.47777778,\n       0.52222222, 0.56666667, 0.61111111, 0.65555556, 0.7       ]),\n                                &#x27;tfidf__min_df&#x27;: [0.0, 0.001, 0.003, 0.005],\n                                &#x27;tfidf__ngram_range&#x27;: [(1, 1), (1, 2), (1, 3)]},\n                    random_state=42, scoring=&#x27;recall&#x27;, verbose=1)</pre><b>In a Jupyter environment, please rerun this cell to show the HTML representation or trust the notebook. <br />On GitHub, the HTML representation is unable to render, please try loading this page with nbviewer.org.</b></div><div class=\"sk-container\" hidden><div class=\"sk-item sk-dashed-wrapped\"><div class=\"sk-label-container\"><div class=\"sk-label sk-toggleable\"><input class=\"sk-toggleable__control sk-hidden--visually\" id=\"sk-estimator-id-33\" type=\"checkbox\" ><label for=\"sk-estimator-id-33\" class=\"sk-toggleable__label sk-toggleable__label-arrow\">HalvingGridSearchCV</label><div class=\"sk-toggleable__content\"><pre>HalvingGridSearchCV(estimator=Pipeline(steps=[(&#x27;tfidf&#x27;, TfidfVectorizer()),\n                                              (&#x27;clf&#x27;,\n                                               DecisionTreeClassifier())]),\n                    n_jobs=20,\n                    param_grid={&#x27;clf__max_depth&#x27;: [4, 6, 8],\n                                &#x27;clf__min_samples_leaf&#x27;: [2, 6, 10, 14, 18],\n                                &#x27;clf__min_samples_split&#x27;: [2, 6, 10, 14, 18],\n                                &#x27;tfidf__max_df&#x27;: array([0.3       , 0.34444444, 0.38888889, 0.43333333, 0.47777778,\n       0.52222222, 0.56666667, 0.61111111, 0.65555556, 0.7       ]),\n                                &#x27;tfidf__min_df&#x27;: [0.0, 0.001, 0.003, 0.005],\n                                &#x27;tfidf__ngram_range&#x27;: [(1, 1), (1, 2), (1, 3)]},\n                    random_state=42, scoring=&#x27;recall&#x27;, verbose=1)</pre></div></div></div><div class=\"sk-parallel\"><div class=\"sk-parallel-item\"><div class=\"sk-item\"><div class=\"sk-label-container\"><div class=\"sk-label sk-toggleable\"><input class=\"sk-toggleable__control sk-hidden--visually\" id=\"sk-estimator-id-34\" type=\"checkbox\" ><label for=\"sk-estimator-id-34\" class=\"sk-toggleable__label sk-toggleable__label-arrow\">estimator: Pipeline</label><div class=\"sk-toggleable__content\"><pre>Pipeline(steps=[(&#x27;tfidf&#x27;, TfidfVectorizer()),\n                (&#x27;clf&#x27;, DecisionTreeClassifier())])</pre></div></div></div><div class=\"sk-serial\"><div class=\"sk-item\"><div class=\"sk-serial\"><div class=\"sk-item\"><div class=\"sk-estimator sk-toggleable\"><input class=\"sk-toggleable__control sk-hidden--visually\" id=\"sk-estimator-id-35\" type=\"checkbox\" ><label for=\"sk-estimator-id-35\" class=\"sk-toggleable__label sk-toggleable__label-arrow\">TfidfVectorizer</label><div class=\"sk-toggleable__content\"><pre>TfidfVectorizer()</pre></div></div></div><div class=\"sk-item\"><div class=\"sk-estimator sk-toggleable\"><input class=\"sk-toggleable__control sk-hidden--visually\" id=\"sk-estimator-id-36\" type=\"checkbox\" ><label for=\"sk-estimator-id-36\" class=\"sk-toggleable__label sk-toggleable__label-arrow\">DecisionTreeClassifier</label><div class=\"sk-toggleable__content\"><pre>DecisionTreeClassifier()</pre></div></div></div></div></div></div></div></div></div></div></div></div>"
     },
     "execution_count": 200,
     "metadata": {},
     "output_type": "execute_result"
    }
   ],
   "source": [
    "%%time\n",
    "\n",
    "grid_search_tree_tfidf_h = HalvingGridSearchCV(\n",
    "    pipe_tree_tfidf,\n",
    "    param_grid=param_grid_tree_tfidf,\n",
    "    n_jobs=20,\n",
    "    verbose=1,\n",
    "    cv=cv,\n",
    "    scoring=metric,\n",
    "    random_state=random_state,\n",
    ")\n",
    "grid_search_tree_tfidf_h.fit(x_train, y_train)"
   ],
   "metadata": {
    "collapsed": false,
    "ExecuteTime": {
     "end_time": "2023-10-05T12:01:21.830356400Z",
     "start_time": "2023-10-05T11:58:48.014294400Z"
    }
   },
   "id": "daadbc23d3da0a44"
  },
  {
   "cell_type": "code",
   "execution_count": 201,
   "outputs": [
    {
     "data": {
      "text/plain": "0.8372827400316014"
     },
     "execution_count": 201,
     "metadata": {},
     "output_type": "execute_result"
    }
   ],
   "source": [
    "grid_search_tree_tfidf_h.best_score_"
   ],
   "metadata": {
    "collapsed": false,
    "ExecuteTime": {
     "end_time": "2023-10-05T12:08:42.774260600Z",
     "start_time": "2023-10-05T12:08:42.753187800Z"
    }
   },
   "id": "3e3694fd9c496f48"
  },
  {
   "cell_type": "code",
   "execution_count": 202,
   "outputs": [
    {
     "name": "stdout",
     "output_type": "stream",
     "text": [
      "              precision    recall  f1-score   support\n",
      "\n",
      "           0       0.97      0.96      0.96       627\n",
      "           1       0.82      0.83      0.82       123\n",
      "\n",
      "    accuracy                           0.94       750\n",
      "   macro avg       0.89      0.90      0.89       750\n",
      "weighted avg       0.94      0.94      0.94       750\n",
      "\n",
      "0.8292682926829268 0.8211382113821138\n"
     ]
    }
   ],
   "source": [
    "pred_tree_tfidf_h = grid_search_tree_tfidf_h.best_estimator_.predict(x_test)\n",
    "print(classification_report(y_test, pred_tree_tfidf_h))\n",
    "score_tree_tfidf_h = grid_search_tree_tfidf_h.score(x_test, y_test)\n",
    "print(score_tree_tfidf_h, score_tree_tfidf)"
   ],
   "metadata": {
    "collapsed": false,
    "ExecuteTime": {
     "end_time": "2023-10-05T12:08:44.701708700Z",
     "start_time": "2023-10-05T12:08:44.648523800Z"
    }
   },
   "id": "493b7b8c0ac0f0c"
  },
  {
   "cell_type": "markdown",
   "source": [
    "### MultinomialNB:"
   ],
   "metadata": {
    "collapsed": false
   },
   "id": "ac0bcd1a4da8e3c"
  },
  {
   "cell_type": "code",
   "execution_count": 175,
   "outputs": [
    {
     "name": "stdout",
     "output_type": "stream",
     "text": [
      "Fitting 5 folds for each of 360 candidates, totalling 1800 fits\n"
     ]
    }
   ],
   "source": [
    "pipe_nb_tfidf = Pipeline(\n",
    "    steps=[\n",
    "        ('tfidf', TfidfVectorizer()),\n",
    "        ('clf', MultinomialNB())\n",
    "    ]\n",
    ")\n",
    "param_grid_nb_tfidf = {\n",
    "    'tfidf__max_df': np.linspace(0.3, 0.7, 10),\n",
    "    'tfidf__min_df': [0.0, 0.001, 0.003, 0.005],\n",
    "    'tfidf__ngram_range': [(1, 1), (1, 2), (1, 3)],\n",
    "    'clf__alpha': [0.001, 0.1, 1],\n",
    "}\n",
    "grid_search_nb_tfidf = GridSearchCV(\n",
    "    pipe_nb_tfidf,\n",
    "    param_grid=param_grid_nb_tfidf,\n",
    "    n_jobs=20,\n",
    "    verbose=1,\n",
    "    cv=cv,\n",
    "    scoring=metric,\n",
    ").fit(x_train, y_train)"
   ],
   "metadata": {
    "collapsed": false,
    "ExecuteTime": {
     "end_time": "2023-10-05T11:06:55.876241600Z",
     "start_time": "2023-10-05T11:06:04.665024700Z"
    }
   },
   "id": "e349d766bf441885"
  },
  {
   "cell_type": "code",
   "execution_count": 176,
   "outputs": [
    {
     "data": {
      "text/plain": "0.9547719298245614"
     },
     "execution_count": 176,
     "metadata": {},
     "output_type": "execute_result"
    }
   ],
   "source": [
    "grid_search_nb_tfidf.best_score_"
   ],
   "metadata": {
    "collapsed": false,
    "ExecuteTime": {
     "end_time": "2023-10-05T11:07:14.001953800Z",
     "start_time": "2023-10-05T11:07:13.990915800Z"
    }
   },
   "id": "f0d5a66c788cb968"
  },
  {
   "cell_type": "code",
   "execution_count": 177,
   "outputs": [
    {
     "name": "stdout",
     "output_type": "stream",
     "text": [
      "              precision    recall  f1-score   support\n",
      "\n",
      "           0       0.99      1.00      1.00       627\n",
      "           1       1.00      0.96      0.98       123\n",
      "\n",
      "    accuracy                           0.99       750\n",
      "   macro avg       1.00      0.98      0.99       750\n",
      "weighted avg       0.99      0.99      0.99       750\n"
     ]
    }
   ],
   "source": [
    "pred_nb_tfidf = grid_search_nb_tfidf.predict(x_test)\n",
    "print(classification_report(y_test, pred_nb_tfidf))\n",
    "score_nb_tfidf = grid_search_nb_tfidf.score(x_test, y_test)"
   ],
   "metadata": {
    "collapsed": false,
    "ExecuteTime": {
     "end_time": "2023-10-05T11:07:16.033466800Z",
     "start_time": "2023-10-05T11:07:15.843793900Z"
    }
   },
   "id": "4d256e215a3bfa23"
  },
  {
   "cell_type": "code",
   "execution_count": 178,
   "outputs": [
    {
     "name": "stdout",
     "output_type": "stream",
     "text": [
      "n_iterations: 5\n",
      "n_required_iterations: 6\n",
      "n_possible_iterations: 5\n",
      "min_resources_: 20\n",
      "max_resources_: 2249\n",
      "aggressive_elimination: False\n",
      "factor: 3\n",
      "----------\n",
      "iter: 0\n",
      "n_candidates: 360\n",
      "n_resources: 20\n",
      "Fitting 5 folds for each of 360 candidates, totalling 1800 fits\n",
      "----------\n",
      "iter: 1\n",
      "n_candidates: 120\n",
      "n_resources: 60\n",
      "Fitting 5 folds for each of 120 candidates, totalling 600 fits\n",
      "----------\n",
      "iter: 2\n",
      "n_candidates: 40\n",
      "n_resources: 180\n",
      "Fitting 5 folds for each of 40 candidates, totalling 200 fits\n",
      "----------\n",
      "iter: 3\n",
      "n_candidates: 14\n",
      "n_resources: 540\n",
      "Fitting 5 folds for each of 14 candidates, totalling 70 fits\n",
      "----------\n",
      "iter: 4\n",
      "n_candidates: 5\n",
      "n_resources: 1620\n",
      "Fitting 5 folds for each of 5 candidates, totalling 25 fits\n",
      "CPU times: total: 3.52 s\n",
      "Wall time: 6.06 s\n"
     ]
    },
    {
     "data": {
      "text/plain": "HalvingGridSearchCV(estimator=Pipeline(steps=[('tfidf', TfidfVectorizer()),\n                                              ('clf', MultinomialNB())]),\n                    n_jobs=20,\n                    param_grid={'clf__alpha': [0.001, 0.1, 1],\n                                'tfidf__max_df': array([0.3       , 0.34444444, 0.38888889, 0.43333333, 0.47777778,\n       0.52222222, 0.56666667, 0.61111111, 0.65555556, 0.7       ]),\n                                'tfidf__min_df': [0.0, 0.001, 0.003, 0.005],\n                                'tfidf__ngram_range': [(1, 1), (1, 2), (1, 3)]},\n                    random_state=42, scoring='recall', verbose=1)",
      "text/html": "<style>#sk-container-id-7 {color: black;}#sk-container-id-7 pre{padding: 0;}#sk-container-id-7 div.sk-toggleable {background-color: white;}#sk-container-id-7 label.sk-toggleable__label {cursor: pointer;display: block;width: 100%;margin-bottom: 0;padding: 0.3em;box-sizing: border-box;text-align: center;}#sk-container-id-7 label.sk-toggleable__label-arrow:before {content: \"▸\";float: left;margin-right: 0.25em;color: #696969;}#sk-container-id-7 label.sk-toggleable__label-arrow:hover:before {color: black;}#sk-container-id-7 div.sk-estimator:hover label.sk-toggleable__label-arrow:before {color: black;}#sk-container-id-7 div.sk-toggleable__content {max-height: 0;max-width: 0;overflow: hidden;text-align: left;background-color: #f0f8ff;}#sk-container-id-7 div.sk-toggleable__content pre {margin: 0.2em;color: black;border-radius: 0.25em;background-color: #f0f8ff;}#sk-container-id-7 input.sk-toggleable__control:checked~div.sk-toggleable__content {max-height: 200px;max-width: 100%;overflow: auto;}#sk-container-id-7 input.sk-toggleable__control:checked~label.sk-toggleable__label-arrow:before {content: \"▾\";}#sk-container-id-7 div.sk-estimator input.sk-toggleable__control:checked~label.sk-toggleable__label {background-color: #d4ebff;}#sk-container-id-7 div.sk-label input.sk-toggleable__control:checked~label.sk-toggleable__label {background-color: #d4ebff;}#sk-container-id-7 input.sk-hidden--visually {border: 0;clip: rect(1px 1px 1px 1px);clip: rect(1px, 1px, 1px, 1px);height: 1px;margin: -1px;overflow: hidden;padding: 0;position: absolute;width: 1px;}#sk-container-id-7 div.sk-estimator {font-family: monospace;background-color: #f0f8ff;border: 1px dotted black;border-radius: 0.25em;box-sizing: border-box;margin-bottom: 0.5em;}#sk-container-id-7 div.sk-estimator:hover {background-color: #d4ebff;}#sk-container-id-7 div.sk-parallel-item::after {content: \"\";width: 100%;border-bottom: 1px solid gray;flex-grow: 1;}#sk-container-id-7 div.sk-label:hover label.sk-toggleable__label {background-color: #d4ebff;}#sk-container-id-7 div.sk-serial::before {content: \"\";position: absolute;border-left: 1px solid gray;box-sizing: border-box;top: 0;bottom: 0;left: 50%;z-index: 0;}#sk-container-id-7 div.sk-serial {display: flex;flex-direction: column;align-items: center;background-color: white;padding-right: 0.2em;padding-left: 0.2em;position: relative;}#sk-container-id-7 div.sk-item {position: relative;z-index: 1;}#sk-container-id-7 div.sk-parallel {display: flex;align-items: stretch;justify-content: center;background-color: white;position: relative;}#sk-container-id-7 div.sk-item::before, #sk-container-id-7 div.sk-parallel-item::before {content: \"\";position: absolute;border-left: 1px solid gray;box-sizing: border-box;top: 0;bottom: 0;left: 50%;z-index: -1;}#sk-container-id-7 div.sk-parallel-item {display: flex;flex-direction: column;z-index: 1;position: relative;background-color: white;}#sk-container-id-7 div.sk-parallel-item:first-child::after {align-self: flex-end;width: 50%;}#sk-container-id-7 div.sk-parallel-item:last-child::after {align-self: flex-start;width: 50%;}#sk-container-id-7 div.sk-parallel-item:only-child::after {width: 0;}#sk-container-id-7 div.sk-dashed-wrapped {border: 1px dashed gray;margin: 0 0.4em 0.5em 0.4em;box-sizing: border-box;padding-bottom: 0.4em;background-color: white;}#sk-container-id-7 div.sk-label label {font-family: monospace;font-weight: bold;display: inline-block;line-height: 1.2em;}#sk-container-id-7 div.sk-label-container {text-align: center;}#sk-container-id-7 div.sk-container {/* jupyter's `normalize.less` sets `[hidden] { display: none; }` but bootstrap.min.css set `[hidden] { display: none !important; }` so we also need the `!important` here to be able to override the default hidden behavior on the sphinx rendered scikit-learn.org. See: https://github.com/scikit-learn/scikit-learn/issues/21755 */display: inline-block !important;position: relative;}#sk-container-id-7 div.sk-text-repr-fallback {display: none;}</style><div id=\"sk-container-id-7\" class=\"sk-top-container\"><div class=\"sk-text-repr-fallback\"><pre>HalvingGridSearchCV(estimator=Pipeline(steps=[(&#x27;tfidf&#x27;, TfidfVectorizer()),\n                                              (&#x27;clf&#x27;, MultinomialNB())]),\n                    n_jobs=20,\n                    param_grid={&#x27;clf__alpha&#x27;: [0.001, 0.1, 1],\n                                &#x27;tfidf__max_df&#x27;: array([0.3       , 0.34444444, 0.38888889, 0.43333333, 0.47777778,\n       0.52222222, 0.56666667, 0.61111111, 0.65555556, 0.7       ]),\n                                &#x27;tfidf__min_df&#x27;: [0.0, 0.001, 0.003, 0.005],\n                                &#x27;tfidf__ngram_range&#x27;: [(1, 1), (1, 2), (1, 3)]},\n                    random_state=42, scoring=&#x27;recall&#x27;, verbose=1)</pre><b>In a Jupyter environment, please rerun this cell to show the HTML representation or trust the notebook. <br />On GitHub, the HTML representation is unable to render, please try loading this page with nbviewer.org.</b></div><div class=\"sk-container\" hidden><div class=\"sk-item sk-dashed-wrapped\"><div class=\"sk-label-container\"><div class=\"sk-label sk-toggleable\"><input class=\"sk-toggleable__control sk-hidden--visually\" id=\"sk-estimator-id-25\" type=\"checkbox\" ><label for=\"sk-estimator-id-25\" class=\"sk-toggleable__label sk-toggleable__label-arrow\">HalvingGridSearchCV</label><div class=\"sk-toggleable__content\"><pre>HalvingGridSearchCV(estimator=Pipeline(steps=[(&#x27;tfidf&#x27;, TfidfVectorizer()),\n                                              (&#x27;clf&#x27;, MultinomialNB())]),\n                    n_jobs=20,\n                    param_grid={&#x27;clf__alpha&#x27;: [0.001, 0.1, 1],\n                                &#x27;tfidf__max_df&#x27;: array([0.3       , 0.34444444, 0.38888889, 0.43333333, 0.47777778,\n       0.52222222, 0.56666667, 0.61111111, 0.65555556, 0.7       ]),\n                                &#x27;tfidf__min_df&#x27;: [0.0, 0.001, 0.003, 0.005],\n                                &#x27;tfidf__ngram_range&#x27;: [(1, 1), (1, 2), (1, 3)]},\n                    random_state=42, scoring=&#x27;recall&#x27;, verbose=1)</pre></div></div></div><div class=\"sk-parallel\"><div class=\"sk-parallel-item\"><div class=\"sk-item\"><div class=\"sk-label-container\"><div class=\"sk-label sk-toggleable\"><input class=\"sk-toggleable__control sk-hidden--visually\" id=\"sk-estimator-id-26\" type=\"checkbox\" ><label for=\"sk-estimator-id-26\" class=\"sk-toggleable__label sk-toggleable__label-arrow\">estimator: Pipeline</label><div class=\"sk-toggleable__content\"><pre>Pipeline(steps=[(&#x27;tfidf&#x27;, TfidfVectorizer()), (&#x27;clf&#x27;, MultinomialNB())])</pre></div></div></div><div class=\"sk-serial\"><div class=\"sk-item\"><div class=\"sk-serial\"><div class=\"sk-item\"><div class=\"sk-estimator sk-toggleable\"><input class=\"sk-toggleable__control sk-hidden--visually\" id=\"sk-estimator-id-27\" type=\"checkbox\" ><label for=\"sk-estimator-id-27\" class=\"sk-toggleable__label sk-toggleable__label-arrow\">TfidfVectorizer</label><div class=\"sk-toggleable__content\"><pre>TfidfVectorizer()</pre></div></div></div><div class=\"sk-item\"><div class=\"sk-estimator sk-toggleable\"><input class=\"sk-toggleable__control sk-hidden--visually\" id=\"sk-estimator-id-28\" type=\"checkbox\" ><label for=\"sk-estimator-id-28\" class=\"sk-toggleable__label sk-toggleable__label-arrow\">MultinomialNB</label><div class=\"sk-toggleable__content\"><pre>MultinomialNB()</pre></div></div></div></div></div></div></div></div></div></div></div></div>"
     },
     "execution_count": 178,
     "metadata": {},
     "output_type": "execute_result"
    }
   ],
   "source": [
    "%%time\n",
    "grid_search_nb_tfidf_h = HalvingGridSearchCV(\n",
    "    pipe_nb_tfidf,\n",
    "    param_grid=param_grid_nb_tfidf,\n",
    "    n_jobs=20,\n",
    "    verbose=1,\n",
    "    cv=cv,\n",
    "    scoring=metric,\n",
    "    random_state=random_state\n",
    ")\n",
    "grid_search_nb_tfidf_h.fit(x_train, y_train)"
   ],
   "metadata": {
    "collapsed": false,
    "ExecuteTime": {
     "end_time": "2023-10-05T11:07:25.226668400Z",
     "start_time": "2023-10-05T11:07:19.157414400Z"
    }
   },
   "id": "e8a878774b051f34"
  },
  {
   "cell_type": "code",
   "execution_count": 179,
   "outputs": [
    {
     "data": {
      "text/plain": "0.9208879387799362"
     },
     "execution_count": 179,
     "metadata": {},
     "output_type": "execute_result"
    }
   ],
   "source": [
    "grid_search_nb_tfidf_h.best_score_"
   ],
   "metadata": {
    "collapsed": false,
    "ExecuteTime": {
     "end_time": "2023-10-05T11:07:29.014839900Z",
     "start_time": "2023-10-05T11:07:29.004818300Z"
    }
   },
   "id": "922e19826f3647de"
  },
  {
   "cell_type": "code",
   "execution_count": 180,
   "outputs": [
    {
     "name": "stdout",
     "output_type": "stream",
     "text": [
      "              precision    recall  f1-score   support\n",
      "\n",
      "           0       0.99      1.00      1.00       627\n",
      "           1       1.00      0.96      0.98       123\n",
      "\n",
      "    accuracy                           0.99       750\n",
      "   macro avg       1.00      0.98      0.99       750\n",
      "weighted avg       0.99      0.99      0.99       750\n"
     ]
    }
   ],
   "source": [
    "pred_nb_tfidf_h = grid_search_nb_tfidf_h.best_estimator_.predict(x_test)\n",
    "print(classification_report(y_test, pred_nb_tfidf_h))\n",
    "score_nb_tfidf_h = grid_search_nb_tfidf_h.score(x_test, y_test)"
   ],
   "metadata": {
    "collapsed": false,
    "ExecuteTime": {
     "end_time": "2023-10-05T11:07:31.564563100Z",
     "start_time": "2023-10-05T11:07:31.414009800Z"
    }
   },
   "id": "859fc03e1862c793"
  },
  {
   "cell_type": "markdown",
   "source": [
    "## Подведение итогов по TfidfVectorizer\n",
    "Аналогичным образом был построен график для TfidfVectorizer. HalvingGridSearchCV и GridSearchCV тут справились для двух моделей одинаково. По какой-то причине HalvingGridSearchCV нашел для модели \"Дерево решений\" параметры лучше, чем GridSearchCV, который делает полный перебор (что очень странно). Лучший score был достигнут для модели Naive Bayes."
   ],
   "metadata": {
    "collapsed": false
   },
   "id": "92ed9a91598b3b94"
  },
  {
   "cell_type": "code",
   "execution_count": 225,
   "outputs": [
    {
     "data": {
      "text/plain": "<Figure size 640x480 with 1 Axes>",
      "image/png": "[encoded data removed]"
     },
     "metadata": {},
     "output_type": "display_data"
    }
   ],
   "source": [
    "models = ['LogReg', 'Tree', 'NB']\n",
    "data_pred_tfidf = [score_log_reg_tfidf, score_tree_tfidf, score_nb_tfidf]\n",
    "data_pred_tfidf_h = [score_log_reg_tfidf_h, score_tree_tfidf_h, score_nb_tfidf_h]\n",
    "\n",
    "df_tfidf = pd.DataFrame({'model': models, 'GridSearchCV': data_pred_tfidf, 'HalvingGridSearchCV': data_pred_tfidf_h})\n",
    "fig, ax = plt.subplots()\n",
    "bar_width = 0.35\n",
    "\n",
    "GridSearchCV_diagram = ax.bar(df_tfidf['model'], df_tfidf['GridSearchCV'], bar_width, label='GridSearchCV', color='green')\n",
    "HalvingGridSearchCV_diagram = ax.bar(df_tfidf['model'], df_tfidf['HalvingGridSearchCV'], bar_width, label='HalvingGridSearchCV',\n",
    "                                     color='grey', alpha=0.5)\n",
    "\n",
    "ax.set_xlabel('Models')\n",
    "ax.set_ylabel('Scores')\n",
    "ax.set_title('Scores by model and search method for TfidfVectorizer')\n",
    "ax.legend(loc = 'upper center')\n",
    "for i, rect in enumerate(GridSearchCV_diagram):\n",
    "    height = rect.get_height()\n",
    "\n",
    "    ax.annotate('{}'.format(round(height, 2)),\n",
    "                xy=(rect.get_x() + rect.get_width() / 2, height),\n",
    "                xytext=(0, 3),\n",
    "                textcoords=\"offset points\",\n",
    "                ha='center')\n",
    "plt.show()"
   ],
   "metadata": {
    "collapsed": false,
    "ExecuteTime": {
     "end_time": "2023-10-05T12:19:44.277739500Z",
     "start_time": "2023-10-05T12:19:44.192820400Z"
    }
   },
   "id": "59142293a9ebf60f"
  },
  {
   "cell_type": "markdown",
   "source": [
    "# Сравнение результатов по CountVectorizer и TfidfVectorizer\n",
    "Как видно из графика ниже, CountVectorizer показал себя лучше, чем TfidfVectorizer. Сравнения были проделаны по score, который был взят у лучшей модели. Лучшая модель - результат GridSearchCV. Наивысший score был достигнут на модели Naive Bayes как для CountVectorizer, так и для TfidfVectorizer."
   ],
   "metadata": {
    "collapsed": false
   },
   "id": "5c989b390a9445ee"
  },
  {
   "cell_type": "code",
   "execution_count": 228,
   "outputs": [
    {
     "data": {
      "text/plain": "<Figure size 640x480 with 1 Axes>",
      "image/png": "[encoded data removed]"
     },
     "metadata": {},
     "output_type": "display_data"
    }
   ],
   "source": [
    "models = ['LogReg', 'Tree', 'NB']\n",
    "df_compare = pd.DataFrame({'model': models, 'CountVectorizer': data_pred, 'TfidfVectorizer': data_pred_tfidf})\n",
    "fig, ax = plt.subplots()\n",
    "bar_width = 0.35\n",
    "\n",
    "CountVectorizer_diagram = ax.bar(df_compare['model'], df_compare['CountVectorizer'], bar_width, label='CountVectorizer', color='grey')\n",
    "TfidfVectorizer_diagram = ax.bar(df_compare['model'], df_compare['TfidfVectorizer'], bar_width, label='TfidfVectorizer',\n",
    "                                     color='green', alpha=0.8)\n",
    "\n",
    "ax.set_xlabel('Models')\n",
    "ax.set_ylabel('Scores')\n",
    "ax.set_title('CountVectorizer VS TfidfVectorizer')\n",
    "ax.legend(loc = 'upper center')\n",
    "for i, rect in enumerate(CountVectorizer_diagram):\n",
    "    height = rect.get_height()\n",
    "\n",
    "    ax.annotate('{}'.format(round(height, 2)),\n",
    "                xy=(rect.get_x() + rect.get_width() / 2, height),\n",
    "                xytext=(0, 3),\n",
    "                textcoords=\"offset points\",\n",
    "                ha='center')\n",
    "plt.show()"
   ],
   "metadata": {
    "collapsed": false,
    "ExecuteTime": {
     "end_time": "2023-10-05T12:20:33.368973700Z",
     "start_time": "2023-10-05T12:20:33.287691500Z"
    }
   },
   "id": "784670367687dee9"
  }
 ],
 "metadata": {
  "kernelspec": {
   "display_name": "Python 3",
   "language": "python",
   "name": "python3"
  },
  "language_info": {
   "codemirror_mode": {
    "name": "ipython",
    "version": 2
   },
   "file_extension": ".py",
   "mimetype": "text/x-python",
   "name": "python",
   "nbconvert_exporter": "python",
   "pygments_lexer": "ipython2",
   "version": "2.7.6"
  }
 },
 "nbformat": 4,
 "nbformat_minor": 5
}
