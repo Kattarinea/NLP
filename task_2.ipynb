{
 "cells": [
  {
   "cell_type": "code",
   "execution_count": 82,
   "outputs": [],
   "source": [
    "%%capture\n",
    "import sys\n",
    "!{sys.executable} -m pip install -U pandas-profiling[notebook]\n",
    "!jupyter nbextension enable --py widgetsnbextension\n",
    "!pip install scikit-learn\n",
    "!pip install spacy\n",
    "!pip install seaborn\n",
    "!python -m spacy download en_core_web_sm\n",
    "!pip install cloudpickle"
   ],
   "metadata": {
    "collapsed": false,
    "ExecuteTime": {
     "end_time": "2023-10-23T10:40:34.742459600Z",
     "start_time": "2023-10-23T10:40:08.867595500Z"
    }
   },
   "id": "f74c57dca6ffdfea"
  },
  {
   "cell_type": "code",
   "execution_count": 1,
   "outputs": [],
   "source": [
    "import pandas as pd\n",
    "import spacy\n",
    "import cloudpickle\n",
    "import seaborn as sns\n",
    "import numpy as np\n",
    "import matplotlib.pyplot as plt\n",
    "from sklearn.pipeline import Pipeline\n",
    "from sklearn.model_selection import train_test_split\n",
    "from sklearn.feature_extraction.text import CountVectorizer, TfidfVectorizer\n",
    "from sklearn.linear_model import LogisticRegression\n",
    "from sklearn.tree import DecisionTreeClassifier\n",
    "from sklearn.naive_bayes import MultinomialNB\n",
    "from sklearn.metrics import classification_report\n",
    "from sklearn.model_selection import GridSearchCV\n",
    "from sklearn.experimental import enable_halving_search_cv\n",
    "from sklearn.model_selection import HalvingGridSearchCV"
   ],
   "metadata": {
    "collapsed": false,
    "ExecuteTime": {
     "end_time": "2023-10-23T08:46:58.409011400Z",
     "start_time": "2023-10-23T08:46:56.819547700Z"
    }
   },
   "id": "initial_id"
  },
  {
   "cell_type": "code",
   "execution_count": 2,
   "outputs": [
    {
     "data": {
      "text/plain": "                                               email  label\n0   date wed NUMBER aug NUMBER NUMBER NUMBER NUMB...      0\n1  martin a posted tassos papadopoulos the greek ...      0\n2  man threatens explosion in moscow thursday aug...      0\n3  klez the virus that won t die already the most...      0\n4   in adding cream to spaghetti carbonara which ...      0",
      "text/html": "<div>\n<style scoped>\n    .dataframe tbody tr th:only-of-type {\n        vertical-align: middle;\n    }\n\n    .dataframe tbody tr th {\n        vertical-align: top;\n    }\n\n    .dataframe thead th {\n        text-align: right;\n    }\n</style>\n<table border=\"1\" class=\"dataframe\">\n  <thead>\n    <tr style=\"text-align: right;\">\n      <th></th>\n      <th>email</th>\n      <th>label</th>\n    </tr>\n  </thead>\n  <tbody>\n    <tr>\n      <th>0</th>\n      <td>date wed NUMBER aug NUMBER NUMBER NUMBER NUMB...</td>\n      <td>0</td>\n    </tr>\n    <tr>\n      <th>1</th>\n      <td>martin a posted tassos papadopoulos the greek ...</td>\n      <td>0</td>\n    </tr>\n    <tr>\n      <th>2</th>\n      <td>man threatens explosion in moscow thursday aug...</td>\n      <td>0</td>\n    </tr>\n    <tr>\n      <th>3</th>\n      <td>klez the virus that won t die already the most...</td>\n      <td>0</td>\n    </tr>\n    <tr>\n      <th>4</th>\n      <td>in adding cream to spaghetti carbonara which ...</td>\n      <td>0</td>\n    </tr>\n  </tbody>\n</table>\n</div>"
     },
     "execution_count": 2,
     "metadata": {},
     "output_type": "execute_result"
    }
   ],
   "source": [
    "data = pd.read_csv('spam_or_not_spam.csv')\n",
    "data.head()"
   ],
   "metadata": {
    "collapsed": false,
    "ExecuteTime": {
     "end_time": "2023-10-23T08:47:00.694400400Z",
     "start_time": "2023-10-23T08:47:00.632390900Z"
    }
   },
   "id": "a062b8f7628abffe"
  },
  {
   "cell_type": "markdown",
   "source": [
    "# Обработка датасета\n",
    "Как видно из содержимого датасета, метки уже имеют удобный, бинарный вид (0 и 1), поэтому тут менять ничего не нужно.\n",
    "В нашем датасете соотношение \"spam\" и \"not spam\" составляет 5 к 1, что не так плохо.\n",
    "Необходимо проверить, есть ли в датасете пустые значения. Если да, то такие записи необходимо удалить. У нас есть только одна такая запись под индексом 2966."
   ],
   "metadata": {
    "collapsed": false
   },
   "id": "5a36aeb4521ab6ea"
  },
  {
   "cell_type": "code",
   "execution_count": 3,
   "outputs": [
    {
     "data": {
      "text/plain": "label\n0    2500\n1     500\nName: count, dtype: int64"
     },
     "execution_count": 3,
     "metadata": {},
     "output_type": "execute_result"
    }
   ],
   "source": [
    "data['label'].value_counts()"
   ],
   "metadata": {
    "collapsed": false,
    "ExecuteTime": {
     "end_time": "2023-10-23T08:47:03.028293700Z",
     "start_time": "2023-10-23T08:47:03.010294Z"
    }
   },
   "id": "cb190419e82b1040"
  },
  {
   "cell_type": "code",
   "execution_count": 4,
   "outputs": [
    {
     "data": {
      "text/plain": "     email  label\n2966   NaN      1",
      "text/html": "<div>\n<style scoped>\n    .dataframe tbody tr th:only-of-type {\n        vertical-align: middle;\n    }\n\n    .dataframe tbody tr th {\n        vertical-align: top;\n    }\n\n    .dataframe thead th {\n        text-align: right;\n    }\n</style>\n<table border=\"1\" class=\"dataframe\">\n  <thead>\n    <tr style=\"text-align: right;\">\n      <th></th>\n      <th>email</th>\n      <th>label</th>\n    </tr>\n  </thead>\n  <tbody>\n    <tr>\n      <th>2966</th>\n      <td>NaN</td>\n      <td>1</td>\n    </tr>\n  </tbody>\n</table>\n</div>"
     },
     "execution_count": 4,
     "metadata": {},
     "output_type": "execute_result"
    }
   ],
   "source": [
    "pd.isnull(data['email']).values.sum()\n",
    "n = pd.isnull(data['email'])\n",
    "data[n]"
   ],
   "metadata": {
    "collapsed": false,
    "ExecuteTime": {
     "end_time": "2023-10-23T08:47:05.025857100Z",
     "start_time": "2023-10-23T08:47:05.002857Z"
    }
   },
   "id": "64551c253f4479ec"
  },
  {
   "cell_type": "code",
   "execution_count": 5,
   "outputs": [],
   "source": [
    "data = data.dropna()"
   ],
   "metadata": {
    "collapsed": false,
    "ExecuteTime": {
     "end_time": "2023-10-23T08:47:07.520509800Z",
     "start_time": "2023-10-23T08:47:07.506519200Z"
    }
   },
   "id": "5f5d68c86a071a6a"
  },
  {
   "cell_type": "markdown",
   "source": [
    "Для обработки текста использовался SpaCy. Были убраны все стоп-слова из списка, цифры, знаки препинания, лишние пробелы. Текст был приведен к нижнему регистру и лемматизирован. Решено было не убирать токены, похожие на email, так как они могут присутствовать в spam сообщениях."
   ],
   "metadata": {
    "collapsed": false
   },
   "id": "4473761761d3fc6f"
  },
  {
   "cell_type": "code",
   "execution_count": 6,
   "outputs": [],
   "source": [
    "nlp = spacy.load('en_core_web_sm')\n",
    "stopwords = nlp.Defaults.stop_words\n",
    "data['cleaned_text'] = data['email'].apply(\n",
    "    lambda x: ' '.join(\n",
    "        token.lemma_.lower() for token in nlp(x) if\n",
    "        not token.is_stop\n",
    "        and not token.is_space\n",
    "        and not token.like_num\n",
    "        and not token.is_punct\n",
    "        and not token.is_digit\n",
    "    ))"
   ],
   "metadata": {
    "collapsed": false,
    "ExecuteTime": {
     "end_time": "2023-10-23T08:47:56.113659500Z",
     "start_time": "2023-10-23T08:47:09.449785500Z"
    }
   },
   "id": "a5c09a6539b85213"
  },
  {
   "cell_type": "code",
   "execution_count": 7,
   "outputs": [
    {
     "data": {
      "text/plain": "2208    url url date supply rob pringle flickenger o r...\n1163    message date thu number aug number number numb...\n2620    computer need oil change nortonsystemwork numb...\n971     haven t enable debug log hack support preferen...\n2807    url promote product service thousand classifie...\n1576    set razor spamassassin get error mail log file...\n1051    ve note package version blackbox hackedbox ava...\nName: cleaned_text, dtype: object"
     },
     "execution_count": 7,
     "metadata": {},
     "output_type": "execute_result"
    }
   ],
   "source": [
    "data['cleaned_text'].sample(7)"
   ],
   "metadata": {
    "collapsed": false,
    "ExecuteTime": {
     "end_time": "2023-10-23T08:48:00.237347900Z",
     "start_time": "2023-10-23T08:48:00.229348900Z"
    }
   },
   "id": "96545f351e48efa6"
  },
  {
   "cell_type": "code",
   "execution_count": 8,
   "outputs": [],
   "source": [
    "cv = 5\n",
    "metric = 'recall'\n",
    "random_state = 42"
   ],
   "metadata": {
    "collapsed": false,
    "ExecuteTime": {
     "end_time": "2023-10-23T08:48:03.500395300Z",
     "start_time": "2023-10-23T08:48:03.485973500Z"
    }
   },
   "id": "365778822aff3ce1"
  },
  {
   "cell_type": "code",
   "execution_count": 9,
   "outputs": [],
   "source": [
    "x_train, x_test, y_train, y_test = train_test_split(data['cleaned_text'], data['label'], random_state=random_state)"
   ],
   "metadata": {
    "collapsed": false,
    "ExecuteTime": {
     "end_time": "2023-10-23T08:48:05.928571Z",
     "start_time": "2023-10-23T08:48:05.901571300Z"
    }
   },
   "id": "c71c3c584ec6e026"
  },
  {
   "cell_type": "markdown",
   "source": [
    "# CountVectorizer\n",
    "В данном разделе получим вектора при помощи CountVectorizer; обучим модели: дерево решений, логистическая регрессия и наивный Байес с использованием кросс-валидации и подбором гиперпараметров. \n",
    "Для оценки качества использовалась метрика recall, т.к. для данной задачи нам важно понимать, как много мы находим спама. Для подбора гиперпараметров использовался GridSearchCV и HalvingGridSearchCV."
   ],
   "metadata": {
    "collapsed": false
   },
   "id": "f21b3aa8386aaafa"
  },
  {
   "cell_type": "markdown",
   "source": [
    "### LogisticRegression:"
   ],
   "metadata": {
    "collapsed": false
   },
   "id": "45f5428d739c3f1a"
  },
  {
   "cell_type": "code",
   "execution_count": 25,
   "outputs": [],
   "source": [
    "pipe_log_reg = Pipeline(\n",
    "    steps=[\n",
    "        ('counter', CountVectorizer()),\n",
    "        ('clf', LogisticRegression())\n",
    "    ]\n",
    ")"
   ],
   "metadata": {
    "collapsed": false,
    "ExecuteTime": {
     "end_time": "2023-10-23T09:25:43.653839300Z",
     "start_time": "2023-10-23T09:25:43.635813500Z"
    }
   },
   "id": "ede11209ead8aff6"
  },
  {
   "cell_type": "code",
   "execution_count": 26,
   "outputs": [],
   "source": [
    "param_grid_log_reg = {\n",
    "    'counter__max_df': np.linspace(0.3, 0.7, 10),\n",
    "    'counter__min_df': [0.0, 0.001, 0.003, 0.005],\n",
    "    'counter__ngram_range': [(1, 1), (1, 2), (1, 3)],\n",
    "    'clf__C': np.linspace(0.1, 1, 10),\n",
    "}"
   ],
   "metadata": {
    "collapsed": false,
    "ExecuteTime": {
     "end_time": "2023-10-23T09:25:45.333908200Z",
     "start_time": "2023-10-23T09:25:45.321877700Z"
    }
   },
   "id": "77f4ff4a404c1c6a"
  },
  {
   "cell_type": "code",
   "execution_count": 27,
   "outputs": [
    {
     "name": "stdout",
     "output_type": "stream",
     "text": [
      "Fitting 5 folds for each of 1200 candidates, totalling 6000 fits\n"
     ]
    }
   ],
   "source": [
    "grid_search_log_reg = GridSearchCV(\n",
    "    pipe_log_reg,\n",
    "    param_grid=param_grid_log_reg,\n",
    "    n_jobs=20,\n",
    "    verbose=1,\n",
    "    cv=cv,\n",
    "    scoring=metric,\n",
    ").fit(x_train, y_train)"
   ],
   "metadata": {
    "collapsed": false,
    "ExecuteTime": {
     "end_time": "2023-10-23T09:33:33.257188100Z",
     "start_time": "2023-10-23T09:25:46.846323200Z"
    }
   },
   "id": "91e3aca3bb865b21"
  },
  {
   "cell_type": "code",
   "execution_count": 28,
   "outputs": [
    {
     "data": {
      "text/plain": "0.9414385964912281"
     },
     "execution_count": 28,
     "metadata": {},
     "output_type": "execute_result"
    }
   ],
   "source": [
    "grid_search_log_reg.best_score_"
   ],
   "metadata": {
    "collapsed": false,
    "ExecuteTime": {
     "end_time": "2023-10-23T09:35:44.719691700Z",
     "start_time": "2023-10-23T09:35:44.711665700Z"
    }
   },
   "id": "35fa9b96e71ffeb0"
  },
  {
   "cell_type": "code",
   "execution_count": 29,
   "outputs": [
    {
     "name": "stdout",
     "output_type": "stream",
     "text": [
      "              precision    recall  f1-score   support\n",
      "\n",
      "           0       0.99      1.00      0.99       627\n",
      "           1       0.99      0.95      0.97       123\n",
      "\n",
      "    accuracy                           0.99       750\n",
      "   macro avg       0.99      0.97      0.98       750\n",
      "weighted avg       0.99      0.99      0.99       750\n"
     ]
    }
   ],
   "source": [
    "pred_log_reg = grid_search_log_reg.best_estimator_.predict(x_test)\n",
    "print(classification_report(y_test, pred_log_reg))\n",
    "score_log_reg = grid_search_log_reg.score(x_test, y_test)"
   ],
   "metadata": {
    "collapsed": false,
    "ExecuteTime": {
     "end_time": "2023-10-23T09:35:47.498076400Z",
     "start_time": "2023-10-23T09:35:47.344809400Z"
    }
   },
   "id": "9f9572dc0f013a2c"
  },
  {
   "cell_type": "code",
   "execution_count": 30,
   "outputs": [
    {
     "name": "stdout",
     "output_type": "stream",
     "text": [
      "n_iterations: 5\n",
      "n_required_iterations: 7\n",
      "n_possible_iterations: 5\n",
      "min_resources_: 20\n",
      "max_resources_: 2249\n",
      "aggressive_elimination: False\n",
      "factor: 3\n",
      "----------\n",
      "iter: 0\n",
      "n_candidates: 1200\n",
      "n_resources: 20\n",
      "Fitting 5 folds for each of 1200 candidates, totalling 6000 fits\n",
      "----------\n",
      "iter: 1\n",
      "n_candidates: 400\n",
      "n_resources: 60\n",
      "Fitting 5 folds for each of 400 candidates, totalling 2000 fits\n",
      "----------\n",
      "iter: 2\n",
      "n_candidates: 134\n",
      "n_resources: 180\n",
      "Fitting 5 folds for each of 134 candidates, totalling 670 fits\n",
      "----------\n",
      "iter: 3\n",
      "n_candidates: 45\n",
      "n_resources: 540\n",
      "Fitting 5 folds for each of 45 candidates, totalling 225 fits\n",
      "----------\n",
      "iter: 4\n",
      "n_candidates: 15\n",
      "n_resources: 1620\n",
      "Fitting 5 folds for each of 15 candidates, totalling 75 fits\n",
      "CPU times: total: 6.33 s\n",
      "Wall time: 12.9 s\n"
     ]
    },
    {
     "data": {
      "text/plain": "HalvingGridSearchCV(estimator=Pipeline(steps=[('counter', CountVectorizer()),\n                                              ('clf', LogisticRegression())]),\n                    n_jobs=20,\n                    param_grid={'clf__C': array([0.1, 0.2, 0.3, 0.4, 0.5, 0.6, 0.7, 0.8, 0.9, 1. ]),\n                                'counter__max_df': array([0.3       , 0.34444444, 0.38888889, 0.43333333, 0.47777778,\n       0.52222222, 0.56666667, 0.61111111, 0.65555556, 0.7       ]),\n                                'counter__min_df': [0.0, 0.001, 0.003, 0.005],\n                                'counter__ngram_range': [(1, 1), (1, 2),\n                                                         (1, 3)]},\n                    random_state=42, scoring='recall', verbose=1)",
      "text/html": "<style>#sk-container-id-2 {color: black;}#sk-container-id-2 pre{padding: 0;}#sk-container-id-2 div.sk-toggleable {background-color: white;}#sk-container-id-2 label.sk-toggleable__label {cursor: pointer;display: block;width: 100%;margin-bottom: 0;padding: 0.3em;box-sizing: border-box;text-align: center;}#sk-container-id-2 label.sk-toggleable__label-arrow:before {content: \"▸\";float: left;margin-right: 0.25em;color: #696969;}#sk-container-id-2 label.sk-toggleable__label-arrow:hover:before {color: black;}#sk-container-id-2 div.sk-estimator:hover label.sk-toggleable__label-arrow:before {color: black;}#sk-container-id-2 div.sk-toggleable__content {max-height: 0;max-width: 0;overflow: hidden;text-align: left;background-color: #f0f8ff;}#sk-container-id-2 div.sk-toggleable__content pre {margin: 0.2em;color: black;border-radius: 0.25em;background-color: #f0f8ff;}#sk-container-id-2 input.sk-toggleable__control:checked~div.sk-toggleable__content {max-height: 200px;max-width: 100%;overflow: auto;}#sk-container-id-2 input.sk-toggleable__control:checked~label.sk-toggleable__label-arrow:before {content: \"▾\";}#sk-container-id-2 div.sk-estimator input.sk-toggleable__control:checked~label.sk-toggleable__label {background-color: #d4ebff;}#sk-container-id-2 div.sk-label input.sk-toggleable__control:checked~label.sk-toggleable__label {background-color: #d4ebff;}#sk-container-id-2 input.sk-hidden--visually {border: 0;clip: rect(1px 1px 1px 1px);clip: rect(1px, 1px, 1px, 1px);height: 1px;margin: -1px;overflow: hidden;padding: 0;position: absolute;width: 1px;}#sk-container-id-2 div.sk-estimator {font-family: monospace;background-color: #f0f8ff;border: 1px dotted black;border-radius: 0.25em;box-sizing: border-box;margin-bottom: 0.5em;}#sk-container-id-2 div.sk-estimator:hover {background-color: #d4ebff;}#sk-container-id-2 div.sk-parallel-item::after {content: \"\";width: 100%;border-bottom: 1px solid gray;flex-grow: 1;}#sk-container-id-2 div.sk-label:hover label.sk-toggleable__label {background-color: #d4ebff;}#sk-container-id-2 div.sk-serial::before {content: \"\";position: absolute;border-left: 1px solid gray;box-sizing: border-box;top: 0;bottom: 0;left: 50%;z-index: 0;}#sk-container-id-2 div.sk-serial {display: flex;flex-direction: column;align-items: center;background-color: white;padding-right: 0.2em;padding-left: 0.2em;position: relative;}#sk-container-id-2 div.sk-item {position: relative;z-index: 1;}#sk-container-id-2 div.sk-parallel {display: flex;align-items: stretch;justify-content: center;background-color: white;position: relative;}#sk-container-id-2 div.sk-item::before, #sk-container-id-2 div.sk-parallel-item::before {content: \"\";position: absolute;border-left: 1px solid gray;box-sizing: border-box;top: 0;bottom: 0;left: 50%;z-index: -1;}#sk-container-id-2 div.sk-parallel-item {display: flex;flex-direction: column;z-index: 1;position: relative;background-color: white;}#sk-container-id-2 div.sk-parallel-item:first-child::after {align-self: flex-end;width: 50%;}#sk-container-id-2 div.sk-parallel-item:last-child::after {align-self: flex-start;width: 50%;}#sk-container-id-2 div.sk-parallel-item:only-child::after {width: 0;}#sk-container-id-2 div.sk-dashed-wrapped {border: 1px dashed gray;margin: 0 0.4em 0.5em 0.4em;box-sizing: border-box;padding-bottom: 0.4em;background-color: white;}#sk-container-id-2 div.sk-label label {font-family: monospace;font-weight: bold;display: inline-block;line-height: 1.2em;}#sk-container-id-2 div.sk-label-container {text-align: center;}#sk-container-id-2 div.sk-container {/* jupyter's `normalize.less` sets `[hidden] { display: none; }` but bootstrap.min.css set `[hidden] { display: none !important; }` so we also need the `!important` here to be able to override the default hidden behavior on the sphinx rendered scikit-learn.org. See: https://github.com/scikit-learn/scikit-learn/issues/21755 */display: inline-block !important;position: relative;}#sk-container-id-2 div.sk-text-repr-fallback {display: none;}</style><div id=\"sk-container-id-2\" class=\"sk-top-container\"><div class=\"sk-text-repr-fallback\"><pre>HalvingGridSearchCV(estimator=Pipeline(steps=[(&#x27;counter&#x27;, CountVectorizer()),\n                                              (&#x27;clf&#x27;, LogisticRegression())]),\n                    n_jobs=20,\n                    param_grid={&#x27;clf__C&#x27;: array([0.1, 0.2, 0.3, 0.4, 0.5, 0.6, 0.7, 0.8, 0.9, 1. ]),\n                                &#x27;counter__max_df&#x27;: array([0.3       , 0.34444444, 0.38888889, 0.43333333, 0.47777778,\n       0.52222222, 0.56666667, 0.61111111, 0.65555556, 0.7       ]),\n                                &#x27;counter__min_df&#x27;: [0.0, 0.001, 0.003, 0.005],\n                                &#x27;counter__ngram_range&#x27;: [(1, 1), (1, 2),\n                                                         (1, 3)]},\n                    random_state=42, scoring=&#x27;recall&#x27;, verbose=1)</pre><b>In a Jupyter environment, please rerun this cell to show the HTML representation or trust the notebook. <br />On GitHub, the HTML representation is unable to render, please try loading this page with nbviewer.org.</b></div><div class=\"sk-container\" hidden><div class=\"sk-item sk-dashed-wrapped\"><div class=\"sk-label-container\"><div class=\"sk-label sk-toggleable\"><input class=\"sk-toggleable__control sk-hidden--visually\" id=\"sk-estimator-id-5\" type=\"checkbox\" ><label for=\"sk-estimator-id-5\" class=\"sk-toggleable__label sk-toggleable__label-arrow\">HalvingGridSearchCV</label><div class=\"sk-toggleable__content\"><pre>HalvingGridSearchCV(estimator=Pipeline(steps=[(&#x27;counter&#x27;, CountVectorizer()),\n                                              (&#x27;clf&#x27;, LogisticRegression())]),\n                    n_jobs=20,\n                    param_grid={&#x27;clf__C&#x27;: array([0.1, 0.2, 0.3, 0.4, 0.5, 0.6, 0.7, 0.8, 0.9, 1. ]),\n                                &#x27;counter__max_df&#x27;: array([0.3       , 0.34444444, 0.38888889, 0.43333333, 0.47777778,\n       0.52222222, 0.56666667, 0.61111111, 0.65555556, 0.7       ]),\n                                &#x27;counter__min_df&#x27;: [0.0, 0.001, 0.003, 0.005],\n                                &#x27;counter__ngram_range&#x27;: [(1, 1), (1, 2),\n                                                         (1, 3)]},\n                    random_state=42, scoring=&#x27;recall&#x27;, verbose=1)</pre></div></div></div><div class=\"sk-parallel\"><div class=\"sk-parallel-item\"><div class=\"sk-item\"><div class=\"sk-label-container\"><div class=\"sk-label sk-toggleable\"><input class=\"sk-toggleable__control sk-hidden--visually\" id=\"sk-estimator-id-6\" type=\"checkbox\" ><label for=\"sk-estimator-id-6\" class=\"sk-toggleable__label sk-toggleable__label-arrow\">estimator: Pipeline</label><div class=\"sk-toggleable__content\"><pre>Pipeline(steps=[(&#x27;counter&#x27;, CountVectorizer()), (&#x27;clf&#x27;, LogisticRegression())])</pre></div></div></div><div class=\"sk-serial\"><div class=\"sk-item\"><div class=\"sk-serial\"><div class=\"sk-item\"><div class=\"sk-estimator sk-toggleable\"><input class=\"sk-toggleable__control sk-hidden--visually\" id=\"sk-estimator-id-7\" type=\"checkbox\" ><label for=\"sk-estimator-id-7\" class=\"sk-toggleable__label sk-toggleable__label-arrow\">CountVectorizer</label><div class=\"sk-toggleable__content\"><pre>CountVectorizer()</pre></div></div></div><div class=\"sk-item\"><div class=\"sk-estimator sk-toggleable\"><input class=\"sk-toggleable__control sk-hidden--visually\" id=\"sk-estimator-id-8\" type=\"checkbox\" ><label for=\"sk-estimator-id-8\" class=\"sk-toggleable__label sk-toggleable__label-arrow\">LogisticRegression</label><div class=\"sk-toggleable__content\"><pre>LogisticRegression()</pre></div></div></div></div></div></div></div></div></div></div></div></div>"
     },
     "execution_count": 30,
     "metadata": {},
     "output_type": "execute_result"
    }
   ],
   "source": [
    "%%time\n",
    "\n",
    "grid_search_log_reg_h = HalvingGridSearchCV(\n",
    "    pipe_log_reg,\n",
    "    param_grid=param_grid_log_reg,\n",
    "    n_jobs=20,\n",
    "    verbose=1,\n",
    "    cv=cv,\n",
    "    scoring=metric,\n",
    "    random_state=random_state,\n",
    ")\n",
    "grid_search_log_reg_h.fit(x_train, y_train)"
   ],
   "metadata": {
    "collapsed": false,
    "ExecuteTime": {
     "end_time": "2023-10-23T09:36:07.504648700Z",
     "start_time": "2023-10-23T09:35:54.626709300Z"
    }
   },
   "id": "5f09cd52cc809877"
  },
  {
   "cell_type": "code",
   "execution_count": 31,
   "outputs": [
    {
     "data": {
      "text/plain": "0.8678656628559036"
     },
     "execution_count": 31,
     "metadata": {},
     "output_type": "execute_result"
    }
   ],
   "source": [
    "grid_search_log_reg_h.best_score_"
   ],
   "metadata": {
    "collapsed": false,
    "ExecuteTime": {
     "end_time": "2023-10-23T09:36:11.055928200Z",
     "start_time": "2023-10-23T09:36:11.048936600Z"
    }
   },
   "id": "750bec8ce37330a5"
  },
  {
   "cell_type": "code",
   "execution_count": 32,
   "outputs": [
    {
     "name": "stdout",
     "output_type": "stream",
     "text": [
      "              precision    recall  f1-score   support\n",
      "\n",
      "           0       0.98      0.99      0.99       627\n",
      "           1       0.96      0.92      0.94       123\n",
      "\n",
      "    accuracy                           0.98       750\n",
      "   macro avg       0.97      0.96      0.96       750\n",
      "weighted avg       0.98      0.98      0.98       750\n"
     ]
    }
   ],
   "source": [
    "pred_log_reg_h = grid_search_log_reg_h.best_estimator_.predict(x_test)\n",
    "print(classification_report(y_test, pred_log_reg_h))\n",
    "score_log_reg_h = grid_search_log_reg_h.score(x_test, y_test)"
   ],
   "metadata": {
    "collapsed": false,
    "ExecuteTime": {
     "end_time": "2023-10-23T09:36:12.774523Z",
     "start_time": "2023-10-23T09:36:12.704517100Z"
    }
   },
   "id": "a29d3091e8b4eb69"
  },
  {
   "cell_type": "markdown",
   "source": [
    "### DecisionTreeClassifier:"
   ],
   "metadata": {
    "collapsed": false
   },
   "id": "5ce26b98f2a7ceed"
  },
  {
   "cell_type": "code",
   "execution_count": 16,
   "outputs": [],
   "source": [
    "pipe_tree = Pipeline(\n",
    "    steps=[\n",
    "        ('counter', CountVectorizer()),\n",
    "        ('clf', DecisionTreeClassifier(random_state=random_state))\n",
    "    ]\n",
    ")"
   ],
   "metadata": {
    "collapsed": false,
    "ExecuteTime": {
     "end_time": "2023-10-23T08:54:03.951445300Z",
     "start_time": "2023-10-23T08:54:03.934447100Z"
    }
   },
   "id": "6f445bb4556ed4a"
  },
  {
   "cell_type": "code",
   "execution_count": 17,
   "outputs": [],
   "source": [
    "param_grid_tree = {\n",
    "    'counter__max_df': np.linspace(0.3, 0.7, 10),\n",
    "    'counter__min_df': [0.0, 0.001, 0.003, 0.005],\n",
    "    'counter__ngram_range': [(1, 1), (1, 2), (1, 3)],\n",
    "    'clf__max_depth': [4, 6, 8],\n",
    "    'clf__min_samples_split': [2, 6, 10, 14, 18],\n",
    "    'clf__min_samples_leaf': [2, 6, 10, 14, 18],\n",
    "}"
   ],
   "metadata": {
    "collapsed": false,
    "ExecuteTime": {
     "end_time": "2023-10-23T08:54:05.393713Z",
     "start_time": "2023-10-23T08:54:05.377690200Z"
    }
   },
   "id": "5dc3f22d1441bfcc"
  },
  {
   "cell_type": "code",
   "execution_count": 18,
   "outputs": [
    {
     "name": "stdout",
     "output_type": "stream",
     "text": [
      "Fitting 5 folds for each of 9000 candidates, totalling 45000 fits\n"
     ]
    }
   ],
   "source": [
    "grid_search_tree = GridSearchCV(\n",
    "    pipe_tree,\n",
    "    param_grid=param_grid_tree,\n",
    "    n_jobs=20,\n",
    "    verbose=1,\n",
    "    cv=cv,\n",
    "    scoring=metric,\n",
    ").fit(x_train, y_train)"
   ],
   "metadata": {
    "collapsed": false,
    "ExecuteTime": {
     "end_time": "2023-10-23T09:21:56.568462400Z",
     "start_time": "2023-10-23T08:54:06.640751100Z"
    }
   },
   "id": "929e15ed6f43f045"
  },
  {
   "cell_type": "code",
   "execution_count": 19,
   "outputs": [
    {
     "data": {
      "text/plain": "0.8377543859649123"
     },
     "execution_count": 19,
     "metadata": {},
     "output_type": "execute_result"
    }
   ],
   "source": [
    "grid_search_tree.best_score_"
   ],
   "metadata": {
    "collapsed": false,
    "ExecuteTime": {
     "end_time": "2023-10-23T09:22:05.459338800Z",
     "start_time": "2023-10-23T09:22:05.446339200Z"
    }
   },
   "id": "7990c70f34022f9c"
  },
  {
   "cell_type": "code",
   "execution_count": 20,
   "outputs": [
    {
     "name": "stdout",
     "output_type": "stream",
     "text": [
      "              precision    recall  f1-score   support\n",
      "\n",
      "           0       0.97      0.98      0.97       627\n",
      "           1       0.87      0.85      0.86       123\n",
      "\n",
      "    accuracy                           0.95       750\n",
      "   macro avg       0.92      0.91      0.92       750\n",
      "weighted avg       0.95      0.95      0.95       750\n"
     ]
    }
   ],
   "source": [
    "pred_tree = grid_search_tree.best_estimator_.predict(x_test)\n",
    "print(classification_report(y_test, pred_tree))\n",
    "score_tree = grid_search_tree.score(x_test, y_test)\n",
    "modelTree = grid_search_tree"
   ],
   "metadata": {
    "collapsed": false,
    "ExecuteTime": {
     "end_time": "2023-10-23T09:22:10.238110100Z",
     "start_time": "2023-10-23T09:22:10.191853900Z"
    }
   },
   "id": "9f921fe0fada13d0"
  },
  {
   "cell_type": "markdown",
   "source": [
    "Т.к. гиперпараметров довольно много, обучение происходит довольно долго, поэтому было решено сохранить лучшую модель в файл, чтобы не запускать каждый раз обучение и иметь возможность сразу построить графики."
   ],
   "metadata": {
    "collapsed": false
   },
   "id": "280e8cc0836283ba"
  },
  {
   "cell_type": "code",
   "execution_count": 21,
   "outputs": [],
   "source": [
    "with open('modelTree.pkl', 'wb') as f:\n",
    "    cloudpickle.dump(modelTree, f)"
   ],
   "metadata": {
    "collapsed": false,
    "ExecuteTime": {
     "end_time": "2023-10-23T09:22:15.591649800Z",
     "start_time": "2023-10-23T09:22:15.562126900Z"
    }
   },
   "id": "d4dab7f8e8a312f"
  },
  {
   "cell_type": "code",
   "execution_count": 159,
   "outputs": [],
   "source": [
    "with open('modelTree.pkl', 'rb') as f:\n",
    "    modelTree = cloudpickle.load(f)\n",
    "score_tree = modelTree.score(x_test, y_test)"
   ],
   "metadata": {
    "collapsed": false,
    "ExecuteTime": {
     "end_time": "2023-10-05T10:14:48.814091900Z",
     "start_time": "2023-10-05T10:14:48.775889400Z"
    }
   },
   "id": "79a3f6649f05a5c"
  },
  {
   "cell_type": "code",
   "execution_count": 22,
   "outputs": [
    {
     "name": "stdout",
     "output_type": "stream",
     "text": [
      "n_iterations: 5\n",
      "n_required_iterations: 9\n",
      "n_possible_iterations: 5\n",
      "min_resources_: 20\n",
      "max_resources_: 2249\n",
      "aggressive_elimination: False\n",
      "factor: 3\n",
      "----------\n",
      "iter: 0\n",
      "n_candidates: 9000\n",
      "n_resources: 20\n",
      "Fitting 5 folds for each of 9000 candidates, totalling 45000 fits\n",
      "----------\n",
      "iter: 1\n",
      "n_candidates: 3000\n",
      "n_resources: 60\n",
      "Fitting 5 folds for each of 3000 candidates, totalling 15000 fits\n",
      "----------\n",
      "iter: 2\n",
      "n_candidates: 1000\n",
      "n_resources: 180\n",
      "Fitting 5 folds for each of 1000 candidates, totalling 5000 fits\n",
      "----------\n",
      "iter: 3\n",
      "n_candidates: 334\n",
      "n_resources: 540\n",
      "Fitting 5 folds for each of 334 candidates, totalling 1670 fits\n",
      "----------\n",
      "iter: 4\n",
      "n_candidates: 112\n",
      "n_resources: 1620\n",
      "Fitting 5 folds for each of 112 candidates, totalling 560 fits\n",
      "CPU times: total: 33.4 s\n",
      "Wall time: 2min 3s\n"
     ]
    },
    {
     "data": {
      "text/plain": "HalvingGridSearchCV(estimator=Pipeline(steps=[('counter', CountVectorizer()),\n                                              ('clf',\n                                               DecisionTreeClassifier(random_state=42))]),\n                    n_jobs=20,\n                    param_grid={'clf__max_depth': [4, 6, 8],\n                                'clf__min_samples_leaf': [2, 6, 10, 14, 18],\n                                'clf__min_samples_split': [2, 6, 10, 14, 18],\n                                'counter__max_df': array([0.3       , 0.34444444, 0.38888889, 0.43333333, 0.47777778,\n       0.52222222, 0.56666667, 0.61111111, 0.65555556, 0.7       ]),\n                                'counter__min_df': [0.0, 0.001, 0.003, 0.005],\n                                'counter__ngram_range': [(1, 1), (1, 2),\n                                                         (1, 3)]},\n                    random_state=42, scoring='recall', verbose=1)",
      "text/html": "<style>#sk-container-id-1 {color: black;}#sk-container-id-1 pre{padding: 0;}#sk-container-id-1 div.sk-toggleable {background-color: white;}#sk-container-id-1 label.sk-toggleable__label {cursor: pointer;display: block;width: 100%;margin-bottom: 0;padding: 0.3em;box-sizing: border-box;text-align: center;}#sk-container-id-1 label.sk-toggleable__label-arrow:before {content: \"▸\";float: left;margin-right: 0.25em;color: #696969;}#sk-container-id-1 label.sk-toggleable__label-arrow:hover:before {color: black;}#sk-container-id-1 div.sk-estimator:hover label.sk-toggleable__label-arrow:before {color: black;}#sk-container-id-1 div.sk-toggleable__content {max-height: 0;max-width: 0;overflow: hidden;text-align: left;background-color: #f0f8ff;}#sk-container-id-1 div.sk-toggleable__content pre {margin: 0.2em;color: black;border-radius: 0.25em;background-color: #f0f8ff;}#sk-container-id-1 input.sk-toggleable__control:checked~div.sk-toggleable__content {max-height: 200px;max-width: 100%;overflow: auto;}#sk-container-id-1 input.sk-toggleable__control:checked~label.sk-toggleable__label-arrow:before {content: \"▾\";}#sk-container-id-1 div.sk-estimator input.sk-toggleable__control:checked~label.sk-toggleable__label {background-color: #d4ebff;}#sk-container-id-1 div.sk-label input.sk-toggleable__control:checked~label.sk-toggleable__label {background-color: #d4ebff;}#sk-container-id-1 input.sk-hidden--visually {border: 0;clip: rect(1px 1px 1px 1px);clip: rect(1px, 1px, 1px, 1px);height: 1px;margin: -1px;overflow: hidden;padding: 0;position: absolute;width: 1px;}#sk-container-id-1 div.sk-estimator {font-family: monospace;background-color: #f0f8ff;border: 1px dotted black;border-radius: 0.25em;box-sizing: border-box;margin-bottom: 0.5em;}#sk-container-id-1 div.sk-estimator:hover {background-color: #d4ebff;}#sk-container-id-1 div.sk-parallel-item::after {content: \"\";width: 100%;border-bottom: 1px solid gray;flex-grow: 1;}#sk-container-id-1 div.sk-label:hover label.sk-toggleable__label {background-color: #d4ebff;}#sk-container-id-1 div.sk-serial::before {content: \"\";position: absolute;border-left: 1px solid gray;box-sizing: border-box;top: 0;bottom: 0;left: 50%;z-index: 0;}#sk-container-id-1 div.sk-serial {display: flex;flex-direction: column;align-items: center;background-color: white;padding-right: 0.2em;padding-left: 0.2em;position: relative;}#sk-container-id-1 div.sk-item {position: relative;z-index: 1;}#sk-container-id-1 div.sk-parallel {display: flex;align-items: stretch;justify-content: center;background-color: white;position: relative;}#sk-container-id-1 div.sk-item::before, #sk-container-id-1 div.sk-parallel-item::before {content: \"\";position: absolute;border-left: 1px solid gray;box-sizing: border-box;top: 0;bottom: 0;left: 50%;z-index: -1;}#sk-container-id-1 div.sk-parallel-item {display: flex;flex-direction: column;z-index: 1;position: relative;background-color: white;}#sk-container-id-1 div.sk-parallel-item:first-child::after {align-self: flex-end;width: 50%;}#sk-container-id-1 div.sk-parallel-item:last-child::after {align-self: flex-start;width: 50%;}#sk-container-id-1 div.sk-parallel-item:only-child::after {width: 0;}#sk-container-id-1 div.sk-dashed-wrapped {border: 1px dashed gray;margin: 0 0.4em 0.5em 0.4em;box-sizing: border-box;padding-bottom: 0.4em;background-color: white;}#sk-container-id-1 div.sk-label label {font-family: monospace;font-weight: bold;display: inline-block;line-height: 1.2em;}#sk-container-id-1 div.sk-label-container {text-align: center;}#sk-container-id-1 div.sk-container {/* jupyter's `normalize.less` sets `[hidden] { display: none; }` but bootstrap.min.css set `[hidden] { display: none !important; }` so we also need the `!important` here to be able to override the default hidden behavior on the sphinx rendered scikit-learn.org. See: https://github.com/scikit-learn/scikit-learn/issues/21755 */display: inline-block !important;position: relative;}#sk-container-id-1 div.sk-text-repr-fallback {display: none;}</style><div id=\"sk-container-id-1\" class=\"sk-top-container\"><div class=\"sk-text-repr-fallback\"><pre>HalvingGridSearchCV(estimator=Pipeline(steps=[(&#x27;counter&#x27;, CountVectorizer()),\n                                              (&#x27;clf&#x27;,\n                                               DecisionTreeClassifier(random_state=42))]),\n                    n_jobs=20,\n                    param_grid={&#x27;clf__max_depth&#x27;: [4, 6, 8],\n                                &#x27;clf__min_samples_leaf&#x27;: [2, 6, 10, 14, 18],\n                                &#x27;clf__min_samples_split&#x27;: [2, 6, 10, 14, 18],\n                                &#x27;counter__max_df&#x27;: array([0.3       , 0.34444444, 0.38888889, 0.43333333, 0.47777778,\n       0.52222222, 0.56666667, 0.61111111, 0.65555556, 0.7       ]),\n                                &#x27;counter__min_df&#x27;: [0.0, 0.001, 0.003, 0.005],\n                                &#x27;counter__ngram_range&#x27;: [(1, 1), (1, 2),\n                                                         (1, 3)]},\n                    random_state=42, scoring=&#x27;recall&#x27;, verbose=1)</pre><b>In a Jupyter environment, please rerun this cell to show the HTML representation or trust the notebook. <br />On GitHub, the HTML representation is unable to render, please try loading this page with nbviewer.org.</b></div><div class=\"sk-container\" hidden><div class=\"sk-item sk-dashed-wrapped\"><div class=\"sk-label-container\"><div class=\"sk-label sk-toggleable\"><input class=\"sk-toggleable__control sk-hidden--visually\" id=\"sk-estimator-id-1\" type=\"checkbox\" ><label for=\"sk-estimator-id-1\" class=\"sk-toggleable__label sk-toggleable__label-arrow\">HalvingGridSearchCV</label><div class=\"sk-toggleable__content\"><pre>HalvingGridSearchCV(estimator=Pipeline(steps=[(&#x27;counter&#x27;, CountVectorizer()),\n                                              (&#x27;clf&#x27;,\n                                               DecisionTreeClassifier(random_state=42))]),\n                    n_jobs=20,\n                    param_grid={&#x27;clf__max_depth&#x27;: [4, 6, 8],\n                                &#x27;clf__min_samples_leaf&#x27;: [2, 6, 10, 14, 18],\n                                &#x27;clf__min_samples_split&#x27;: [2, 6, 10, 14, 18],\n                                &#x27;counter__max_df&#x27;: array([0.3       , 0.34444444, 0.38888889, 0.43333333, 0.47777778,\n       0.52222222, 0.56666667, 0.61111111, 0.65555556, 0.7       ]),\n                                &#x27;counter__min_df&#x27;: [0.0, 0.001, 0.003, 0.005],\n                                &#x27;counter__ngram_range&#x27;: [(1, 1), (1, 2),\n                                                         (1, 3)]},\n                    random_state=42, scoring=&#x27;recall&#x27;, verbose=1)</pre></div></div></div><div class=\"sk-parallel\"><div class=\"sk-parallel-item\"><div class=\"sk-item\"><div class=\"sk-label-container\"><div class=\"sk-label sk-toggleable\"><input class=\"sk-toggleable__control sk-hidden--visually\" id=\"sk-estimator-id-2\" type=\"checkbox\" ><label for=\"sk-estimator-id-2\" class=\"sk-toggleable__label sk-toggleable__label-arrow\">estimator: Pipeline</label><div class=\"sk-toggleable__content\"><pre>Pipeline(steps=[(&#x27;counter&#x27;, CountVectorizer()),\n                (&#x27;clf&#x27;, DecisionTreeClassifier(random_state=42))])</pre></div></div></div><div class=\"sk-serial\"><div class=\"sk-item\"><div class=\"sk-serial\"><div class=\"sk-item\"><div class=\"sk-estimator sk-toggleable\"><input class=\"sk-toggleable__control sk-hidden--visually\" id=\"sk-estimator-id-3\" type=\"checkbox\" ><label for=\"sk-estimator-id-3\" class=\"sk-toggleable__label sk-toggleable__label-arrow\">CountVectorizer</label><div class=\"sk-toggleable__content\"><pre>CountVectorizer()</pre></div></div></div><div class=\"sk-item\"><div class=\"sk-estimator sk-toggleable\"><input class=\"sk-toggleable__control sk-hidden--visually\" id=\"sk-estimator-id-4\" type=\"checkbox\" ><label for=\"sk-estimator-id-4\" class=\"sk-toggleable__label sk-toggleable__label-arrow\">DecisionTreeClassifier</label><div class=\"sk-toggleable__content\"><pre>DecisionTreeClassifier(random_state=42)</pre></div></div></div></div></div></div></div></div></div></div></div></div>"
     },
     "execution_count": 22,
     "metadata": {},
     "output_type": "execute_result"
    }
   ],
   "source": [
    "%%time\n",
    "\n",
    "grid_search_tree_h = HalvingGridSearchCV(\n",
    "    pipe_tree,\n",
    "    param_grid=param_grid_tree,\n",
    "    n_jobs=20,\n",
    "    verbose=1,\n",
    "    cv=cv,\n",
    "    scoring=metric,\n",
    "    random_state=random_state,\n",
    ")\n",
    "grid_search_tree_h.fit(x_train, y_train)"
   ],
   "metadata": {
    "collapsed": false,
    "ExecuteTime": {
     "end_time": "2023-10-23T09:24:25.757757200Z",
     "start_time": "2023-10-23T09:22:21.754175500Z"
    }
   },
   "id": "a593e4c778b7729c"
  },
  {
   "cell_type": "code",
   "execution_count": 23,
   "outputs": [
    {
     "data": {
      "text/plain": "0.7677169501502619"
     },
     "execution_count": 23,
     "metadata": {},
     "output_type": "execute_result"
    }
   ],
   "source": [
    "grid_search_tree_h.best_score_"
   ],
   "metadata": {
    "collapsed": false,
    "ExecuteTime": {
     "end_time": "2023-10-23T09:24:30.458632700Z",
     "start_time": "2023-10-23T09:24:30.429835500Z"
    }
   },
   "id": "ad7fb58fdcc6e0f5"
  },
  {
   "cell_type": "code",
   "execution_count": 24,
   "outputs": [
    {
     "name": "stdout",
     "output_type": "stream",
     "text": [
      "              precision    recall  f1-score   support\n",
      "\n",
      "           0       0.97      0.98      0.97       627\n",
      "           1       0.89      0.82      0.85       123\n",
      "\n",
      "    accuracy                           0.95       750\n",
      "   macro avg       0.93      0.90      0.91       750\n",
      "weighted avg       0.95      0.95      0.95       750\n"
     ]
    }
   ],
   "source": [
    "pred_tree_h = grid_search_tree_h.best_estimator_.predict(x_test)\n",
    "print(classification_report(y_test, pred_tree_h))\n",
    "score_tree_h = grid_search_tree_h.score(x_test, y_test)"
   ],
   "metadata": {
    "collapsed": false,
    "ExecuteTime": {
     "end_time": "2023-10-23T09:24:34.794816300Z",
     "start_time": "2023-10-23T09:24:34.616816600Z"
    }
   },
   "id": "2242911037800c01"
  },
  {
   "cell_type": "markdown",
   "source": [
    "### MultinomialNB:"
   ],
   "metadata": {
    "collapsed": false
   },
   "id": "ae2eda8327be5859"
  },
  {
   "cell_type": "code",
   "execution_count": 33,
   "outputs": [],
   "source": [
    "pipe_nb = Pipeline(\n",
    "    steps=[\n",
    "        ('counter', CountVectorizer()),\n",
    "        ('clf', MultinomialNB())\n",
    "    ]\n",
    ")"
   ],
   "metadata": {
    "collapsed": false,
    "ExecuteTime": {
     "end_time": "2023-10-23T09:36:19.118013600Z",
     "start_time": "2023-10-23T09:36:19.099964Z"
    }
   },
   "id": "b266251c998e1b41"
  },
  {
   "cell_type": "code",
   "execution_count": 34,
   "outputs": [],
   "source": [
    "param_grid_nb = {\n",
    "    'counter__max_df': np.linspace(0.3, 0.7, 10),\n",
    "    'counter__min_df': [0.0, 0.001, 0.003, 0.005],\n",
    "    'counter__ngram_range': [(1, 1), (1, 2), (1, 3)],\n",
    "    'clf__alpha': [0.001, 0.1, 1],\n",
    "}"
   ],
   "metadata": {
    "collapsed": false,
    "ExecuteTime": {
     "end_time": "2023-10-23T09:36:21.092560500Z",
     "start_time": "2023-10-23T09:36:21.077510400Z"
    }
   },
   "id": "2b6194df69a67ad7"
  },
  {
   "cell_type": "code",
   "execution_count": 35,
   "outputs": [
    {
     "name": "stdout",
     "output_type": "stream",
     "text": [
      "Fitting 5 folds for each of 360 candidates, totalling 1800 fits\n"
     ]
    }
   ],
   "source": [
    "grid_search_nb = GridSearchCV(\n",
    "    pipe_nb,\n",
    "    param_grid=param_grid_nb,\n",
    "    n_jobs=20,\n",
    "    verbose=1,\n",
    "    cv=cv,\n",
    "    scoring=metric,\n",
    ").fit(x_train, y_train)"
   ],
   "metadata": {
    "collapsed": false,
    "ExecuteTime": {
     "end_time": "2023-10-23T09:37:10.912807600Z",
     "start_time": "2023-10-23T09:36:22.538046900Z"
    }
   },
   "id": "634942cb4f88743c"
  },
  {
   "cell_type": "code",
   "execution_count": 36,
   "outputs": [
    {
     "data": {
      "text/plain": "0.9494385964912281"
     },
     "execution_count": 36,
     "metadata": {},
     "output_type": "execute_result"
    }
   ],
   "source": [
    "grid_search_nb.best_score_"
   ],
   "metadata": {
    "collapsed": false,
    "ExecuteTime": {
     "end_time": "2023-10-23T09:37:17.970419700Z",
     "start_time": "2023-10-23T09:37:17.953421Z"
    }
   },
   "id": "e463ccdcf7d8e3dd"
  },
  {
   "cell_type": "code",
   "execution_count": 37,
   "outputs": [
    {
     "name": "stdout",
     "output_type": "stream",
     "text": [
      "              precision    recall  f1-score   support\n",
      "\n",
      "           0       0.99      1.00      1.00       627\n",
      "           1       0.99      0.97      0.98       123\n",
      "\n",
      "    accuracy                           0.99       750\n",
      "   macro avg       0.99      0.98      0.99       750\n",
      "weighted avg       0.99      0.99      0.99       750\n"
     ]
    }
   ],
   "source": [
    "pred_nb = grid_search_nb.best_estimator_.predict(x_test)\n",
    "print(classification_report(y_test, pred_nb))\n",
    "score_nb = grid_search_nb.score(x_test, y_test)"
   ],
   "metadata": {
    "collapsed": false,
    "ExecuteTime": {
     "end_time": "2023-10-23T09:37:19.926458500Z",
     "start_time": "2023-10-23T09:37:19.711442700Z"
    }
   },
   "id": "9e564074ac489e62"
  },
  {
   "cell_type": "code",
   "execution_count": 38,
   "outputs": [
    {
     "name": "stdout",
     "output_type": "stream",
     "text": [
      "n_iterations: 5\n",
      "n_required_iterations: 6\n",
      "n_possible_iterations: 5\n",
      "min_resources_: 20\n",
      "max_resources_: 2249\n",
      "aggressive_elimination: False\n",
      "factor: 3\n",
      "----------\n",
      "iter: 0\n",
      "n_candidates: 360\n",
      "n_resources: 20\n",
      "Fitting 5 folds for each of 360 candidates, totalling 1800 fits\n",
      "----------\n",
      "iter: 1\n",
      "n_candidates: 120\n",
      "n_resources: 60\n",
      "Fitting 5 folds for each of 120 candidates, totalling 600 fits\n",
      "----------\n",
      "iter: 2\n",
      "n_candidates: 40\n",
      "n_resources: 180\n",
      "Fitting 5 folds for each of 40 candidates, totalling 200 fits\n",
      "----------\n",
      "iter: 3\n",
      "n_candidates: 14\n",
      "n_resources: 540\n",
      "Fitting 5 folds for each of 14 candidates, totalling 70 fits\n",
      "----------\n",
      "iter: 4\n",
      "n_candidates: 5\n",
      "n_resources: 1620\n",
      "Fitting 5 folds for each of 5 candidates, totalling 25 fits\n",
      "CPU times: total: 3.84 s\n",
      "Wall time: 6.97 s\n"
     ]
    },
    {
     "data": {
      "text/plain": "HalvingGridSearchCV(estimator=Pipeline(steps=[('counter', CountVectorizer()),\n                                              ('clf', MultinomialNB())]),\n                    n_jobs=20,\n                    param_grid={'clf__alpha': [0.001, 0.1, 1],\n                                'counter__max_df': array([0.3       , 0.34444444, 0.38888889, 0.43333333, 0.47777778,\n       0.52222222, 0.56666667, 0.61111111, 0.65555556, 0.7       ]),\n                                'counter__min_df': [0.0, 0.001, 0.003, 0.005],\n                                'counter__ngram_range': [(1, 1), (1, 2),\n                                                         (1, 3)]},\n                    random_state=42, scoring='recall', verbose=1)",
      "text/html": "<style>#sk-container-id-3 {color: black;}#sk-container-id-3 pre{padding: 0;}#sk-container-id-3 div.sk-toggleable {background-color: white;}#sk-container-id-3 label.sk-toggleable__label {cursor: pointer;display: block;width: 100%;margin-bottom: 0;padding: 0.3em;box-sizing: border-box;text-align: center;}#sk-container-id-3 label.sk-toggleable__label-arrow:before {content: \"▸\";float: left;margin-right: 0.25em;color: #696969;}#sk-container-id-3 label.sk-toggleable__label-arrow:hover:before {color: black;}#sk-container-id-3 div.sk-estimator:hover label.sk-toggleable__label-arrow:before {color: black;}#sk-container-id-3 div.sk-toggleable__content {max-height: 0;max-width: 0;overflow: hidden;text-align: left;background-color: #f0f8ff;}#sk-container-id-3 div.sk-toggleable__content pre {margin: 0.2em;color: black;border-radius: 0.25em;background-color: #f0f8ff;}#sk-container-id-3 input.sk-toggleable__control:checked~div.sk-toggleable__content {max-height: 200px;max-width: 100%;overflow: auto;}#sk-container-id-3 input.sk-toggleable__control:checked~label.sk-toggleable__label-arrow:before {content: \"▾\";}#sk-container-id-3 div.sk-estimator input.sk-toggleable__control:checked~label.sk-toggleable__label {background-color: #d4ebff;}#sk-container-id-3 div.sk-label input.sk-toggleable__control:checked~label.sk-toggleable__label {background-color: #d4ebff;}#sk-container-id-3 input.sk-hidden--visually {border: 0;clip: rect(1px 1px 1px 1px);clip: rect(1px, 1px, 1px, 1px);height: 1px;margin: -1px;overflow: hidden;padding: 0;position: absolute;width: 1px;}#sk-container-id-3 div.sk-estimator {font-family: monospace;background-color: #f0f8ff;border: 1px dotted black;border-radius: 0.25em;box-sizing: border-box;margin-bottom: 0.5em;}#sk-container-id-3 div.sk-estimator:hover {background-color: #d4ebff;}#sk-container-id-3 div.sk-parallel-item::after {content: \"\";width: 100%;border-bottom: 1px solid gray;flex-grow: 1;}#sk-container-id-3 div.sk-label:hover label.sk-toggleable__label {background-color: #d4ebff;}#sk-container-id-3 div.sk-serial::before {content: \"\";position: absolute;border-left: 1px solid gray;box-sizing: border-box;top: 0;bottom: 0;left: 50%;z-index: 0;}#sk-container-id-3 div.sk-serial {display: flex;flex-direction: column;align-items: center;background-color: white;padding-right: 0.2em;padding-left: 0.2em;position: relative;}#sk-container-id-3 div.sk-item {position: relative;z-index: 1;}#sk-container-id-3 div.sk-parallel {display: flex;align-items: stretch;justify-content: center;background-color: white;position: relative;}#sk-container-id-3 div.sk-item::before, #sk-container-id-3 div.sk-parallel-item::before {content: \"\";position: absolute;border-left: 1px solid gray;box-sizing: border-box;top: 0;bottom: 0;left: 50%;z-index: -1;}#sk-container-id-3 div.sk-parallel-item {display: flex;flex-direction: column;z-index: 1;position: relative;background-color: white;}#sk-container-id-3 div.sk-parallel-item:first-child::after {align-self: flex-end;width: 50%;}#sk-container-id-3 div.sk-parallel-item:last-child::after {align-self: flex-start;width: 50%;}#sk-container-id-3 div.sk-parallel-item:only-child::after {width: 0;}#sk-container-id-3 div.sk-dashed-wrapped {border: 1px dashed gray;margin: 0 0.4em 0.5em 0.4em;box-sizing: border-box;padding-bottom: 0.4em;background-color: white;}#sk-container-id-3 div.sk-label label {font-family: monospace;font-weight: bold;display: inline-block;line-height: 1.2em;}#sk-container-id-3 div.sk-label-container {text-align: center;}#sk-container-id-3 div.sk-container {/* jupyter's `normalize.less` sets `[hidden] { display: none; }` but bootstrap.min.css set `[hidden] { display: none !important; }` so we also need the `!important` here to be able to override the default hidden behavior on the sphinx rendered scikit-learn.org. See: https://github.com/scikit-learn/scikit-learn/issues/21755 */display: inline-block !important;position: relative;}#sk-container-id-3 div.sk-text-repr-fallback {display: none;}</style><div id=\"sk-container-id-3\" class=\"sk-top-container\"><div class=\"sk-text-repr-fallback\"><pre>HalvingGridSearchCV(estimator=Pipeline(steps=[(&#x27;counter&#x27;, CountVectorizer()),\n                                              (&#x27;clf&#x27;, MultinomialNB())]),\n                    n_jobs=20,\n                    param_grid={&#x27;clf__alpha&#x27;: [0.001, 0.1, 1],\n                                &#x27;counter__max_df&#x27;: array([0.3       , 0.34444444, 0.38888889, 0.43333333, 0.47777778,\n       0.52222222, 0.56666667, 0.61111111, 0.65555556, 0.7       ]),\n                                &#x27;counter__min_df&#x27;: [0.0, 0.001, 0.003, 0.005],\n                                &#x27;counter__ngram_range&#x27;: [(1, 1), (1, 2),\n                                                         (1, 3)]},\n                    random_state=42, scoring=&#x27;recall&#x27;, verbose=1)</pre><b>In a Jupyter environment, please rerun this cell to show the HTML representation or trust the notebook. <br />On GitHub, the HTML representation is unable to render, please try loading this page with nbviewer.org.</b></div><div class=\"sk-container\" hidden><div class=\"sk-item sk-dashed-wrapped\"><div class=\"sk-label-container\"><div class=\"sk-label sk-toggleable\"><input class=\"sk-toggleable__control sk-hidden--visually\" id=\"sk-estimator-id-9\" type=\"checkbox\" ><label for=\"sk-estimator-id-9\" class=\"sk-toggleable__label sk-toggleable__label-arrow\">HalvingGridSearchCV</label><div class=\"sk-toggleable__content\"><pre>HalvingGridSearchCV(estimator=Pipeline(steps=[(&#x27;counter&#x27;, CountVectorizer()),\n                                              (&#x27;clf&#x27;, MultinomialNB())]),\n                    n_jobs=20,\n                    param_grid={&#x27;clf__alpha&#x27;: [0.001, 0.1, 1],\n                                &#x27;counter__max_df&#x27;: array([0.3       , 0.34444444, 0.38888889, 0.43333333, 0.47777778,\n       0.52222222, 0.56666667, 0.61111111, 0.65555556, 0.7       ]),\n                                &#x27;counter__min_df&#x27;: [0.0, 0.001, 0.003, 0.005],\n                                &#x27;counter__ngram_range&#x27;: [(1, 1), (1, 2),\n                                                         (1, 3)]},\n                    random_state=42, scoring=&#x27;recall&#x27;, verbose=1)</pre></div></div></div><div class=\"sk-parallel\"><div class=\"sk-parallel-item\"><div class=\"sk-item\"><div class=\"sk-label-container\"><div class=\"sk-label sk-toggleable\"><input class=\"sk-toggleable__control sk-hidden--visually\" id=\"sk-estimator-id-10\" type=\"checkbox\" ><label for=\"sk-estimator-id-10\" class=\"sk-toggleable__label sk-toggleable__label-arrow\">estimator: Pipeline</label><div class=\"sk-toggleable__content\"><pre>Pipeline(steps=[(&#x27;counter&#x27;, CountVectorizer()), (&#x27;clf&#x27;, MultinomialNB())])</pre></div></div></div><div class=\"sk-serial\"><div class=\"sk-item\"><div class=\"sk-serial\"><div class=\"sk-item\"><div class=\"sk-estimator sk-toggleable\"><input class=\"sk-toggleable__control sk-hidden--visually\" id=\"sk-estimator-id-11\" type=\"checkbox\" ><label for=\"sk-estimator-id-11\" class=\"sk-toggleable__label sk-toggleable__label-arrow\">CountVectorizer</label><div class=\"sk-toggleable__content\"><pre>CountVectorizer()</pre></div></div></div><div class=\"sk-item\"><div class=\"sk-estimator sk-toggleable\"><input class=\"sk-toggleable__control sk-hidden--visually\" id=\"sk-estimator-id-12\" type=\"checkbox\" ><label for=\"sk-estimator-id-12\" class=\"sk-toggleable__label sk-toggleable__label-arrow\">MultinomialNB</label><div class=\"sk-toggleable__content\"><pre>MultinomialNB()</pre></div></div></div></div></div></div></div></div></div></div></div></div>"
     },
     "execution_count": 38,
     "metadata": {},
     "output_type": "execute_result"
    }
   ],
   "source": [
    "%%time\n",
    "grid_search_nb_h = HalvingGridSearchCV(\n",
    "    pipe_nb,\n",
    "    param_grid=param_grid_nb,\n",
    "    n_jobs=20,\n",
    "    verbose=1,\n",
    "    cv=cv,\n",
    "    scoring=metric,\n",
    "    random_state=random_state\n",
    ")\n",
    "grid_search_nb_h.fit(x_train, y_train)"
   ],
   "metadata": {
    "collapsed": false,
    "ExecuteTime": {
     "end_time": "2023-10-23T09:37:28.743335600Z",
     "start_time": "2023-10-23T09:37:21.758952700Z"
    }
   },
   "id": "57f48a59d582b0b2"
  },
  {
   "cell_type": "code",
   "execution_count": 39,
   "outputs": [
    {
     "data": {
      "text/plain": "0.928435108591257"
     },
     "execution_count": 39,
     "metadata": {},
     "output_type": "execute_result"
    }
   ],
   "source": [
    "grid_search_nb_h.best_score_"
   ],
   "metadata": {
    "collapsed": false,
    "ExecuteTime": {
     "end_time": "2023-10-23T09:37:31.518406900Z",
     "start_time": "2023-10-23T09:37:31.512401700Z"
    }
   },
   "id": "1a4412e174471353"
  },
  {
   "cell_type": "code",
   "execution_count": 40,
   "outputs": [
    {
     "name": "stdout",
     "output_type": "stream",
     "text": [
      "              precision    recall  f1-score   support\n",
      "\n",
      "           0       0.99      1.00      1.00       627\n",
      "           1       0.99      0.96      0.98       123\n",
      "\n",
      "    accuracy                           0.99       750\n",
      "   macro avg       0.99      0.98      0.99       750\n",
      "weighted avg       0.99      0.99      0.99       750\n"
     ]
    }
   ],
   "source": [
    "pred_nb_h = grid_search_nb_h.predict(x_test)\n",
    "print(classification_report(y_test, pred_nb_h))\n",
    "score_nb_h = grid_search_nb_h.score(x_test, y_test)"
   ],
   "metadata": {
    "collapsed": false,
    "ExecuteTime": {
     "end_time": "2023-10-23T09:37:33.310496300Z",
     "start_time": "2023-10-23T09:37:33.148309900Z"
    }
   },
   "id": "c5695827e797583b"
  },
  {
   "cell_type": "markdown",
   "source": [
    "## Подведение итогов по CountVectorizer\n",
    "В ходе работы производился подбор гиперпараметров с использованием GridSearchCV и HalvingGridSearchCV. HalvingGridSearchCV справляется с работой сильно быстрее, чем это делаем полный перебор, поэтому было интересно сравнить, хуже ли он подбирает параметры. Для этого на графике ниже представлены значения score по всем моделям с использованием GridSearchCV и HalvingGridSearchCV. Как видно, экспериментальный HalvingGridSearchCV справляется не сильно хуже. Разница составляет не больше 0.02. Лучший score был достигнут на Naive Bayes."
   ],
   "metadata": {
    "collapsed": false
   },
   "id": "b87a655d7f2a43f5"
  },
  {
   "cell_type": "code",
   "execution_count": 48,
   "outputs": [
    {
     "data": {
      "text/plain": "<Figure size 640x480 with 1 Axes>",
      "image/png": "[encoded data removed]"
     },
     "metadata": {},
     "output_type": "display_data"
    }
   ],
   "source": [
    "models = ['LogReg', 'Tree', 'NB']\n",
    "data_pred = [score_log_reg, score_tree, score_nb]\n",
    "data_pred_h = [score_log_reg_h, score_tree_h, score_nb_h]\n",
    "\n",
    "df = pd.DataFrame({'model': models, 'GridSearchCV': data_pred, 'HalvingGridSearchCV': data_pred_h})\n",
    "fig, ax = plt.subplots()\n",
    "bar_width = 0.35\n",
    "\n",
    "GridSearchCV_diagram = ax.bar(df['model'], df['GridSearchCV'], bar_width, label='GridSearchCV', color='grey')\n",
    "HalvingGridSearchCV_diagram = ax.bar(df['model'], df['HalvingGridSearchCV'], bar_width, label='HalvingGridSearchCV',\n",
    "                                     color='green', alpha=0.8)\n",
    "max_val = max(data_pred)\n",
    "\n",
    "ax.set_xlabel('Models')\n",
    "ax.set_ylabel('Scores')\n",
    "ax.set_title('Scores by model and search method for CountVectorizer')\n",
    "ax.legend(loc='lower center')\n",
    "for i, rect in enumerate(GridSearchCV_diagram):\n",
    "    height = rect.get_height()\n",
    "\n",
    "    ax.annotate('{}'.format(round(height, 2)),\n",
    "                xy=(rect.get_x() + rect.get_width() / 2, height),\n",
    "                xytext=(0, 3),\n",
    "                textcoords=\"offset points\",\n",
    "                ha='center')\n",
    "plt.show()"
   ],
   "metadata": {
    "collapsed": false,
    "ExecuteTime": {
     "end_time": "2023-10-23T09:40:01.350004Z",
     "start_time": "2023-10-23T09:40:01.272004200Z"
    }
   },
   "id": "4972adea45725d67"
  },
  {
   "cell_type": "markdown",
   "source": [
    "# TfidfVectorizer\n",
    "В данном разделе получим вектора при помощи TfidfVectorizer и аналогично обучим модели."
   ],
   "metadata": {
    "collapsed": false
   },
   "id": "47ca59f117f9e419"
  },
  {
   "cell_type": "markdown",
   "source": [
    "### LogisticRegression:"
   ],
   "metadata": {
    "collapsed": false
   },
   "id": "ff2c7887c7a8fce4"
  },
  {
   "cell_type": "code",
   "execution_count": 49,
   "outputs": [
    {
     "name": "stdout",
     "output_type": "stream",
     "text": [
      "Fitting 5 folds for each of 1200 candidates, totalling 6000 fits\n"
     ]
    }
   ],
   "source": [
    "pipe_log_reg_tfidf = Pipeline(\n",
    "    steps=[\n",
    "        ('tfidf', TfidfVectorizer()),\n",
    "        ('clf', LogisticRegression())\n",
    "    ]\n",
    ")\n",
    "param_grid_log_reg_tfidf = {\n",
    "    'tfidf__max_df': np.linspace(0.3, 0.7, 10),\n",
    "    'tfidf__min_df': [0.0, 0.001, 0.003, 0.005],\n",
    "    'tfidf__ngram_range': [(1, 1), (1, 2), (1, 3)],\n",
    "    'clf__C': np.linspace(0.1, 1, 10),\n",
    "}\n",
    "grid_search_log_reg_tfidf = GridSearchCV(\n",
    "    pipe_log_reg_tfidf,\n",
    "    param_grid=param_grid_log_reg_tfidf,\n",
    "    n_jobs=20,\n",
    "    verbose=1,\n",
    "    cv=cv,\n",
    "    scoring=metric,\n",
    ").fit(x_train, y_train)\n"
   ],
   "metadata": {
    "collapsed": false,
    "ExecuteTime": {
     "end_time": "2023-10-23T09:44:45.501870600Z",
     "start_time": "2023-10-23T09:40:08.004994500Z"
    }
   },
   "id": "a11507be1f0ab93b"
  },
  {
   "cell_type": "code",
   "execution_count": 50,
   "outputs": [
    {
     "data": {
      "text/plain": "0.8163508771929824"
     },
     "execution_count": 50,
     "metadata": {},
     "output_type": "execute_result"
    }
   ],
   "source": [
    "grid_search_log_reg_tfidf.best_score_"
   ],
   "metadata": {
    "collapsed": false,
    "ExecuteTime": {
     "end_time": "2023-10-23T09:45:03.503840300Z",
     "start_time": "2023-10-23T09:45:03.495326300Z"
    }
   },
   "id": "8cf0ae43ad687ab0"
  },
  {
   "cell_type": "code",
   "execution_count": 51,
   "outputs": [
    {
     "name": "stdout",
     "output_type": "stream",
     "text": [
      "              precision    recall  f1-score   support\n",
      "\n",
      "           0       0.97      1.00      0.99       627\n",
      "           1       1.00      0.85      0.92       123\n",
      "\n",
      "    accuracy                           0.98       750\n",
      "   macro avg       0.99      0.93      0.95       750\n",
      "weighted avg       0.98      0.98      0.98       750\n"
     ]
    }
   ],
   "source": [
    "pred_log_reg_tfidf = grid_search_log_reg_tfidf.predict(x_test)\n",
    "print(classification_report(y_test, pred_log_reg_tfidf))\n",
    "score_log_reg_tfidf = grid_search_log_reg_tfidf.score(x_test, y_test)"
   ],
   "metadata": {
    "collapsed": false,
    "ExecuteTime": {
     "end_time": "2023-10-23T09:45:05.853959Z",
     "start_time": "2023-10-23T09:45:05.756958800Z"
    }
   },
   "id": "5bd1b9da09b6c4e7"
  },
  {
   "cell_type": "code",
   "execution_count": 52,
   "outputs": [
    {
     "name": "stdout",
     "output_type": "stream",
     "text": [
      "n_iterations: 5\n",
      "n_required_iterations: 7\n",
      "n_possible_iterations: 5\n",
      "min_resources_: 20\n",
      "max_resources_: 2249\n",
      "aggressive_elimination: False\n",
      "factor: 3\n",
      "----------\n",
      "iter: 0\n",
      "n_candidates: 1200\n",
      "n_resources: 20\n",
      "Fitting 5 folds for each of 1200 candidates, totalling 6000 fits\n",
      "----------\n",
      "iter: 1\n",
      "n_candidates: 400\n",
      "n_resources: 60\n",
      "Fitting 5 folds for each of 400 candidates, totalling 2000 fits\n",
      "----------\n",
      "iter: 2\n",
      "n_candidates: 134\n",
      "n_resources: 180\n",
      "Fitting 5 folds for each of 134 candidates, totalling 670 fits\n",
      "----------\n",
      "iter: 3\n",
      "n_candidates: 45\n",
      "n_resources: 540\n",
      "Fitting 5 folds for each of 45 candidates, totalling 225 fits\n",
      "----------\n",
      "iter: 4\n",
      "n_candidates: 15\n",
      "n_resources: 1620\n",
      "Fitting 5 folds for each of 15 candidates, totalling 75 fits\n",
      "CPU times: total: 6.67 s\n",
      "Wall time: 18.1 s\n"
     ]
    },
    {
     "data": {
      "text/plain": "HalvingGridSearchCV(estimator=Pipeline(steps=[('tfidf', TfidfVectorizer()),\n                                              ('clf', LogisticRegression())]),\n                    n_jobs=20,\n                    param_grid={'clf__C': array([0.1, 0.2, 0.3, 0.4, 0.5, 0.6, 0.7, 0.8, 0.9, 1. ]),\n                                'tfidf__max_df': array([0.3       , 0.34444444, 0.38888889, 0.43333333, 0.47777778,\n       0.52222222, 0.56666667, 0.61111111, 0.65555556, 0.7       ]),\n                                'tfidf__min_df': [0.0, 0.001, 0.003, 0.005],\n                                'tfidf__ngram_range': [(1, 1), (1, 2), (1, 3)]},\n                    random_state=42, scoring='recall', verbose=1)",
      "text/html": "<style>#sk-container-id-4 {color: black;}#sk-container-id-4 pre{padding: 0;}#sk-container-id-4 div.sk-toggleable {background-color: white;}#sk-container-id-4 label.sk-toggleable__label {cursor: pointer;display: block;width: 100%;margin-bottom: 0;padding: 0.3em;box-sizing: border-box;text-align: center;}#sk-container-id-4 label.sk-toggleable__label-arrow:before {content: \"▸\";float: left;margin-right: 0.25em;color: #696969;}#sk-container-id-4 label.sk-toggleable__label-arrow:hover:before {color: black;}#sk-container-id-4 div.sk-estimator:hover label.sk-toggleable__label-arrow:before {color: black;}#sk-container-id-4 div.sk-toggleable__content {max-height: 0;max-width: 0;overflow: hidden;text-align: left;background-color: #f0f8ff;}#sk-container-id-4 div.sk-toggleable__content pre {margin: 0.2em;color: black;border-radius: 0.25em;background-color: #f0f8ff;}#sk-container-id-4 input.sk-toggleable__control:checked~div.sk-toggleable__content {max-height: 200px;max-width: 100%;overflow: auto;}#sk-container-id-4 input.sk-toggleable__control:checked~label.sk-toggleable__label-arrow:before {content: \"▾\";}#sk-container-id-4 div.sk-estimator input.sk-toggleable__control:checked~label.sk-toggleable__label {background-color: #d4ebff;}#sk-container-id-4 div.sk-label input.sk-toggleable__control:checked~label.sk-toggleable__label {background-color: #d4ebff;}#sk-container-id-4 input.sk-hidden--visually {border: 0;clip: rect(1px 1px 1px 1px);clip: rect(1px, 1px, 1px, 1px);height: 1px;margin: -1px;overflow: hidden;padding: 0;position: absolute;width: 1px;}#sk-container-id-4 div.sk-estimator {font-family: monospace;background-color: #f0f8ff;border: 1px dotted black;border-radius: 0.25em;box-sizing: border-box;margin-bottom: 0.5em;}#sk-container-id-4 div.sk-estimator:hover {background-color: #d4ebff;}#sk-container-id-4 div.sk-parallel-item::after {content: \"\";width: 100%;border-bottom: 1px solid gray;flex-grow: 1;}#sk-container-id-4 div.sk-label:hover label.sk-toggleable__label {background-color: #d4ebff;}#sk-container-id-4 div.sk-serial::before {content: \"\";position: absolute;border-left: 1px solid gray;box-sizing: border-box;top: 0;bottom: 0;left: 50%;z-index: 0;}#sk-container-id-4 div.sk-serial {display: flex;flex-direction: column;align-items: center;background-color: white;padding-right: 0.2em;padding-left: 0.2em;position: relative;}#sk-container-id-4 div.sk-item {position: relative;z-index: 1;}#sk-container-id-4 div.sk-parallel {display: flex;align-items: stretch;justify-content: center;background-color: white;position: relative;}#sk-container-id-4 div.sk-item::before, #sk-container-id-4 div.sk-parallel-item::before {content: \"\";position: absolute;border-left: 1px solid gray;box-sizing: border-box;top: 0;bottom: 0;left: 50%;z-index: -1;}#sk-container-id-4 div.sk-parallel-item {display: flex;flex-direction: column;z-index: 1;position: relative;background-color: white;}#sk-container-id-4 div.sk-parallel-item:first-child::after {align-self: flex-end;width: 50%;}#sk-container-id-4 div.sk-parallel-item:last-child::after {align-self: flex-start;width: 50%;}#sk-container-id-4 div.sk-parallel-item:only-child::after {width: 0;}#sk-container-id-4 div.sk-dashed-wrapped {border: 1px dashed gray;margin: 0 0.4em 0.5em 0.4em;box-sizing: border-box;padding-bottom: 0.4em;background-color: white;}#sk-container-id-4 div.sk-label label {font-family: monospace;font-weight: bold;display: inline-block;line-height: 1.2em;}#sk-container-id-4 div.sk-label-container {text-align: center;}#sk-container-id-4 div.sk-container {/* jupyter's `normalize.less` sets `[hidden] { display: none; }` but bootstrap.min.css set `[hidden] { display: none !important; }` so we also need the `!important` here to be able to override the default hidden behavior on the sphinx rendered scikit-learn.org. See: https://github.com/scikit-learn/scikit-learn/issues/21755 */display: inline-block !important;position: relative;}#sk-container-id-4 div.sk-text-repr-fallback {display: none;}</style><div id=\"sk-container-id-4\" class=\"sk-top-container\"><div class=\"sk-text-repr-fallback\"><pre>HalvingGridSearchCV(estimator=Pipeline(steps=[(&#x27;tfidf&#x27;, TfidfVectorizer()),\n                                              (&#x27;clf&#x27;, LogisticRegression())]),\n                    n_jobs=20,\n                    param_grid={&#x27;clf__C&#x27;: array([0.1, 0.2, 0.3, 0.4, 0.5, 0.6, 0.7, 0.8, 0.9, 1. ]),\n                                &#x27;tfidf__max_df&#x27;: array([0.3       , 0.34444444, 0.38888889, 0.43333333, 0.47777778,\n       0.52222222, 0.56666667, 0.61111111, 0.65555556, 0.7       ]),\n                                &#x27;tfidf__min_df&#x27;: [0.0, 0.001, 0.003, 0.005],\n                                &#x27;tfidf__ngram_range&#x27;: [(1, 1), (1, 2), (1, 3)]},\n                    random_state=42, scoring=&#x27;recall&#x27;, verbose=1)</pre><b>In a Jupyter environment, please rerun this cell to show the HTML representation or trust the notebook. <br />On GitHub, the HTML representation is unable to render, please try loading this page with nbviewer.org.</b></div><div class=\"sk-container\" hidden><div class=\"sk-item sk-dashed-wrapped\"><div class=\"sk-label-container\"><div class=\"sk-label sk-toggleable\"><input class=\"sk-toggleable__control sk-hidden--visually\" id=\"sk-estimator-id-13\" type=\"checkbox\" ><label for=\"sk-estimator-id-13\" class=\"sk-toggleable__label sk-toggleable__label-arrow\">HalvingGridSearchCV</label><div class=\"sk-toggleable__content\"><pre>HalvingGridSearchCV(estimator=Pipeline(steps=[(&#x27;tfidf&#x27;, TfidfVectorizer()),\n                                              (&#x27;clf&#x27;, LogisticRegression())]),\n                    n_jobs=20,\n                    param_grid={&#x27;clf__C&#x27;: array([0.1, 0.2, 0.3, 0.4, 0.5, 0.6, 0.7, 0.8, 0.9, 1. ]),\n                                &#x27;tfidf__max_df&#x27;: array([0.3       , 0.34444444, 0.38888889, 0.43333333, 0.47777778,\n       0.52222222, 0.56666667, 0.61111111, 0.65555556, 0.7       ]),\n                                &#x27;tfidf__min_df&#x27;: [0.0, 0.001, 0.003, 0.005],\n                                &#x27;tfidf__ngram_range&#x27;: [(1, 1), (1, 2), (1, 3)]},\n                    random_state=42, scoring=&#x27;recall&#x27;, verbose=1)</pre></div></div></div><div class=\"sk-parallel\"><div class=\"sk-parallel-item\"><div class=\"sk-item\"><div class=\"sk-label-container\"><div class=\"sk-label sk-toggleable\"><input class=\"sk-toggleable__control sk-hidden--visually\" id=\"sk-estimator-id-14\" type=\"checkbox\" ><label for=\"sk-estimator-id-14\" class=\"sk-toggleable__label sk-toggleable__label-arrow\">estimator: Pipeline</label><div class=\"sk-toggleable__content\"><pre>Pipeline(steps=[(&#x27;tfidf&#x27;, TfidfVectorizer()), (&#x27;clf&#x27;, LogisticRegression())])</pre></div></div></div><div class=\"sk-serial\"><div class=\"sk-item\"><div class=\"sk-serial\"><div class=\"sk-item\"><div class=\"sk-estimator sk-toggleable\"><input class=\"sk-toggleable__control sk-hidden--visually\" id=\"sk-estimator-id-15\" type=\"checkbox\" ><label for=\"sk-estimator-id-15\" class=\"sk-toggleable__label sk-toggleable__label-arrow\">TfidfVectorizer</label><div class=\"sk-toggleable__content\"><pre>TfidfVectorizer()</pre></div></div></div><div class=\"sk-item\"><div class=\"sk-estimator sk-toggleable\"><input class=\"sk-toggleable__control sk-hidden--visually\" id=\"sk-estimator-id-16\" type=\"checkbox\" ><label for=\"sk-estimator-id-16\" class=\"sk-toggleable__label sk-toggleable__label-arrow\">LogisticRegression</label><div class=\"sk-toggleable__content\"><pre>LogisticRegression()</pre></div></div></div></div></div></div></div></div></div></div></div></div>"
     },
     "execution_count": 52,
     "metadata": {},
     "output_type": "execute_result"
    }
   ],
   "source": [
    "%%time\n",
    "grid_search_log_reg_tfidf_h = HalvingGridSearchCV(\n",
    "    pipe_log_reg_tfidf,\n",
    "    param_grid=param_grid_log_reg_tfidf,\n",
    "    n_jobs=20,\n",
    "    verbose=1,\n",
    "    cv=cv,\n",
    "    scoring=metric,\n",
    "    random_state=random_state\n",
    ")\n",
    "grid_search_log_reg_tfidf_h.fit(x_train, y_train)"
   ],
   "metadata": {
    "collapsed": false,
    "ExecuteTime": {
     "end_time": "2023-10-23T09:45:28.081212Z",
     "start_time": "2023-10-23T09:45:09.939548Z"
    }
   },
   "id": "15d54005449daad4"
  },
  {
   "cell_type": "code",
   "execution_count": 53,
   "outputs": [
    {
     "data": {
      "text/plain": "0.7476709421569538"
     },
     "execution_count": 53,
     "metadata": {},
     "output_type": "execute_result"
    }
   ],
   "source": [
    "grid_search_log_reg_tfidf_h.best_score_"
   ],
   "metadata": {
    "collapsed": false,
    "ExecuteTime": {
     "end_time": "2023-10-23T09:45:31.803145700Z",
     "start_time": "2023-10-23T09:45:31.793099400Z"
    }
   },
   "id": "9c2a62c373418b01"
  },
  {
   "cell_type": "code",
   "execution_count": 54,
   "outputs": [
    {
     "name": "stdout",
     "output_type": "stream",
     "text": [
      "              precision    recall  f1-score   support\n",
      "\n",
      "           0       0.97      1.00      0.99       627\n",
      "           1       1.00      0.85      0.92       123\n",
      "\n",
      "    accuracy                           0.98       750\n",
      "   macro avg       0.99      0.93      0.95       750\n",
      "weighted avg       0.98      0.98      0.98       750\n"
     ]
    }
   ],
   "source": [
    "pred_log_reg_tfidf_h = grid_search_log_reg_tfidf_h.predict(x_test)\n",
    "print(classification_report(y_test, pred_log_reg_tfidf_h))\n",
    "score_log_reg_tfidf_h = grid_search_log_reg_tfidf_h.score(x_test, y_test)"
   ],
   "metadata": {
    "collapsed": false,
    "ExecuteTime": {
     "end_time": "2023-10-23T09:45:34.242165600Z",
     "start_time": "2023-10-23T09:45:34.151166700Z"
    }
   },
   "id": "6ed83c5076785ec9"
  },
  {
   "cell_type": "markdown",
   "source": [
    "### DecisionTreeClassifier:"
   ],
   "metadata": {
    "collapsed": false
   },
   "id": "35e201c858303546"
  },
  {
   "cell_type": "code",
   "execution_count": 55,
   "outputs": [],
   "source": [
    "pipe_tree_tfidf = Pipeline(\n",
    "    steps=[\n",
    "        ('tfidf', TfidfVectorizer()),\n",
    "        ('clf', DecisionTreeClassifier(random_state=random_state))\n",
    "    ]\n",
    ")\n",
    "param_grid_tree_tfidf = {\n",
    "    'tfidf__max_df': np.linspace(0.3, 0.7, 10),\n",
    "    'tfidf__min_df': [0.0, 0.001, 0.003, 0.005],\n",
    "    'tfidf__ngram_range': [(1, 1), (1, 2), (1, 3)],\n",
    "    'clf__max_depth': [4, 6, 8],\n",
    "    'clf__min_samples_split': [2, 6, 10, 14, 18],\n",
    "    'clf__min_samples_leaf': [2, 6, 10, 14, 18],\n",
    "}"
   ],
   "metadata": {
    "collapsed": false,
    "ExecuteTime": {
     "end_time": "2023-10-23T09:45:39.510477800Z",
     "start_time": "2023-10-23T09:45:39.500477600Z"
    }
   },
   "id": "a27146634672cd61"
  },
  {
   "cell_type": "code",
   "execution_count": 56,
   "outputs": [
    {
     "name": "stdout",
     "output_type": "stream",
     "text": [
      "Fitting 5 folds for each of 9000 candidates, totalling 45000 fits\n"
     ]
    }
   ],
   "source": [
    "grid_search_tree_tfidf = GridSearchCV(\n",
    "    pipe_tree_tfidf,\n",
    "    param_grid=param_grid_tree_tfidf,\n",
    "    n_jobs=20,\n",
    "    verbose=1,\n",
    "    cv=cv,\n",
    "    scoring=metric,\n",
    ").fit(x_train, y_train)"
   ],
   "metadata": {
    "collapsed": false,
    "ExecuteTime": {
     "end_time": "2023-10-23T10:16:14.830144300Z",
     "start_time": "2023-10-23T09:45:41.958168600Z"
    }
   },
   "id": "c76fdef5e68c4879"
  },
  {
   "cell_type": "code",
   "execution_count": 57,
   "outputs": [
    {
     "data": {
      "text/plain": "0.8483859649122808"
     },
     "execution_count": 57,
     "metadata": {},
     "output_type": "execute_result"
    }
   ],
   "source": [
    "grid_search_tree_tfidf.best_score_"
   ],
   "metadata": {
    "collapsed": false,
    "ExecuteTime": {
     "end_time": "2023-10-23T10:16:21.396590100Z",
     "start_time": "2023-10-23T10:16:21.389303800Z"
    }
   },
   "id": "1cc4ab03932dad8"
  },
  {
   "cell_type": "code",
   "execution_count": 58,
   "outputs": [
    {
     "name": "stdout",
     "output_type": "stream",
     "text": [
      "              precision    recall  f1-score   support\n",
      "\n",
      "           0       0.97      0.98      0.97       627\n",
      "           1       0.89      0.82      0.86       123\n",
      "\n",
      "    accuracy                           0.95       750\n",
      "   macro avg       0.93      0.90      0.91       750\n",
      "weighted avg       0.95      0.95      0.95       750\n"
     ]
    }
   ],
   "source": [
    "pred_tree_tfidf = grid_search_tree_tfidf.best_estimator_.predict(x_test)\n",
    "print(classification_report(y_test, pred_tree_tfidf))\n",
    "modelTree_tfidf = grid_search_tree_tfidf\n",
    "score_tree_tfidf = grid_search_tree_tfidf.score(x_test, y_test)"
   ],
   "metadata": {
    "collapsed": false,
    "ExecuteTime": {
     "end_time": "2023-10-23T10:16:23.586526200Z",
     "start_time": "2023-10-23T10:16:23.497504500Z"
    }
   },
   "id": "2aa09232e5687a4f"
  },
  {
   "cell_type": "code",
   "execution_count": 59,
   "outputs": [],
   "source": [
    "with open('modelTree_tfidf.pkl', 'wb') as f:\n",
    "    cloudpickle.dump(modelTree_tfidf, f)"
   ],
   "metadata": {
    "collapsed": false,
    "ExecuteTime": {
     "end_time": "2023-10-23T10:16:27.351959600Z",
     "start_time": "2023-10-23T10:16:27.306954500Z"
    }
   },
   "id": "955c617cfe8e5554"
  },
  {
   "cell_type": "code",
   "execution_count": 188,
   "outputs": [],
   "source": [
    "with open('modelTree_tfidf.pkl', 'rb') as f:\n",
    "    modelTree_tfidf = cloudpickle.load(f)\n",
    "score_tree_tfidf = modelTree_tfidf.score(x_test, y_test)"
   ],
   "metadata": {
    "collapsed": false,
    "ExecuteTime": {
     "end_time": "2023-10-05T11:16:05.375487200Z",
     "start_time": "2023-10-05T11:16:05.327596600Z"
    }
   },
   "id": "301a60157a570798"
  },
  {
   "cell_type": "code",
   "execution_count": 60,
   "outputs": [
    {
     "name": "stdout",
     "output_type": "stream",
     "text": [
      "n_iterations: 5\n",
      "n_required_iterations: 9\n",
      "n_possible_iterations: 5\n",
      "min_resources_: 20\n",
      "max_resources_: 2249\n",
      "aggressive_elimination: False\n",
      "factor: 3\n",
      "----------\n",
      "iter: 0\n",
      "n_candidates: 9000\n",
      "n_resources: 20\n",
      "Fitting 5 folds for each of 9000 candidates, totalling 45000 fits\n",
      "----------\n",
      "iter: 1\n",
      "n_candidates: 3000\n",
      "n_resources: 60\n",
      "Fitting 5 folds for each of 3000 candidates, totalling 15000 fits\n",
      "----------\n",
      "iter: 2\n",
      "n_candidates: 1000\n",
      "n_resources: 180\n",
      "Fitting 5 folds for each of 1000 candidates, totalling 5000 fits\n",
      "----------\n",
      "iter: 3\n",
      "n_candidates: 334\n",
      "n_resources: 540\n",
      "Fitting 5 folds for each of 334 candidates, totalling 1670 fits\n",
      "----------\n",
      "iter: 4\n",
      "n_candidates: 112\n",
      "n_resources: 1620\n",
      "Fitting 5 folds for each of 112 candidates, totalling 560 fits\n",
      "CPU times: total: 36 s\n",
      "Wall time: 2min 27s\n"
     ]
    },
    {
     "data": {
      "text/plain": "HalvingGridSearchCV(estimator=Pipeline(steps=[('tfidf', TfidfVectorizer()),\n                                              ('clf',\n                                               DecisionTreeClassifier(random_state=42))]),\n                    n_jobs=20,\n                    param_grid={'clf__max_depth': [4, 6, 8],\n                                'clf__min_samples_leaf': [2, 6, 10, 14, 18],\n                                'clf__min_samples_split': [2, 6, 10, 14, 18],\n                                'tfidf__max_df': array([0.3       , 0.34444444, 0.38888889, 0.43333333, 0.47777778,\n       0.52222222, 0.56666667, 0.61111111, 0.65555556, 0.7       ]),\n                                'tfidf__min_df': [0.0, 0.001, 0.003, 0.005],\n                                'tfidf__ngram_range': [(1, 1), (1, 2), (1, 3)]},\n                    random_state=42, scoring='recall', verbose=1)",
      "text/html": "<style>#sk-container-id-5 {color: black;}#sk-container-id-5 pre{padding: 0;}#sk-container-id-5 div.sk-toggleable {background-color: white;}#sk-container-id-5 label.sk-toggleable__label {cursor: pointer;display: block;width: 100%;margin-bottom: 0;padding: 0.3em;box-sizing: border-box;text-align: center;}#sk-container-id-5 label.sk-toggleable__label-arrow:before {content: \"▸\";float: left;margin-right: 0.25em;color: #696969;}#sk-container-id-5 label.sk-toggleable__label-arrow:hover:before {color: black;}#sk-container-id-5 div.sk-estimator:hover label.sk-toggleable__label-arrow:before {color: black;}#sk-container-id-5 div.sk-toggleable__content {max-height: 0;max-width: 0;overflow: hidden;text-align: left;background-color: #f0f8ff;}#sk-container-id-5 div.sk-toggleable__content pre {margin: 0.2em;color: black;border-radius: 0.25em;background-color: #f0f8ff;}#sk-container-id-5 input.sk-toggleable__control:checked~div.sk-toggleable__content {max-height: 200px;max-width: 100%;overflow: auto;}#sk-container-id-5 input.sk-toggleable__control:checked~label.sk-toggleable__label-arrow:before {content: \"▾\";}#sk-container-id-5 div.sk-estimator input.sk-toggleable__control:checked~label.sk-toggleable__label {background-color: #d4ebff;}#sk-container-id-5 div.sk-label input.sk-toggleable__control:checked~label.sk-toggleable__label {background-color: #d4ebff;}#sk-container-id-5 input.sk-hidden--visually {border: 0;clip: rect(1px 1px 1px 1px);clip: rect(1px, 1px, 1px, 1px);height: 1px;margin: -1px;overflow: hidden;padding: 0;position: absolute;width: 1px;}#sk-container-id-5 div.sk-estimator {font-family: monospace;background-color: #f0f8ff;border: 1px dotted black;border-radius: 0.25em;box-sizing: border-box;margin-bottom: 0.5em;}#sk-container-id-5 div.sk-estimator:hover {background-color: #d4ebff;}#sk-container-id-5 div.sk-parallel-item::after {content: \"\";width: 100%;border-bottom: 1px solid gray;flex-grow: 1;}#sk-container-id-5 div.sk-label:hover label.sk-toggleable__label {background-color: #d4ebff;}#sk-container-id-5 div.sk-serial::before {content: \"\";position: absolute;border-left: 1px solid gray;box-sizing: border-box;top: 0;bottom: 0;left: 50%;z-index: 0;}#sk-container-id-5 div.sk-serial {display: flex;flex-direction: column;align-items: center;background-color: white;padding-right: 0.2em;padding-left: 0.2em;position: relative;}#sk-container-id-5 div.sk-item {position: relative;z-index: 1;}#sk-container-id-5 div.sk-parallel {display: flex;align-items: stretch;justify-content: center;background-color: white;position: relative;}#sk-container-id-5 div.sk-item::before, #sk-container-id-5 div.sk-parallel-item::before {content: \"\";position: absolute;border-left: 1px solid gray;box-sizing: border-box;top: 0;bottom: 0;left: 50%;z-index: -1;}#sk-container-id-5 div.sk-parallel-item {display: flex;flex-direction: column;z-index: 1;position: relative;background-color: white;}#sk-container-id-5 div.sk-parallel-item:first-child::after {align-self: flex-end;width: 50%;}#sk-container-id-5 div.sk-parallel-item:last-child::after {align-self: flex-start;width: 50%;}#sk-container-id-5 div.sk-parallel-item:only-child::after {width: 0;}#sk-container-id-5 div.sk-dashed-wrapped {border: 1px dashed gray;margin: 0 0.4em 0.5em 0.4em;box-sizing: border-box;padding-bottom: 0.4em;background-color: white;}#sk-container-id-5 div.sk-label label {font-family: monospace;font-weight: bold;display: inline-block;line-height: 1.2em;}#sk-container-id-5 div.sk-label-container {text-align: center;}#sk-container-id-5 div.sk-container {/* jupyter's `normalize.less` sets `[hidden] { display: none; }` but bootstrap.min.css set `[hidden] { display: none !important; }` so we also need the `!important` here to be able to override the default hidden behavior on the sphinx rendered scikit-learn.org. See: https://github.com/scikit-learn/scikit-learn/issues/21755 */display: inline-block !important;position: relative;}#sk-container-id-5 div.sk-text-repr-fallback {display: none;}</style><div id=\"sk-container-id-5\" class=\"sk-top-container\"><div class=\"sk-text-repr-fallback\"><pre>HalvingGridSearchCV(estimator=Pipeline(steps=[(&#x27;tfidf&#x27;, TfidfVectorizer()),\n                                              (&#x27;clf&#x27;,\n                                               DecisionTreeClassifier(random_state=42))]),\n                    n_jobs=20,\n                    param_grid={&#x27;clf__max_depth&#x27;: [4, 6, 8],\n                                &#x27;clf__min_samples_leaf&#x27;: [2, 6, 10, 14, 18],\n                                &#x27;clf__min_samples_split&#x27;: [2, 6, 10, 14, 18],\n                                &#x27;tfidf__max_df&#x27;: array([0.3       , 0.34444444, 0.38888889, 0.43333333, 0.47777778,\n       0.52222222, 0.56666667, 0.61111111, 0.65555556, 0.7       ]),\n                                &#x27;tfidf__min_df&#x27;: [0.0, 0.001, 0.003, 0.005],\n                                &#x27;tfidf__ngram_range&#x27;: [(1, 1), (1, 2), (1, 3)]},\n                    random_state=42, scoring=&#x27;recall&#x27;, verbose=1)</pre><b>In a Jupyter environment, please rerun this cell to show the HTML representation or trust the notebook. <br />On GitHub, the HTML representation is unable to render, please try loading this page with nbviewer.org.</b></div><div class=\"sk-container\" hidden><div class=\"sk-item sk-dashed-wrapped\"><div class=\"sk-label-container\"><div class=\"sk-label sk-toggleable\"><input class=\"sk-toggleable__control sk-hidden--visually\" id=\"sk-estimator-id-17\" type=\"checkbox\" ><label for=\"sk-estimator-id-17\" class=\"sk-toggleable__label sk-toggleable__label-arrow\">HalvingGridSearchCV</label><div class=\"sk-toggleable__content\"><pre>HalvingGridSearchCV(estimator=Pipeline(steps=[(&#x27;tfidf&#x27;, TfidfVectorizer()),\n                                              (&#x27;clf&#x27;,\n                                               DecisionTreeClassifier(random_state=42))]),\n                    n_jobs=20,\n                    param_grid={&#x27;clf__max_depth&#x27;: [4, 6, 8],\n                                &#x27;clf__min_samples_leaf&#x27;: [2, 6, 10, 14, 18],\n                                &#x27;clf__min_samples_split&#x27;: [2, 6, 10, 14, 18],\n                                &#x27;tfidf__max_df&#x27;: array([0.3       , 0.34444444, 0.38888889, 0.43333333, 0.47777778,\n       0.52222222, 0.56666667, 0.61111111, 0.65555556, 0.7       ]),\n                                &#x27;tfidf__min_df&#x27;: [0.0, 0.001, 0.003, 0.005],\n                                &#x27;tfidf__ngram_range&#x27;: [(1, 1), (1, 2), (1, 3)]},\n                    random_state=42, scoring=&#x27;recall&#x27;, verbose=1)</pre></div></div></div><div class=\"sk-parallel\"><div class=\"sk-parallel-item\"><div class=\"sk-item\"><div class=\"sk-label-container\"><div class=\"sk-label sk-toggleable\"><input class=\"sk-toggleable__control sk-hidden--visually\" id=\"sk-estimator-id-18\" type=\"checkbox\" ><label for=\"sk-estimator-id-18\" class=\"sk-toggleable__label sk-toggleable__label-arrow\">estimator: Pipeline</label><div class=\"sk-toggleable__content\"><pre>Pipeline(steps=[(&#x27;tfidf&#x27;, TfidfVectorizer()),\n                (&#x27;clf&#x27;, DecisionTreeClassifier(random_state=42))])</pre></div></div></div><div class=\"sk-serial\"><div class=\"sk-item\"><div class=\"sk-serial\"><div class=\"sk-item\"><div class=\"sk-estimator sk-toggleable\"><input class=\"sk-toggleable__control sk-hidden--visually\" id=\"sk-estimator-id-19\" type=\"checkbox\" ><label for=\"sk-estimator-id-19\" class=\"sk-toggleable__label sk-toggleable__label-arrow\">TfidfVectorizer</label><div class=\"sk-toggleable__content\"><pre>TfidfVectorizer()</pre></div></div></div><div class=\"sk-item\"><div class=\"sk-estimator sk-toggleable\"><input class=\"sk-toggleable__control sk-hidden--visually\" id=\"sk-estimator-id-20\" type=\"checkbox\" ><label for=\"sk-estimator-id-20\" class=\"sk-toggleable__label sk-toggleable__label-arrow\">DecisionTreeClassifier</label><div class=\"sk-toggleable__content\"><pre>DecisionTreeClassifier(random_state=42)</pre></div></div></div></div></div></div></div></div></div></div></div></div>"
     },
     "execution_count": 60,
     "metadata": {},
     "output_type": "execute_result"
    }
   ],
   "source": [
    "%%time\n",
    "\n",
    "grid_search_tree_tfidf_h = HalvingGridSearchCV(\n",
    "    pipe_tree_tfidf,\n",
    "    param_grid=param_grid_tree_tfidf,\n",
    "    n_jobs=20,\n",
    "    verbose=1,\n",
    "    cv=cv,\n",
    "    scoring=metric,\n",
    "    random_state=random_state,\n",
    ")\n",
    "grid_search_tree_tfidf_h.fit(x_train, y_train)"
   ],
   "metadata": {
    "collapsed": false,
    "ExecuteTime": {
     "end_time": "2023-10-23T10:18:56.901999900Z",
     "start_time": "2023-10-23T10:16:29.509942300Z"
    }
   },
   "id": "daadbc23d3da0a44"
  },
  {
   "cell_type": "code",
   "execution_count": 63,
   "outputs": [
    {
     "data": {
      "text/plain": "0.8235132602162532"
     },
     "execution_count": 63,
     "metadata": {},
     "output_type": "execute_result"
    }
   ],
   "source": [
    "grid_search_tree_tfidf_h.best_score_"
   ],
   "metadata": {
    "collapsed": false,
    "ExecuteTime": {
     "end_time": "2023-10-23T10:19:49.162185400Z",
     "start_time": "2023-10-23T10:19:49.145489600Z"
    }
   },
   "id": "3e3694fd9c496f48"
  },
  {
   "cell_type": "code",
   "execution_count": 64,
   "outputs": [
    {
     "name": "stdout",
     "output_type": "stream",
     "text": [
      "              precision    recall  f1-score   support\n",
      "\n",
      "           0       0.97      0.97      0.97       627\n",
      "           1       0.86      0.87      0.86       123\n",
      "\n",
      "    accuracy                           0.95       750\n",
      "   macro avg       0.92      0.92      0.92       750\n",
      "weighted avg       0.95      0.95      0.95       750\n",
      "\n",
      "0.8699186991869918 0.8211382113821138\n"
     ]
    }
   ],
   "source": [
    "pred_tree_tfidf_h = grid_search_tree_tfidf_h.best_estimator_.predict(x_test)\n",
    "print(classification_report(y_test, pred_tree_tfidf_h))\n",
    "score_tree_tfidf_h = grid_search_tree_tfidf_h.score(x_test, y_test)\n",
    "print(score_tree_tfidf_h, score_tree_tfidf)"
   ],
   "metadata": {
    "collapsed": false,
    "ExecuteTime": {
     "end_time": "2023-10-23T10:19:51.726123300Z",
     "start_time": "2023-10-23T10:19:51.641856700Z"
    }
   },
   "id": "493b7b8c0ac0f0c"
  },
  {
   "cell_type": "markdown",
   "source": [
    "### MultinomialNB:"
   ],
   "metadata": {
    "collapsed": false
   },
   "id": "ac0bcd1a4da8e3c"
  },
  {
   "cell_type": "code",
   "execution_count": 65,
   "outputs": [
    {
     "name": "stdout",
     "output_type": "stream",
     "text": [
      "Fitting 5 folds for each of 360 candidates, totalling 1800 fits\n"
     ]
    }
   ],
   "source": [
    "pipe_nb_tfidf = Pipeline(\n",
    "    steps=[\n",
    "        ('tfidf', TfidfVectorizer()),\n",
    "        ('clf', MultinomialNB())\n",
    "    ]\n",
    ")\n",
    "param_grid_nb_tfidf = {\n",
    "    'tfidf__max_df': np.linspace(0.3, 0.7, 10),\n",
    "    'tfidf__min_df': [0.0, 0.001, 0.003, 0.005],\n",
    "    'tfidf__ngram_range': [(1, 1), (1, 2), (1, 3)],\n",
    "    'clf__alpha': [0.001, 0.1, 1],\n",
    "}\n",
    "grid_search_nb_tfidf = GridSearchCV(\n",
    "    pipe_nb_tfidf,\n",
    "    param_grid=param_grid_nb_tfidf,\n",
    "    n_jobs=20,\n",
    "    verbose=1,\n",
    "    cv=cv,\n",
    "    scoring=metric,\n",
    ").fit(x_train, y_train)"
   ],
   "metadata": {
    "collapsed": false,
    "ExecuteTime": {
     "end_time": "2023-10-23T10:20:44.241649Z",
     "start_time": "2023-10-23T10:19:54.109648800Z"
    }
   },
   "id": "e349d766bf441885"
  },
  {
   "cell_type": "code",
   "execution_count": 66,
   "outputs": [
    {
     "data": {
      "text/plain": "0.9547719298245614"
     },
     "execution_count": 66,
     "metadata": {},
     "output_type": "execute_result"
    }
   ],
   "source": [
    "grid_search_nb_tfidf.best_score_"
   ],
   "metadata": {
    "collapsed": false,
    "ExecuteTime": {
     "end_time": "2023-10-23T10:20:46.800133100Z",
     "start_time": "2023-10-23T10:20:46.787132400Z"
    }
   },
   "id": "f0d5a66c788cb968"
  },
  {
   "cell_type": "code",
   "execution_count": 67,
   "outputs": [
    {
     "name": "stdout",
     "output_type": "stream",
     "text": [
      "              precision    recall  f1-score   support\n",
      "\n",
      "           0       0.99      1.00      1.00       627\n",
      "           1       1.00      0.96      0.98       123\n",
      "\n",
      "    accuracy                           0.99       750\n",
      "   macro avg       1.00      0.98      0.99       750\n",
      "weighted avg       0.99      0.99      0.99       750\n"
     ]
    }
   ],
   "source": [
    "pred_nb_tfidf = grid_search_nb_tfidf.predict(x_test)\n",
    "print(classification_report(y_test, pred_nb_tfidf))\n",
    "score_nb_tfidf = grid_search_nb_tfidf.score(x_test, y_test)"
   ],
   "metadata": {
    "collapsed": false,
    "ExecuteTime": {
     "end_time": "2023-10-23T10:20:48.678664300Z",
     "start_time": "2023-10-23T10:20:48.552642300Z"
    }
   },
   "id": "4d256e215a3bfa23"
  },
  {
   "cell_type": "code",
   "execution_count": 68,
   "outputs": [
    {
     "name": "stdout",
     "output_type": "stream",
     "text": [
      "n_iterations: 5\n",
      "n_required_iterations: 6\n",
      "n_possible_iterations: 5\n",
      "min_resources_: 20\n",
      "max_resources_: 2249\n",
      "aggressive_elimination: False\n",
      "factor: 3\n",
      "----------\n",
      "iter: 0\n",
      "n_candidates: 360\n",
      "n_resources: 20\n",
      "Fitting 5 folds for each of 360 candidates, totalling 1800 fits\n",
      "----------\n",
      "iter: 1\n",
      "n_candidates: 120\n",
      "n_resources: 60\n",
      "Fitting 5 folds for each of 120 candidates, totalling 600 fits\n",
      "----------\n",
      "iter: 2\n",
      "n_candidates: 40\n",
      "n_resources: 180\n",
      "Fitting 5 folds for each of 40 candidates, totalling 200 fits\n",
      "----------\n",
      "iter: 3\n",
      "n_candidates: 14\n",
      "n_resources: 540\n",
      "Fitting 5 folds for each of 14 candidates, totalling 70 fits\n",
      "----------\n",
      "iter: 4\n",
      "n_candidates: 5\n",
      "n_resources: 1620\n",
      "Fitting 5 folds for each of 5 candidates, totalling 25 fits\n",
      "CPU times: total: 3.52 s\n",
      "Wall time: 6.18 s\n"
     ]
    },
    {
     "data": {
      "text/plain": "HalvingGridSearchCV(estimator=Pipeline(steps=[('tfidf', TfidfVectorizer()),\n                                              ('clf', MultinomialNB())]),\n                    n_jobs=20,\n                    param_grid={'clf__alpha': [0.001, 0.1, 1],\n                                'tfidf__max_df': array([0.3       , 0.34444444, 0.38888889, 0.43333333, 0.47777778,\n       0.52222222, 0.56666667, 0.61111111, 0.65555556, 0.7       ]),\n                                'tfidf__min_df': [0.0, 0.001, 0.003, 0.005],\n                                'tfidf__ngram_range': [(1, 1), (1, 2), (1, 3)]},\n                    random_state=42, scoring='recall', verbose=1)",
      "text/html": "<style>#sk-container-id-6 {color: black;}#sk-container-id-6 pre{padding: 0;}#sk-container-id-6 div.sk-toggleable {background-color: white;}#sk-container-id-6 label.sk-toggleable__label {cursor: pointer;display: block;width: 100%;margin-bottom: 0;padding: 0.3em;box-sizing: border-box;text-align: center;}#sk-container-id-6 label.sk-toggleable__label-arrow:before {content: \"▸\";float: left;margin-right: 0.25em;color: #696969;}#sk-container-id-6 label.sk-toggleable__label-arrow:hover:before {color: black;}#sk-container-id-6 div.sk-estimator:hover label.sk-toggleable__label-arrow:before {color: black;}#sk-container-id-6 div.sk-toggleable__content {max-height: 0;max-width: 0;overflow: hidden;text-align: left;background-color: #f0f8ff;}#sk-container-id-6 div.sk-toggleable__content pre {margin: 0.2em;color: black;border-radius: 0.25em;background-color: #f0f8ff;}#sk-container-id-6 input.sk-toggleable__control:checked~div.sk-toggleable__content {max-height: 200px;max-width: 100%;overflow: auto;}#sk-container-id-6 input.sk-toggleable__control:checked~label.sk-toggleable__label-arrow:before {content: \"▾\";}#sk-container-id-6 div.sk-estimator input.sk-toggleable__control:checked~label.sk-toggleable__label {background-color: #d4ebff;}#sk-container-id-6 div.sk-label input.sk-toggleable__control:checked~label.sk-toggleable__label {background-color: #d4ebff;}#sk-container-id-6 input.sk-hidden--visually {border: 0;clip: rect(1px 1px 1px 1px);clip: rect(1px, 1px, 1px, 1px);height: 1px;margin: -1px;overflow: hidden;padding: 0;position: absolute;width: 1px;}#sk-container-id-6 div.sk-estimator {font-family: monospace;background-color: #f0f8ff;border: 1px dotted black;border-radius: 0.25em;box-sizing: border-box;margin-bottom: 0.5em;}#sk-container-id-6 div.sk-estimator:hover {background-color: #d4ebff;}#sk-container-id-6 div.sk-parallel-item::after {content: \"\";width: 100%;border-bottom: 1px solid gray;flex-grow: 1;}#sk-container-id-6 div.sk-label:hover label.sk-toggleable__label {background-color: #d4ebff;}#sk-container-id-6 div.sk-serial::before {content: \"\";position: absolute;border-left: 1px solid gray;box-sizing: border-box;top: 0;bottom: 0;left: 50%;z-index: 0;}#sk-container-id-6 div.sk-serial {display: flex;flex-direction: column;align-items: center;background-color: white;padding-right: 0.2em;padding-left: 0.2em;position: relative;}#sk-container-id-6 div.sk-item {position: relative;z-index: 1;}#sk-container-id-6 div.sk-parallel {display: flex;align-items: stretch;justify-content: center;background-color: white;position: relative;}#sk-container-id-6 div.sk-item::before, #sk-container-id-6 div.sk-parallel-item::before {content: \"\";position: absolute;border-left: 1px solid gray;box-sizing: border-box;top: 0;bottom: 0;left: 50%;z-index: -1;}#sk-container-id-6 div.sk-parallel-item {display: flex;flex-direction: column;z-index: 1;position: relative;background-color: white;}#sk-container-id-6 div.sk-parallel-item:first-child::after {align-self: flex-end;width: 50%;}#sk-container-id-6 div.sk-parallel-item:last-child::after {align-self: flex-start;width: 50%;}#sk-container-id-6 div.sk-parallel-item:only-child::after {width: 0;}#sk-container-id-6 div.sk-dashed-wrapped {border: 1px dashed gray;margin: 0 0.4em 0.5em 0.4em;box-sizing: border-box;padding-bottom: 0.4em;background-color: white;}#sk-container-id-6 div.sk-label label {font-family: monospace;font-weight: bold;display: inline-block;line-height: 1.2em;}#sk-container-id-6 div.sk-label-container {text-align: center;}#sk-container-id-6 div.sk-container {/* jupyter's `normalize.less` sets `[hidden] { display: none; }` but bootstrap.min.css set `[hidden] { display: none !important; }` so we also need the `!important` here to be able to override the default hidden behavior on the sphinx rendered scikit-learn.org. See: https://github.com/scikit-learn/scikit-learn/issues/21755 */display: inline-block !important;position: relative;}#sk-container-id-6 div.sk-text-repr-fallback {display: none;}</style><div id=\"sk-container-id-6\" class=\"sk-top-container\"><div class=\"sk-text-repr-fallback\"><pre>HalvingGridSearchCV(estimator=Pipeline(steps=[(&#x27;tfidf&#x27;, TfidfVectorizer()),\n                                              (&#x27;clf&#x27;, MultinomialNB())]),\n                    n_jobs=20,\n                    param_grid={&#x27;clf__alpha&#x27;: [0.001, 0.1, 1],\n                                &#x27;tfidf__max_df&#x27;: array([0.3       , 0.34444444, 0.38888889, 0.43333333, 0.47777778,\n       0.52222222, 0.56666667, 0.61111111, 0.65555556, 0.7       ]),\n                                &#x27;tfidf__min_df&#x27;: [0.0, 0.001, 0.003, 0.005],\n                                &#x27;tfidf__ngram_range&#x27;: [(1, 1), (1, 2), (1, 3)]},\n                    random_state=42, scoring=&#x27;recall&#x27;, verbose=1)</pre><b>In a Jupyter environment, please rerun this cell to show the HTML representation or trust the notebook. <br />On GitHub, the HTML representation is unable to render, please try loading this page with nbviewer.org.</b></div><div class=\"sk-container\" hidden><div class=\"sk-item sk-dashed-wrapped\"><div class=\"sk-label-container\"><div class=\"sk-label sk-toggleable\"><input class=\"sk-toggleable__control sk-hidden--visually\" id=\"sk-estimator-id-21\" type=\"checkbox\" ><label for=\"sk-estimator-id-21\" class=\"sk-toggleable__label sk-toggleable__label-arrow\">HalvingGridSearchCV</label><div class=\"sk-toggleable__content\"><pre>HalvingGridSearchCV(estimator=Pipeline(steps=[(&#x27;tfidf&#x27;, TfidfVectorizer()),\n                                              (&#x27;clf&#x27;, MultinomialNB())]),\n                    n_jobs=20,\n                    param_grid={&#x27;clf__alpha&#x27;: [0.001, 0.1, 1],\n                                &#x27;tfidf__max_df&#x27;: array([0.3       , 0.34444444, 0.38888889, 0.43333333, 0.47777778,\n       0.52222222, 0.56666667, 0.61111111, 0.65555556, 0.7       ]),\n                                &#x27;tfidf__min_df&#x27;: [0.0, 0.001, 0.003, 0.005],\n                                &#x27;tfidf__ngram_range&#x27;: [(1, 1), (1, 2), (1, 3)]},\n                    random_state=42, scoring=&#x27;recall&#x27;, verbose=1)</pre></div></div></div><div class=\"sk-parallel\"><div class=\"sk-parallel-item\"><div class=\"sk-item\"><div class=\"sk-label-container\"><div class=\"sk-label sk-toggleable\"><input class=\"sk-toggleable__control sk-hidden--visually\" id=\"sk-estimator-id-22\" type=\"checkbox\" ><label for=\"sk-estimator-id-22\" class=\"sk-toggleable__label sk-toggleable__label-arrow\">estimator: Pipeline</label><div class=\"sk-toggleable__content\"><pre>Pipeline(steps=[(&#x27;tfidf&#x27;, TfidfVectorizer()), (&#x27;clf&#x27;, MultinomialNB())])</pre></div></div></div><div class=\"sk-serial\"><div class=\"sk-item\"><div class=\"sk-serial\"><div class=\"sk-item\"><div class=\"sk-estimator sk-toggleable\"><input class=\"sk-toggleable__control sk-hidden--visually\" id=\"sk-estimator-id-23\" type=\"checkbox\" ><label for=\"sk-estimator-id-23\" class=\"sk-toggleable__label sk-toggleable__label-arrow\">TfidfVectorizer</label><div class=\"sk-toggleable__content\"><pre>TfidfVectorizer()</pre></div></div></div><div class=\"sk-item\"><div class=\"sk-estimator sk-toggleable\"><input class=\"sk-toggleable__control sk-hidden--visually\" id=\"sk-estimator-id-24\" type=\"checkbox\" ><label for=\"sk-estimator-id-24\" class=\"sk-toggleable__label sk-toggleable__label-arrow\">MultinomialNB</label><div class=\"sk-toggleable__content\"><pre>MultinomialNB()</pre></div></div></div></div></div></div></div></div></div></div></div></div>"
     },
     "execution_count": 68,
     "metadata": {},
     "output_type": "execute_result"
    }
   ],
   "source": [
    "%%time\n",
    "grid_search_nb_tfidf_h = HalvingGridSearchCV(\n",
    "    pipe_nb_tfidf,\n",
    "    param_grid=param_grid_nb_tfidf,\n",
    "    n_jobs=20,\n",
    "    verbose=1,\n",
    "    cv=cv,\n",
    "    scoring=metric,\n",
    "    random_state=random_state\n",
    ")\n",
    "grid_search_nb_tfidf_h.fit(x_train, y_train)"
   ],
   "metadata": {
    "collapsed": false,
    "ExecuteTime": {
     "end_time": "2023-10-23T10:20:56.911929900Z",
     "start_time": "2023-10-23T10:20:50.710036700Z"
    }
   },
   "id": "e8a878774b051f34"
  },
  {
   "cell_type": "code",
   "execution_count": 69,
   "outputs": [
    {
     "data": {
      "text/plain": "0.9208879387799362"
     },
     "execution_count": 69,
     "metadata": {},
     "output_type": "execute_result"
    }
   ],
   "source": [
    "grid_search_nb_tfidf_h.best_score_"
   ],
   "metadata": {
    "collapsed": false,
    "ExecuteTime": {
     "end_time": "2023-10-23T10:21:02.614276900Z",
     "start_time": "2023-10-23T10:21:02.598770700Z"
    }
   },
   "id": "922e19826f3647de"
  },
  {
   "cell_type": "code",
   "execution_count": 70,
   "outputs": [
    {
     "name": "stdout",
     "output_type": "stream",
     "text": [
      "              precision    recall  f1-score   support\n",
      "\n",
      "           0       0.99      1.00      1.00       627\n",
      "           1       1.00      0.96      0.98       123\n",
      "\n",
      "    accuracy                           0.99       750\n",
      "   macro avg       1.00      0.98      0.99       750\n",
      "weighted avg       0.99      0.99      0.99       750\n"
     ]
    }
   ],
   "source": [
    "pred_nb_tfidf_h = grid_search_nb_tfidf_h.best_estimator_.predict(x_test)\n",
    "print(classification_report(y_test, pred_nb_tfidf_h))\n",
    "score_nb_tfidf_h = grid_search_nb_tfidf_h.score(x_test, y_test)"
   ],
   "metadata": {
    "collapsed": false,
    "ExecuteTime": {
     "end_time": "2023-10-23T10:21:04.597696600Z",
     "start_time": "2023-10-23T10:21:04.455910400Z"
    }
   },
   "id": "859fc03e1862c793"
  },
  {
   "cell_type": "markdown",
   "source": [
    "## Подведение итогов по TfidfVectorizer\n",
    "Аналогичным образом был построен график для TfidfVectorizer. HalvingGridSearchCV и GridSearchCV тут справились для двух моделей одинаково. По какой-то причине HalvingGridSearchCV нашел для модели \"Дерево решений\" параметры лучше, чем GridSearchCV, который делает полный перебор (что очень странно). Лучший score был достигнут для модели Naive Bayes."
   ],
   "metadata": {
    "collapsed": false
   },
   "id": "92ed9a91598b3b94"
  },
  {
   "cell_type": "code",
   "execution_count": 73,
   "outputs": [
    {
     "data": {
      "text/plain": "<Figure size 640x480 with 1 Axes>",
      "image/png": "[encoded data removed]"
     },
     "metadata": {},
     "output_type": "display_data"
    }
   ],
   "source": [
    "models = ['LogReg', 'Tree', 'NB']\n",
    "data_pred_tfidf = [score_log_reg_tfidf, score_tree_tfidf, score_nb_tfidf]\n",
    "data_pred_tfidf_h = [score_log_reg_tfidf_h, score_tree_tfidf_h, score_nb_tfidf_h]\n",
    "\n",
    "df_tfidf = pd.DataFrame({'model': models, 'GridSearchCV': data_pred_tfidf, 'HalvingGridSearchCV': data_pred_tfidf_h})\n",
    "fig, ax = plt.subplots()\n",
    "bar_width = 0.35\n",
    "\n",
    "GridSearchCV_diagram = ax.bar(df_tfidf['model'], df_tfidf['GridSearchCV'], bar_width, label='GridSearchCV', color='green')\n",
    "HalvingGridSearchCV_diagram = ax.bar(df_tfidf['model'], df_tfidf['HalvingGridSearchCV'], bar_width, label='HalvingGridSearchCV',\n",
    "                                     color='grey', alpha=0.5)\n",
    "\n",
    "ax.set_xlabel('Models')\n",
    "ax.set_ylabel('Scores')\n",
    "ax.set_title('Scores by model and search method for TfidfVectorizer')\n",
    "ax.legend(loc = 'lower center')\n",
    "for i, rect in enumerate(GridSearchCV_diagram):\n",
    "    height = rect.get_height()\n",
    "\n",
    "    ax.annotate('{}'.format(round(height, 2)),\n",
    "                xy=(rect.get_x() + rect.get_width() / 2, height),\n",
    "                xytext=(0, 3),\n",
    "                textcoords=\"offset points\",\n",
    "                ha='center')\n",
    "plt.show()"
   ],
   "metadata": {
    "collapsed": false,
    "ExecuteTime": {
     "end_time": "2023-10-23T10:21:45.187207300Z",
     "start_time": "2023-10-23T10:21:45.101700100Z"
    }
   },
   "id": "59142293a9ebf60f"
  },
  {
   "cell_type": "markdown",
   "source": [
    "# Сравнение результатов по CountVectorizer и TfidfVectorizer\n",
    "Как видно из графика ниже, CountVectorizer показал себя лучше, чем TfidfVectorizer. Сравнения были проделаны по score, который был взят у лучшей модели. Лучшая модель - результат GridSearchCV. Наивысший score был достигнут на модели Naive Bayes как для CountVectorizer, так и для TfidfVectorizer."
   ],
   "metadata": {
    "collapsed": false
   },
   "id": "5c989b390a9445ee"
  },
  {
   "cell_type": "code",
   "execution_count": 75,
   "outputs": [
    {
     "data": {
      "text/plain": "<Figure size 640x480 with 1 Axes>",
      "image/png": "[encoded data removed]"
     },
     "metadata": {},
     "output_type": "display_data"
    }
   ],
   "source": [
    "models = ['LogReg', 'Tree', 'NB']\n",
    "df_compare = pd.DataFrame({'model': models, 'CountVectorizer': data_pred, 'TfidfVectorizer': data_pred_tfidf})\n",
    "fig, ax = plt.subplots()\n",
    "bar_width = 0.35\n",
    "\n",
    "CountVectorizer_diagram = ax.bar(df_compare['model'], df_compare['CountVectorizer'], bar_width, label='CountVectorizer', color='grey')\n",
    "TfidfVectorizer_diagram = ax.bar(df_compare['model'], df_compare['TfidfVectorizer'], bar_width, label='TfidfVectorizer',\n",
    "                                     color='green', alpha=0.8)\n",
    "\n",
    "ax.set_xlabel('Models')\n",
    "ax.set_ylabel('Scores')\n",
    "ax.set_title('CountVectorizer VS TfidfVectorizer')\n",
    "ax.legend(loc = 'lower center')\n",
    "for i, rect in enumerate(CountVectorizer_diagram):\n",
    "    height = rect.get_height()\n",
    "\n",
    "    ax.annotate('{}'.format(round(height, 2)),\n",
    "                xy=(rect.get_x() + rect.get_width() / 2, height),\n",
    "                xytext=(0, 3),\n",
    "                textcoords=\"offset points\",\n",
    "                ha='center')\n",
    "plt.show()"
   ],
   "metadata": {
    "collapsed": false,
    "ExecuteTime": {
     "end_time": "2023-10-23T10:22:08.613758200Z",
     "start_time": "2023-10-23T10:22:08.533750100Z"
    }
   },
   "id": "784670367687dee9"
  }
 ],
 "metadata": {
  "kernelspec": {
   "display_name": "Python 3",
   "language": "python",
   "name": "python3"
  },
  "language_info": {
   "codemirror_mode": {
    "name": "ipython",
    "version": 2
   },
   "file_extension": ".py",
   "mimetype": "text/x-python",
   "name": "python",
   "nbconvert_exporter": "python",
   "pygments_lexer": "ipython2",
   "version": "2.7.6"
  }
 },
 "nbformat": 4,
 "nbformat_minor": 5
}
